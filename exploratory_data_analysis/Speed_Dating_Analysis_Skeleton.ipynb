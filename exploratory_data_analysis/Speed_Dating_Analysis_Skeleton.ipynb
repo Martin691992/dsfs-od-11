{
 "cells": [
  {
   "cell_type": "markdown",
   "id": "0a28ef23",
   "metadata": {},
   "source": [
    "\n",
    "# Speed Dating – Notebook d'analyse (squelette)\n",
    "\n",
    "Ce notebook vous aide à explorer le dataset de **speed dating** (2002–2004) et à répondre à la question :  \n",
    "**Quels facteurs influencent l'acceptation d'un second rendez-vous ?**\n",
    "\n",
    "> **Livrables attendus** : statistiques descriptives, visualisations, et interprétations.\n"
   ]
  },
  {
   "cell_type": "code",
   "execution_count": null,
   "id": "a5d15958",
   "metadata": {},
   "outputs": [],
   "source": [
    "\n",
    "# === Imports ===\n",
    "import os\n",
    "import numpy as np\n",
    "import pandas as pd\n",
    "import matplotlib.pyplot as plt\n",
    "\n",
    "# Règles graphiques du projet : utiliser matplotlib, un graphique par figure, pas de couleurs spécifiées\n",
    "plt.rcParams['figure.figsize'] = (8, 5)\n",
    "pd.set_option('display.max_columns', 120)\n"
   ]
  },
  {
   "cell_type": "markdown",
   "id": "d8f79337",
   "metadata": {},
   "source": [
    "\n",
    "## 1. Chargement des données\n",
    "\n",
    "- Indiquez le chemin vers votre fichier CSV (ou TSV).  \n",
    "- Le dataset classique est souvent nommé `Speed Dating Data.csv` (ou similaire).  \n"
   ]
  },
  {
   "cell_type": "code",
   "execution_count": null,
   "id": "35387cc3",
   "metadata": {},
   "outputs": [],
   "source": [
    "\n",
    "# === Paramètres utilisateur ===\n",
    "DATA_PATH = os.getenv(\"SPEED_DATING_CSV\", \"speed_dating.csv\")  # <-- modifiez si besoin\n",
    "\n",
    "# === Chargement ===\n",
    "# Si votre fichier est séparé par ';' ou '\\t', adaptez le 'sep'.\n",
    "try:\n",
    "    df = pd.read_csv(DATA_PATH)\n",
    "except Exception as e:\n",
    "    print(\"Échec de lecture en CSV, tentative en TSV...\")\n",
    "    try:\n",
    "        df = pd.read_csv(DATA_PATH, sep='\\t')\n",
    "    except Exception as e2:\n",
    "        raise RuntimeError(f\"Impossible de lire le fichier. Mettez à jour DATA_PATH. Détails: {e2}\")\n",
    "\n",
    "print(f\"Shape: {df.shape}\")\n",
    "df.head()\n"
   ]
  },
  {
   "cell_type": "markdown",
   "id": "00d5ffef",
   "metadata": {},
   "source": [
    "\n",
    "## 2. Aperçu & dico des variables\n",
    "\n",
    "- Regard sur la structure (`info`, `describe`, valeurs manquantes).\n",
    "- Rappel des variables clés d'après le *data key* fourni.\n"
   ]
  },
  {
   "cell_type": "code",
   "execution_count": 1,
   "id": "280a9ccd",
   "metadata": {},
   "outputs": [
    {
     "ename": "NameError",
     "evalue": "name 'df' is not defined",
     "output_type": "error",
     "traceback": [
      "\u001b[31m---------------------------------------------------------------------------\u001b[39m",
      "\u001b[31mNameError\u001b[39m                                 Traceback (most recent call last)",
      "\u001b[36mCell\u001b[39m\u001b[36m \u001b[39m\u001b[32mIn[1]\u001b[39m\u001b[32m, line 2\u001b[39m\n\u001b[32m      1\u001b[39m \u001b[38;5;66;03m# Vue d'ensemble\u001b[39;00m\n\u001b[32m----> \u001b[39m\u001b[32m2\u001b[39m display(\u001b[43mdf\u001b[49m.info())\n\u001b[32m      3\u001b[39m display(df.describe(numeric_only=\u001b[38;5;28;01mTrue\u001b[39;00m).T.head(\u001b[32m20\u001b[39m))\n\u001b[32m      5\u001b[39m \u001b[38;5;66;03m# Taux de valeurs manquantes par variable\u001b[39;00m\n",
      "\u001b[31mNameError\u001b[39m: name 'df' is not defined"
     ]
    }
   ],
   "source": [
    "\n",
    "# Vue d'ensemble\n",
    "display(df.info())\n",
    "display(df.describe(numeric_only=True).T.head(20))\n",
    "\n",
    "# Taux de valeurs manquantes par variable\n",
    "na_rate = df.isna().mean().sort_values(ascending=False)\n",
    "na_rate.head(20)\n"
   ]
  },
  {
   "cell_type": "markdown",
   "id": "85b95737",
   "metadata": {},
   "source": [
    "\n",
    "### Variables clés (extrait du Data Key)\n",
    "\n",
    "- **match** (1/0) : match réciproque (deux \"Yes\").  \n",
    "- **dec** / **dec_o** : décision du participant / du partenaire ce soir-là (1=Yes, 0=No).  \n",
    "- **attr, sinc, intel, fun, amb, shar** : notes attribuées au partenaire lors du *date* (1–10).  \n",
    "- **attr_o, ...** : notes que **le partenaire** vous attribue.  \n",
    "- **pf_o_att** : préférences déclarées du partenaire (vagues/échelles différentes selon *wave*).  \n",
    "- **samerace** : 1 si même origine ethnique, 0 sinon.  \n",
    "- **age, age_o** : âge du participant / du partenaire.  \n",
    "- **gender** : 0 = Femme, 1 = Homme.  \n",
    "- **order** : numéro du rendez-vous dans la soirée.  \n",
    "- **attr3_1, ..., amb3_1** : **auto-évaluations** (Time 1).  \n",
    "- **attr1_1, ..., shar1_1** : **importance déclarée** des attributs (Time 1).\n",
    "\n",
    "> ⚠️ Les *waves* ont des échelles différentes (1–10 vs budget 100). Il faudra **normaliser** si on compare.\n"
   ]
  },
  {
   "cell_type": "markdown",
   "id": "caefe61a",
   "metadata": {},
   "source": [
    "\n",
    "## 3. Préparation & nettoyage minimal\n",
    "\n",
    "- Typage des variables (catégorielles vs numériques).  \n",
    "- Harmonisation des variables d'importance (si comparaison inter-*waves*).  \n",
    "- Création de variables dérivées utiles.\n"
   ]
  },
  {
   "cell_type": "code",
   "execution_count": null,
   "id": "0f2e8b71",
   "metadata": {},
   "outputs": [],
   "source": [
    "\n",
    "# Copie de travail\n",
    "data = df.copy()\n",
    "\n",
    "# Harmonisation de quelques types\n",
    "for col in ['match', 'dec', 'dec_o', 'samerace', 'gender']:\n",
    "    if col in data.columns:\n",
    "        data[col] = pd.to_numeric(data[col], errors='coerce')\n",
    "\n",
    "# Sélection de colonnes d'intérêt disponibles\n",
    "rating_cols = [c for c in ['attr','sinc','intel','fun','amb','shar'] if c in data.columns]\n",
    "rating_o_cols = [c for c in ['attr_o','sinc_o','intel_o','fun_o','amb_o','shar_o'] if c in data.columns]\n",
    "\n",
    "# Variable cible (ex. probabilité de \"second date\" côté participant)\n",
    "target = 'dec' if 'dec' in data.columns else ('match' if 'match' in data.columns else None)\n",
    "print(\"Cible choisie:\", target)\n",
    "\n",
    "# Filtre simple : on garde les lignes où la cible est connue\n",
    "if target:\n",
    "    data = data[~data[target].isna()].copy()\n",
    "\n",
    "print(\"Shape après nettoyage minimal:\", data.shape)\n"
   ]
  },
  {
   "cell_type": "markdown",
   "id": "9e3bfa87",
   "metadata": {},
   "source": [
    "\n",
    "## 4. Statistiques descriptives\n",
    "\n",
    "- Répartition par **genre** et **âge**.  \n",
    "- Moyennes des **notes reçues** et **données**.  \n",
    "- Taux de *yes* / *match* global et par genre.\n"
   ]
  },
  {
   "cell_type": "code",
   "execution_count": null,
   "id": "15523393",
   "metadata": {},
   "outputs": [],
   "source": [
    "\n",
    "# Répartition par genre\n",
    "if 'gender' in data.columns:\n",
    "    print(data['gender'].value_counts(dropna=False))\n",
    "\n",
    "# Statistiques d'âge\n",
    "for c in ['age', 'age_o']:\n",
    "    if c in data.columns:\n",
    "        display(data[c].describe())\n",
    "\n",
    "# Taux de \"yes\" (décision) et/ou \"match\"\n",
    "for c in ['dec','dec_o','match']:\n",
    "    if c in data.columns:\n",
    "        rate = data[c].mean()\n",
    "        print(f\"Taux moyen {c}: {rate:.3f}\")\n",
    "        \n",
    "# Moyennes des notes perçues des partenaires (si dispo)\n",
    "if rating_o_cols:\n",
    "    display(data[rating_o_cols].describe().T)\n",
    "\n",
    "# Moyennes des notes données (si dispo)\n",
    "if rating_cols:\n",
    "    display(data[rating_cols].describe().T)\n"
   ]
  },
  {
   "cell_type": "markdown",
   "id": "bd7e499f",
   "metadata": {},
   "source": [
    "\n",
    "## 5. Visualisations\n",
    "\n",
    "> Rappel : matplotlib uniquement, un graphique par figure, pas de couleurs spécifiées.\n",
    "\n",
    "### 5.1 Distributions des notes (histogrammes)\n"
   ]
  },
  {
   "cell_type": "code",
   "execution_count": null,
   "id": "eab4dc23",
   "metadata": {},
   "outputs": [],
   "source": [
    "\n",
    "# Histogrammes des notes données au partenaire\n",
    "for c in rating_cols:\n",
    "    plt.figure()\n",
    "    data[c].dropna().plot(kind='hist', bins=10, edgecolor='black')\n",
    "    plt.title(f\"Distribution de {c}\")\n",
    "    plt.xlabel(c)\n",
    "    plt.ylabel('Fréquence')\n",
    "    plt.show()\n"
   ]
  },
  {
   "cell_type": "markdown",
   "id": "17328af3",
   "metadata": {},
   "source": [
    "\n",
    "### 5.2 Comparaison des notes reçues par genre (boxplots)\n"
   ]
  },
  {
   "cell_type": "code",
   "execution_count": null,
   "id": "cc66bced",
   "metadata": {},
   "outputs": [],
   "source": [
    "\n",
    "if 'gender' in data.columns and rating_o_cols:\n",
    "    for c in rating_o_cols:\n",
    "        plt.figure()\n",
    "        # Boxplot simple par genre\n",
    "        sub = data[['gender', c]].dropna()\n",
    "        groups = [sub[sub['gender']==g][c].values for g in sorted(sub['gender'].dropna().unique())]\n",
    "        plt.boxplot(groups, labels=[str(int(g)) for g in sorted(sub['gender'].dropna().unique())])\n",
    "        plt.title(f\"{c} reçu·e par genre (0=F, 1=H)\")\n",
    "        plt.xlabel('Genre')\n",
    "        plt.ylabel(c)\n",
    "        plt.show()\n"
   ]
  },
  {
   "cell_type": "markdown",
   "id": "168e3d1d",
   "metadata": {},
   "source": [
    "\n",
    "### 5.3 Corrélations avec la décision de second rendez-vous\n"
   ]
  },
  {
   "cell_type": "code",
   "execution_count": null,
   "id": "30b7c620",
   "metadata": {},
   "outputs": [],
   "source": [
    "\n",
    "# Corrélations simples entre notes et décision\n",
    "if target and (rating_cols + rating_o_cols):\n",
    "    num_cols = [c for c in rating_cols + rating_o_cols if c in data.columns]\n",
    "    corr = data[num_cols + [target]].corr(numeric_only=True)[target].sort_values(ascending=False)\n",
    "    display(corr)\n",
    "    \n",
    "    plt.figure()\n",
    "    corr.drop(labels=[target]).plot(kind='bar')\n",
    "    plt.title(f\"Corrélation (Pearson) avec {target}\")\n",
    "    plt.xlabel('Variables')\n",
    "    plt.ylabel('Corrélation')\n",
    "    plt.tight_layout()\n",
    "    plt.show()\n"
   ]
  },
  {
   "cell_type": "markdown",
   "id": "f29d0bef",
   "metadata": {},
   "source": [
    "\n",
    "### 5.4 Shared interests vs Same race\n"
   ]
  },
  {
   "cell_type": "code",
   "execution_count": null,
   "id": "eda2bbc4",
   "metadata": {},
   "outputs": [],
   "source": [
    "\n",
    "# Taux de \"yes\" selon intérêts partagés (approx via 'shar' élevé ?) vs 'samerace'\n",
    "def rate_by_binary(col, threshold=None):\n",
    "    if col not in data.columns:\n",
    "        return None\n",
    "    if threshold is not None:\n",
    "        # Binarisation par seuil si note\n",
    "        s = (data[col] >= threshold).astype(float)\n",
    "    else:\n",
    "        s = data[col]\n",
    "    return data.groupby(s)[target].mean()\n",
    "\n",
    "if target:\n",
    "    # Même race\n",
    "    if 'samerace' in data.columns:\n",
    "        print(\"Taux par même origine ethnique (0/1):\")\n",
    "        print(data.groupby('samerace')[target].mean().round(3))\n",
    "\n",
    "    # Intérêts partagés — proxy : note 'shar' donnée (>=7)\n",
    "    if 'shar' in data.columns:\n",
    "        print(\"\\nTaux par 'shared interests' élevés (shar>=7):\")\n",
    "        res = rate_by_binary('shar', threshold=7)\n",
    "        if res is not None:\n",
    "            print(res.round(3))\n"
   ]
  },
  {
   "cell_type": "markdown",
   "id": "fa3c9d97",
   "metadata": {},
   "source": [
    "\n",
    "### 5.5 Auto-perception vs perception réelle\n"
   ]
  },
  {
   "cell_type": "code",
   "execution_count": null,
   "id": "49c78c42",
   "metadata": {},
   "outputs": [],
   "source": [
    "\n",
    "# Ex.: attractivité auto-évaluée (attr3_1) vs note reçue (attr_o)\n",
    "x_col, y_col = 'attr3_1', 'attr_o'\n",
    "if x_col in data.columns and y_col in data.columns:\n",
    "    sub = data[[x_col, y_col]].dropna()\n",
    "    if not sub.empty:\n",
    "        plt.figure()\n",
    "        plt.scatter(sub[x_col], sub[y_col], alpha=0.4)\n",
    "        plt.title(\"Auto-perception vs perception réelle (Attractivité)\")\n",
    "        plt.xlabel(\"Auto-évaluation (attr3_1)\")\n",
    "        plt.ylabel(\"Note reçue (attr_o)\")\n",
    "        plt.show()\n",
    "        corr_xy = sub.corr(numeric_only=True).loc[x_col, y_col]\n",
    "        print(f\"Corrélation {x_col} vs {y_col}: {corr_xy:.3f}\")\n"
   ]
  },
  {
   "cell_type": "markdown",
   "id": "a91e2965",
   "metadata": {},
   "source": [
    "\n",
    "### 5.6 Effet de l'ordre dans la soirée\n"
   ]
  },
  {
   "cell_type": "code",
   "execution_count": null,
   "id": "da3e7d28",
   "metadata": {},
   "outputs": [],
   "source": [
    "\n",
    "if target and 'order' in data.columns:\n",
    "    order_rate = data.groupby('order')[target].mean()\n",
    "    plt.figure()\n",
    "    order_rate.plot(kind='line', marker='o')\n",
    "    plt.title(f\"Taux de {target} selon l'ordre du rendez-vous\")\n",
    "    plt.xlabel(\"Ordre dans la soirée\")\n",
    "    plt.ylabel(f\"Taux de {target}\")\n",
    "    plt.tight_layout()\n",
    "    plt.show()\n",
    "    order_rate.head()\n"
   ]
  },
  {
   "cell_type": "markdown",
   "id": "77b2a8aa",
   "metadata": {},
   "source": [
    "\n",
    "## 6. (Optionnel) Modèle explicatif simple\n",
    "\n",
    "Un modèle logistique **interprétable** permet d'estimer l'effet marginal de quelques variables (contrôles simples).  \n",
    "> ⚠️ Cette cellule suppose `scikit-learn` disponible. Sinon, laissez-la de côté.\n"
   ]
  },
  {
   "cell_type": "code",
   "execution_count": null,
   "id": "0f569f00",
   "metadata": {},
   "outputs": [],
   "source": [
    "\n",
    "try:\n",
    "    from sklearn.linear_model import LogisticRegression\n",
    "    from sklearn.preprocessing import StandardScaler\n",
    "    from sklearn.pipeline import Pipeline\n",
    "except Exception as e:\n",
    "    print(\"scikit-learn indisponible. Passez cette section si nécessaire.\")\n",
    "    LogisticRegression = None\n",
    "\n",
    "if target and LogisticRegression is not None:\n",
    "    features = [c for c in ['attr_o','sinc_o','intel_o','fun_o','amb_o','shar_o','age_o','samerace','order','gender'] if c in data.columns]\n",
    "    sub = data.dropna(subset=[target] + features).copy()\n",
    "    if not sub.empty:\n",
    "        X = sub[features].values\n",
    "        y = sub[target].values.astype(int)\n",
    "\n",
    "        pipe = Pipeline([('scaler', StandardScaler(with_mean=True)), \n",
    "                         ('clf', LogisticRegression(max_iter=200, solver='lbfgs'))])\n",
    "        pipe.fit(X, y)\n",
    "\n",
    "        coefs = pipe.named_steps['clf'].coef_[0]\n",
    "        coef_df = pd.DataFrame({'feature': features, 'coef': coefs}).sort_values('coef', ascending=False)\n",
    "        display(coef_df)\n",
    "\n",
    "        plt.figure()\n",
    "        coef_df.set_index('feature')['coef'].plot(kind='bar')\n",
    "        plt.title(\"Coefficients (log-odds) – modèle logistique\")\n",
    "        plt.xlabel('Variables')\n",
    "        plt.ylabel('Coefficient')\n",
    "        plt.tight_layout()\n",
    "        plt.show()\n",
    "    else:\n",
    "        print(\"Échantillon vide après suppression des NA pour le modèle.\")\n"
   ]
  },
  {
   "cell_type": "markdown",
   "id": "e8020b87",
   "metadata": {},
   "source": [
    "\n",
    "## 7. Interprétation & insights\n",
    "\n",
    "- **Quel(s) attribut(s)** ressort(ent) comme les plus liés au second rendez-vous ?  \n",
    "- **Différences H/F** (si visibles).  \n",
    "- **Intérêts partagés vs même origine** : lequel pèse le plus ?  \n",
    "- **Auto-perception vs réel** : corrélation faible/forte ?  \n",
    "- **Effet de l'ordre** : tendance notable ?\n",
    "\n",
    "> **Implications pour Tinder** : comment améliorer les profils (photos, hobbies, mise en avant des centres d'intérêts), UX (ordre/rotation), et la personnalisation.\n"
   ]
  },
  {
   "cell_type": "markdown",
   "id": "1d986a88",
   "metadata": {},
   "source": [
    "\n",
    "## 8. Conclusion\n",
    "\n",
    "- Récapitulatif des insights clés.  \n",
    "- Limites (biais d'échantillon, anciennes vagues, échelles différentes selon *wave*).  \n",
    "- Ouverture (modèles prédictifs, tests de robustesse, segments d'utilisateurs).  \n"
   ]
  }
 ],
 "metadata": {
  "kernelspec": {
   "display_name": "venv",
   "language": "python",
   "name": "python3"
  },
  "language_info": {
   "codemirror_mode": {
    "name": "ipython",
    "version": 3
   },
   "file_extension": ".py",
   "mimetype": "text/x-python",
   "name": "python",
   "nbconvert_exporter": "python",
   "pygments_lexer": "ipython3",
   "version": "3.13.1"
  }
 },
 "nbformat": 4,
 "nbformat_minor": 5
}
