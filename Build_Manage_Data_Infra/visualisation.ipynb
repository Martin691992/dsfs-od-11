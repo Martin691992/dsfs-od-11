{
 "cells": [
  {
   "cell_type": "code",
   "execution_count": 67,
   "id": "1d9cf756",
   "metadata": {},
   "outputs": [
    {
     "data": {
      "text/html": [
       "<div>\n",
       "<style scoped>\n",
       "    .dataframe tbody tr th:only-of-type {\n",
       "        vertical-align: middle;\n",
       "    }\n",
       "\n",
       "    .dataframe tbody tr th {\n",
       "        vertical-align: top;\n",
       "    }\n",
       "\n",
       "    .dataframe thead th {\n",
       "        text-align: right;\n",
       "    }\n",
       "</style>\n",
       "<table border=\"1\" class=\"dataframe\">\n",
       "  <thead>\n",
       "    <tr style=\"text-align: right;\">\n",
       "      <th></th>\n",
       "      <th>id_ville</th>\n",
       "      <th>ville</th>\n",
       "      <th>nom_hotel</th>\n",
       "      <th>description_meteo</th>\n",
       "      <th>lat</th>\n",
       "      <th>lon</th>\n",
       "      <th>precipitation</th>\n",
       "      <th>temperature</th>\n",
       "    </tr>\n",
       "    <tr>\n",
       "      <th>id</th>\n",
       "      <th></th>\n",
       "      <th></th>\n",
       "      <th></th>\n",
       "      <th></th>\n",
       "      <th></th>\n",
       "      <th></th>\n",
       "      <th></th>\n",
       "      <th></th>\n",
       "    </tr>\n",
       "  </thead>\n",
       "  <tbody>\n",
       "    <tr>\n",
       "      <th>1</th>\n",
       "      <td>2</td>\n",
       "      <td>Bayeux</td>\n",
       "      <td>Hotel Le Lion D'Or et Restaurant La Table Du Lion</td>\n",
       "      <td>couvert</td>\n",
       "      <td>49.2765</td>\n",
       "      <td>-0.702474</td>\n",
       "      <td>0.0</td>\n",
       "      <td>16.75</td>\n",
       "    </tr>\n",
       "    <tr>\n",
       "      <th>2</th>\n",
       "      <td>2</td>\n",
       "      <td>Bayeux</td>\n",
       "      <td>Grand Hôtel du Luxembourg &amp; Spa</td>\n",
       "      <td>couvert</td>\n",
       "      <td>49.2765</td>\n",
       "      <td>-0.702474</td>\n",
       "      <td>0.0</td>\n",
       "      <td>16.75</td>\n",
       "    </tr>\n",
       "    <tr>\n",
       "      <th>3</th>\n",
       "      <td>2</td>\n",
       "      <td>Bayeux</td>\n",
       "      <td>Hôtel De Brunville &amp; Spa</td>\n",
       "      <td>couvert</td>\n",
       "      <td>49.2765</td>\n",
       "      <td>-0.702474</td>\n",
       "      <td>0.0</td>\n",
       "      <td>16.75</td>\n",
       "    </tr>\n",
       "    <tr>\n",
       "      <th>4</th>\n",
       "      <td>2</td>\n",
       "      <td>Bayeux</td>\n",
       "      <td>Hotel Reine Mathilde</td>\n",
       "      <td>couvert</td>\n",
       "      <td>49.2765</td>\n",
       "      <td>-0.702474</td>\n",
       "      <td>0.0</td>\n",
       "      <td>16.75</td>\n",
       "    </tr>\n",
       "    <tr>\n",
       "      <th>5</th>\n",
       "      <td>2</td>\n",
       "      <td>Bayeux</td>\n",
       "      <td>Domaine de Bayeux</td>\n",
       "      <td>couvert</td>\n",
       "      <td>49.2765</td>\n",
       "      <td>-0.702474</td>\n",
       "      <td>0.0</td>\n",
       "      <td>16.75</td>\n",
       "    </tr>\n",
       "  </tbody>\n",
       "</table>\n",
       "</div>"
      ],
      "text/plain": [
       "    id_ville   ville                                          nom_hotel  \\\n",
       "id                                                                        \n",
       "1          2  Bayeux  Hotel Le Lion D'Or et Restaurant La Table Du Lion   \n",
       "2          2  Bayeux                    Grand Hôtel du Luxembourg & Spa   \n",
       "3          2  Bayeux                           Hôtel De Brunville & Spa   \n",
       "4          2  Bayeux                               Hotel Reine Mathilde   \n",
       "5          2  Bayeux                                  Domaine de Bayeux   \n",
       "\n",
       "   description_meteo      lat       lon  precipitation  temperature  \n",
       "id                                                                   \n",
       "1            couvert  49.2765 -0.702474            0.0        16.75  \n",
       "2            couvert  49.2765 -0.702474            0.0        16.75  \n",
       "3            couvert  49.2765 -0.702474            0.0        16.75  \n",
       "4            couvert  49.2765 -0.702474            0.0        16.75  \n",
       "5            couvert  49.2765 -0.702474            0.0        16.75  "
      ]
     },
     "execution_count": 67,
     "metadata": {},
     "output_type": "execute_result"
    }
   ],
   "source": [
    "import pandas as pd\n",
    "import plotly.express as px\n",
    "\n",
    "\n",
    "from etl_sql.sqlAlchemy.connect import AlchemyConn\n",
    "\n",
    "\n",
    "engine = AlchemyConn()\n",
    "\n",
    "df_hotels = pd.read_sql('SELECT hotels.id, hotels.id_ville, hotels.ville, hotels.nom_hotel, wheather.description_meteo, wheather.lat, wheather.lon, wheather.precipitation, wheather.temperature FROM hotels INNER JOIN wheather ON hotels.id_ville = wheather.id_ville', con=engine.engine)\n",
    "df_hotels.set_index('id',inplace=True)\n",
    "df_hotels.head()"
   ]
  },
  {
   "cell_type": "code",
   "execution_count": 68,
   "id": "01640677",
   "metadata": {},
   "outputs": [
    {
     "data": {
      "text/plain": [
       "(1050, 8)"
      ]
     },
     "execution_count": 68,
     "metadata": {},
     "output_type": "execute_result"
    }
   ],
   "source": [
    "df_hotels.shape"
   ]
  },
  {
   "cell_type": "code",
   "execution_count": 75,
   "id": "2f654c66",
   "metadata": {},
   "outputs": [
    {
     "data": {
      "text/html": [
       "<div>\n",
       "<style scoped>\n",
       "    .dataframe tbody tr th:only-of-type {\n",
       "        vertical-align: middle;\n",
       "    }\n",
       "\n",
       "    .dataframe tbody tr th {\n",
       "        vertical-align: top;\n",
       "    }\n",
       "\n",
       "    .dataframe thead th {\n",
       "        text-align: right;\n",
       "    }\n",
       "</style>\n",
       "<table border=\"1\" class=\"dataframe\">\n",
       "  <thead>\n",
       "    <tr style=\"text-align: right;\">\n",
       "      <th></th>\n",
       "      <th>ville</th>\n",
       "      <th>id_ville</th>\n",
       "      <th>description_meteo</th>\n",
       "      <th>precipitation</th>\n",
       "      <th>temperature</th>\n",
       "      <th>lat</th>\n",
       "      <th>lon</th>\n",
       "    </tr>\n",
       "  </thead>\n",
       "  <tbody>\n",
       "    <tr>\n",
       "      <th>14</th>\n",
       "      <td>Collioure</td>\n",
       "      <td>27</td>\n",
       "      <td>ciel dégagé</td>\n",
       "      <td>0.0</td>\n",
       "      <td>25.45</td>\n",
       "      <td>42.5251</td>\n",
       "      <td>3.08316</td>\n",
       "    </tr>\n",
       "    <tr>\n",
       "      <th>1</th>\n",
       "      <td>Aix-en-Provence</td>\n",
       "      <td>21</td>\n",
       "      <td>ciel dégagé</td>\n",
       "      <td>0.0</td>\n",
       "      <td>25.37</td>\n",
       "      <td>43.5298</td>\n",
       "      <td>5.44747</td>\n",
       "    </tr>\n",
       "    <tr>\n",
       "      <th>24</th>\n",
       "      <td>Marseille</td>\n",
       "      <td>20</td>\n",
       "      <td>ciel dégagé</td>\n",
       "      <td>0.0</td>\n",
       "      <td>25.07</td>\n",
       "      <td>43.2962</td>\n",
       "      <td>5.36995</td>\n",
       "    </tr>\n",
       "    <tr>\n",
       "      <th>27</th>\n",
       "      <td>Nîmes</td>\n",
       "      <td>24</td>\n",
       "      <td>ciel dégagé</td>\n",
       "      <td>0.0</td>\n",
       "      <td>24.94</td>\n",
       "      <td>43.8374</td>\n",
       "      <td>4.36007</td>\n",
       "    </tr>\n",
       "    <tr>\n",
       "      <th>12</th>\n",
       "      <td>Cassis</td>\n",
       "      <td>19</td>\n",
       "      <td>ciel dégagé</td>\n",
       "      <td>0.0</td>\n",
       "      <td>24.61</td>\n",
       "      <td>43.2140</td>\n",
       "      <td>5.53963</td>\n",
       "    </tr>\n",
       "  </tbody>\n",
       "</table>\n",
       "</div>"
      ],
      "text/plain": [
       "              ville  id_ville description_meteo  precipitation  temperature  \\\n",
       "14        Collioure        27       ciel dégagé            0.0        25.45   \n",
       "1   Aix-en-Provence        21       ciel dégagé            0.0        25.37   \n",
       "24        Marseille        20       ciel dégagé            0.0        25.07   \n",
       "27            Nîmes        24       ciel dégagé            0.0        24.94   \n",
       "12           Cassis        19       ciel dégagé            0.0        24.61   \n",
       "\n",
       "        lat      lon  \n",
       "14  42.5251  3.08316  \n",
       "1   43.5298  5.44747  \n",
       "24  43.2962  5.36995  \n",
       "27  43.8374  4.36007  \n",
       "12  43.2140  5.53963  "
      ]
     },
     "execution_count": 75,
     "metadata": {},
     "output_type": "execute_result"
    }
   ],
   "source": [
    "top5_destinations = df_hotels[['ville','id_ville','description_meteo','precipitation','temperature','lat','lon']].groupby('ville',as_index=False).first()\n",
    "top5_destinations = top5_destinations.sort_values(by=['temperature', 'precipitation'], ascending=[False, True])\n",
    "top5_destinations = top5_destinations[:5]\n",
    "top5_destinations\n"
   ]
  },
  {
   "cell_type": "code",
   "execution_count": 76,
   "id": "ed5427be",
   "metadata": {},
   "outputs": [
    {
     "data": {
      "application/vnd.plotly.v1+json": {
       "config": {
        "plotlyServerURL": "https://plot.ly"
       },
       "data": [
        {
         "hovertemplate": "<b>%{hovertext}</b><br><br>temperature=%{marker.color}<br>lat=%{lat}<br>lon=%{lon}<extra></extra>",
         "hovertext": [
          "Collioure",
          "Aix-en-Provence",
          "Marseille",
          "Nîmes",
          "Cassis"
         ],
         "lat": {
          "bdata": "l5APejZDRUDdtYR80MNFQKCJsOHppUVA0NVW7C/rRUAIrBxaZJtFQA==",
          "dtype": "f8"
         },
         "legendgroup": "",
         "lon": {
          "bdata": "0a5Cyk+qCEC1w1+TNcoVQO2ePCzUehVAOBWpMLZwEUANw0fElCgWQA==",
          "dtype": "f8"
         },
         "marker": {
          "color": {
           "bdata": "MzMzMzNzOUAfhetRuF45QFK4HoXrETlAcT0K16PwOEBcj8L1KJw4QA==",
           "dtype": "f8"
          },
          "coloraxis": "coloraxis",
          "size": {
           "bdata": "MzMzMzNzOUAfhetRuF45QFK4HoXrETlAcT0K16PwOEBcj8L1KJw4QA==",
           "dtype": "f8"
          },
          "sizemode": "area",
          "sizeref": 0.063625
         },
         "mode": "markers",
         "name": "",
         "showlegend": false,
         "subplot": "map",
         "type": "scattermap"
        }
       ],
       "layout": {
        "coloraxis": {
         "colorbar": {
          "title": {
           "text": "temperature"
          }
         },
         "colorscale": [
          [
           0,
           "#0d0887"
          ],
          [
           0.1111111111111111,
           "#46039f"
          ],
          [
           0.2222222222222222,
           "#7201a8"
          ],
          [
           0.3333333333333333,
           "#9c179e"
          ],
          [
           0.4444444444444444,
           "#bd3786"
          ],
          [
           0.5555555555555556,
           "#d8576b"
          ],
          [
           0.6666666666666666,
           "#ed7953"
          ],
          [
           0.7777777777777778,
           "#fb9f3a"
          ],
          [
           0.8888888888888888,
           "#fdca26"
          ],
          [
           1,
           "#f0f921"
          ]
         ]
        },
        "height": 500,
        "legend": {
         "itemsizing": "constant",
         "tracegroupgap": 0
        },
        "map": {
         "center": {
          "lat": 43.2805,
          "lon": 4.7600560000000005
         },
         "domain": {
          "x": [
           0,
           1
          ],
          "y": [
           0,
           1
          ]
         },
         "style": "carto-positron",
         "zoom": 4
        },
        "mapbox": {
         "center": {
          "lat": 43.2805,
          "lon": 4.7600560000000005
         },
         "style": "carto-positron",
         "zoom": 4
        },
        "template": {
         "data": {
          "bar": [
           {
            "error_x": {
             "color": "#2a3f5f"
            },
            "error_y": {
             "color": "#2a3f5f"
            },
            "marker": {
             "line": {
              "color": "#E5ECF6",
              "width": 0.5
             },
             "pattern": {
              "fillmode": "overlay",
              "size": 10,
              "solidity": 0.2
             }
            },
            "type": "bar"
           }
          ],
          "barpolar": [
           {
            "marker": {
             "line": {
              "color": "#E5ECF6",
              "width": 0.5
             },
             "pattern": {
              "fillmode": "overlay",
              "size": 10,
              "solidity": 0.2
             }
            },
            "type": "barpolar"
           }
          ],
          "carpet": [
           {
            "aaxis": {
             "endlinecolor": "#2a3f5f",
             "gridcolor": "white",
             "linecolor": "white",
             "minorgridcolor": "white",
             "startlinecolor": "#2a3f5f"
            },
            "baxis": {
             "endlinecolor": "#2a3f5f",
             "gridcolor": "white",
             "linecolor": "white",
             "minorgridcolor": "white",
             "startlinecolor": "#2a3f5f"
            },
            "type": "carpet"
           }
          ],
          "choropleth": [
           {
            "colorbar": {
             "outlinewidth": 0,
             "ticks": ""
            },
            "type": "choropleth"
           }
          ],
          "contour": [
           {
            "colorbar": {
             "outlinewidth": 0,
             "ticks": ""
            },
            "colorscale": [
             [
              0,
              "#0d0887"
             ],
             [
              0.1111111111111111,
              "#46039f"
             ],
             [
              0.2222222222222222,
              "#7201a8"
             ],
             [
              0.3333333333333333,
              "#9c179e"
             ],
             [
              0.4444444444444444,
              "#bd3786"
             ],
             [
              0.5555555555555556,
              "#d8576b"
             ],
             [
              0.6666666666666666,
              "#ed7953"
             ],
             [
              0.7777777777777778,
              "#fb9f3a"
             ],
             [
              0.8888888888888888,
              "#fdca26"
             ],
             [
              1,
              "#f0f921"
             ]
            ],
            "type": "contour"
           }
          ],
          "contourcarpet": [
           {
            "colorbar": {
             "outlinewidth": 0,
             "ticks": ""
            },
            "type": "contourcarpet"
           }
          ],
          "heatmap": [
           {
            "colorbar": {
             "outlinewidth": 0,
             "ticks": ""
            },
            "colorscale": [
             [
              0,
              "#0d0887"
             ],
             [
              0.1111111111111111,
              "#46039f"
             ],
             [
              0.2222222222222222,
              "#7201a8"
             ],
             [
              0.3333333333333333,
              "#9c179e"
             ],
             [
              0.4444444444444444,
              "#bd3786"
             ],
             [
              0.5555555555555556,
              "#d8576b"
             ],
             [
              0.6666666666666666,
              "#ed7953"
             ],
             [
              0.7777777777777778,
              "#fb9f3a"
             ],
             [
              0.8888888888888888,
              "#fdca26"
             ],
             [
              1,
              "#f0f921"
             ]
            ],
            "type": "heatmap"
           }
          ],
          "histogram": [
           {
            "marker": {
             "pattern": {
              "fillmode": "overlay",
              "size": 10,
              "solidity": 0.2
             }
            },
            "type": "histogram"
           }
          ],
          "histogram2d": [
           {
            "colorbar": {
             "outlinewidth": 0,
             "ticks": ""
            },
            "colorscale": [
             [
              0,
              "#0d0887"
             ],
             [
              0.1111111111111111,
              "#46039f"
             ],
             [
              0.2222222222222222,
              "#7201a8"
             ],
             [
              0.3333333333333333,
              "#9c179e"
             ],
             [
              0.4444444444444444,
              "#bd3786"
             ],
             [
              0.5555555555555556,
              "#d8576b"
             ],
             [
              0.6666666666666666,
              "#ed7953"
             ],
             [
              0.7777777777777778,
              "#fb9f3a"
             ],
             [
              0.8888888888888888,
              "#fdca26"
             ],
             [
              1,
              "#f0f921"
             ]
            ],
            "type": "histogram2d"
           }
          ],
          "histogram2dcontour": [
           {
            "colorbar": {
             "outlinewidth": 0,
             "ticks": ""
            },
            "colorscale": [
             [
              0,
              "#0d0887"
             ],
             [
              0.1111111111111111,
              "#46039f"
             ],
             [
              0.2222222222222222,
              "#7201a8"
             ],
             [
              0.3333333333333333,
              "#9c179e"
             ],
             [
              0.4444444444444444,
              "#bd3786"
             ],
             [
              0.5555555555555556,
              "#d8576b"
             ],
             [
              0.6666666666666666,
              "#ed7953"
             ],
             [
              0.7777777777777778,
              "#fb9f3a"
             ],
             [
              0.8888888888888888,
              "#fdca26"
             ],
             [
              1,
              "#f0f921"
             ]
            ],
            "type": "histogram2dcontour"
           }
          ],
          "mesh3d": [
           {
            "colorbar": {
             "outlinewidth": 0,
             "ticks": ""
            },
            "type": "mesh3d"
           }
          ],
          "parcoords": [
           {
            "line": {
             "colorbar": {
              "outlinewidth": 0,
              "ticks": ""
             }
            },
            "type": "parcoords"
           }
          ],
          "pie": [
           {
            "automargin": true,
            "type": "pie"
           }
          ],
          "scatter": [
           {
            "fillpattern": {
             "fillmode": "overlay",
             "size": 10,
             "solidity": 0.2
            },
            "type": "scatter"
           }
          ],
          "scatter3d": [
           {
            "line": {
             "colorbar": {
              "outlinewidth": 0,
              "ticks": ""
             }
            },
            "marker": {
             "colorbar": {
              "outlinewidth": 0,
              "ticks": ""
             }
            },
            "type": "scatter3d"
           }
          ],
          "scattercarpet": [
           {
            "marker": {
             "colorbar": {
              "outlinewidth": 0,
              "ticks": ""
             }
            },
            "type": "scattercarpet"
           }
          ],
          "scattergeo": [
           {
            "marker": {
             "colorbar": {
              "outlinewidth": 0,
              "ticks": ""
             }
            },
            "type": "scattergeo"
           }
          ],
          "scattergl": [
           {
            "marker": {
             "colorbar": {
              "outlinewidth": 0,
              "ticks": ""
             }
            },
            "type": "scattergl"
           }
          ],
          "scattermap": [
           {
            "marker": {
             "colorbar": {
              "outlinewidth": 0,
              "ticks": ""
             }
            },
            "type": "scattermap"
           }
          ],
          "scattermapbox": [
           {
            "marker": {
             "colorbar": {
              "outlinewidth": 0,
              "ticks": ""
             }
            },
            "type": "scattermapbox"
           }
          ],
          "scatterpolar": [
           {
            "marker": {
             "colorbar": {
              "outlinewidth": 0,
              "ticks": ""
             }
            },
            "type": "scatterpolar"
           }
          ],
          "scatterpolargl": [
           {
            "marker": {
             "colorbar": {
              "outlinewidth": 0,
              "ticks": ""
             }
            },
            "type": "scatterpolargl"
           }
          ],
          "scatterternary": [
           {
            "marker": {
             "colorbar": {
              "outlinewidth": 0,
              "ticks": ""
             }
            },
            "type": "scatterternary"
           }
          ],
          "surface": [
           {
            "colorbar": {
             "outlinewidth": 0,
             "ticks": ""
            },
            "colorscale": [
             [
              0,
              "#0d0887"
             ],
             [
              0.1111111111111111,
              "#46039f"
             ],
             [
              0.2222222222222222,
              "#7201a8"
             ],
             [
              0.3333333333333333,
              "#9c179e"
             ],
             [
              0.4444444444444444,
              "#bd3786"
             ],
             [
              0.5555555555555556,
              "#d8576b"
             ],
             [
              0.6666666666666666,
              "#ed7953"
             ],
             [
              0.7777777777777778,
              "#fb9f3a"
             ],
             [
              0.8888888888888888,
              "#fdca26"
             ],
             [
              1,
              "#f0f921"
             ]
            ],
            "type": "surface"
           }
          ],
          "table": [
           {
            "cells": {
             "fill": {
              "color": "#EBF0F8"
             },
             "line": {
              "color": "white"
             }
            },
            "header": {
             "fill": {
              "color": "#C8D4E3"
             },
             "line": {
              "color": "white"
             }
            },
            "type": "table"
           }
          ]
         },
         "layout": {
          "annotationdefaults": {
           "arrowcolor": "#2a3f5f",
           "arrowhead": 0,
           "arrowwidth": 1
          },
          "autotypenumbers": "strict",
          "coloraxis": {
           "colorbar": {
            "outlinewidth": 0,
            "ticks": ""
           }
          },
          "colorscale": {
           "diverging": [
            [
             0,
             "#8e0152"
            ],
            [
             0.1,
             "#c51b7d"
            ],
            [
             0.2,
             "#de77ae"
            ],
            [
             0.3,
             "#f1b6da"
            ],
            [
             0.4,
             "#fde0ef"
            ],
            [
             0.5,
             "#f7f7f7"
            ],
            [
             0.6,
             "#e6f5d0"
            ],
            [
             0.7,
             "#b8e186"
            ],
            [
             0.8,
             "#7fbc41"
            ],
            [
             0.9,
             "#4d9221"
            ],
            [
             1,
             "#276419"
            ]
           ],
           "sequential": [
            [
             0,
             "#0d0887"
            ],
            [
             0.1111111111111111,
             "#46039f"
            ],
            [
             0.2222222222222222,
             "#7201a8"
            ],
            [
             0.3333333333333333,
             "#9c179e"
            ],
            [
             0.4444444444444444,
             "#bd3786"
            ],
            [
             0.5555555555555556,
             "#d8576b"
            ],
            [
             0.6666666666666666,
             "#ed7953"
            ],
            [
             0.7777777777777778,
             "#fb9f3a"
            ],
            [
             0.8888888888888888,
             "#fdca26"
            ],
            [
             1,
             "#f0f921"
            ]
           ],
           "sequentialminus": [
            [
             0,
             "#0d0887"
            ],
            [
             0.1111111111111111,
             "#46039f"
            ],
            [
             0.2222222222222222,
             "#7201a8"
            ],
            [
             0.3333333333333333,
             "#9c179e"
            ],
            [
             0.4444444444444444,
             "#bd3786"
            ],
            [
             0.5555555555555556,
             "#d8576b"
            ],
            [
             0.6666666666666666,
             "#ed7953"
            ],
            [
             0.7777777777777778,
             "#fb9f3a"
            ],
            [
             0.8888888888888888,
             "#fdca26"
            ],
            [
             1,
             "#f0f921"
            ]
           ]
          },
          "colorway": [
           "#636efa",
           "#EF553B",
           "#00cc96",
           "#ab63fa",
           "#FFA15A",
           "#19d3f3",
           "#FF6692",
           "#B6E880",
           "#FF97FF",
           "#FECB52"
          ],
          "font": {
           "color": "#2a3f5f"
          },
          "geo": {
           "bgcolor": "white",
           "lakecolor": "white",
           "landcolor": "#E5ECF6",
           "showlakes": true,
           "showland": true,
           "subunitcolor": "white"
          },
          "hoverlabel": {
           "align": "left"
          },
          "hovermode": "closest",
          "mapbox": {
           "style": "light"
          },
          "paper_bgcolor": "white",
          "plot_bgcolor": "#E5ECF6",
          "polar": {
           "angularaxis": {
            "gridcolor": "white",
            "linecolor": "white",
            "ticks": ""
           },
           "bgcolor": "#E5ECF6",
           "radialaxis": {
            "gridcolor": "white",
            "linecolor": "white",
            "ticks": ""
           }
          },
          "scene": {
           "xaxis": {
            "backgroundcolor": "#E5ECF6",
            "gridcolor": "white",
            "gridwidth": 2,
            "linecolor": "white",
            "showbackground": true,
            "ticks": "",
            "zerolinecolor": "white"
           },
           "yaxis": {
            "backgroundcolor": "#E5ECF6",
            "gridcolor": "white",
            "gridwidth": 2,
            "linecolor": "white",
            "showbackground": true,
            "ticks": "",
            "zerolinecolor": "white"
           },
           "zaxis": {
            "backgroundcolor": "#E5ECF6",
            "gridcolor": "white",
            "gridwidth": 2,
            "linecolor": "white",
            "showbackground": true,
            "ticks": "",
            "zerolinecolor": "white"
           }
          },
          "shapedefaults": {
           "line": {
            "color": "#2a3f5f"
           }
          },
          "ternary": {
           "aaxis": {
            "gridcolor": "white",
            "linecolor": "white",
            "ticks": ""
           },
           "baxis": {
            "gridcolor": "white",
            "linecolor": "white",
            "ticks": ""
           },
           "bgcolor": "#E5ECF6",
           "caxis": {
            "gridcolor": "white",
            "linecolor": "white",
            "ticks": ""
           }
          },
          "title": {
           "x": 0.05
          },
          "xaxis": {
           "automargin": true,
           "gridcolor": "white",
           "linecolor": "white",
           "ticks": "",
           "title": {
            "standoff": 15
           },
           "zerolinecolor": "white",
           "zerolinewidth": 2
          },
          "yaxis": {
           "automargin": true,
           "gridcolor": "white",
           "linecolor": "white",
           "ticks": "",
           "title": {
            "standoff": 15
           },
           "zerolinecolor": "white",
           "zerolinewidth": 2
          }
         }
        },
        "title": {
         "text": "Top 5 Destinations (par nombre d'hôtels)"
        }
       }
      }
     },
     "metadata": {},
     "output_type": "display_data"
    }
   ],
   "source": [
    "plot_temperature = px.scatter_map(top5_destinations,\n",
    "                                lat='lat',\n",
    "                                lon='lon',\n",
    "                                size='temperature',\n",
    "                                # center={\"lat\": 48.8566, \"lon\": 2.3522},\n",
    "                                hover_name=\"ville\",\n",
    "                                zoom=4,\n",
    "                                height=500,\n",
    "                                map_style=\"carto-positron\",\n",
    "                                title=\"Top 5 Destinations (par nombre d'hôtels)\",\n",
    "                                color='temperature'\n",
    "                                  )\n",
    "plot_temperature.show()"
   ]
  },
  {
   "cell_type": "code",
   "execution_count": 98,
   "id": "4852c9e8",
   "metadata": {},
   "outputs": [
    {
     "data": {
      "text/html": [
       "<div>\n",
       "<style scoped>\n",
       "    .dataframe tbody tr th:only-of-type {\n",
       "        vertical-align: middle;\n",
       "    }\n",
       "\n",
       "    .dataframe tbody tr th {\n",
       "        vertical-align: top;\n",
       "    }\n",
       "\n",
       "    .dataframe thead th {\n",
       "        text-align: right;\n",
       "    }\n",
       "</style>\n",
       "<table border=\"1\" class=\"dataframe\">\n",
       "  <thead>\n",
       "    <tr style=\"text-align: right;\">\n",
       "      <th></th>\n",
       "      <th>id_ville</th>\n",
       "      <th>ville</th>\n",
       "      <th>nom_hotel</th>\n",
       "      <th>description_meteo</th>\n",
       "      <th>lat</th>\n",
       "      <th>lon</th>\n",
       "      <th>precipitation</th>\n",
       "      <th>temperature</th>\n",
       "    </tr>\n",
       "    <tr>\n",
       "      <th>id</th>\n",
       "      <th></th>\n",
       "      <th></th>\n",
       "      <th></th>\n",
       "      <th></th>\n",
       "      <th></th>\n",
       "      <th></th>\n",
       "      <th></th>\n",
       "      <th></th>\n",
       "    </tr>\n",
       "  </thead>\n",
       "  <tbody>\n",
       "    <tr>\n",
       "      <th>376</th>\n",
       "      <td>20</td>\n",
       "      <td>Marseille</td>\n",
       "      <td>InterContinental Marseille - Hotel Dieu by IHG</td>\n",
       "      <td>ciel dégagé</td>\n",
       "      <td>43.2962</td>\n",
       "      <td>5.36995</td>\n",
       "      <td>0.0</td>\n",
       "      <td>25.07</td>\n",
       "    </tr>\n",
       "    <tr>\n",
       "      <th>377</th>\n",
       "      <td>20</td>\n",
       "      <td>Marseille</td>\n",
       "      <td>Radisson Blu Hotel Marseille Vieux Port</td>\n",
       "      <td>ciel dégagé</td>\n",
       "      <td>43.2962</td>\n",
       "      <td>5.36995</td>\n",
       "      <td>0.0</td>\n",
       "      <td>25.07</td>\n",
       "    </tr>\n",
       "    <tr>\n",
       "      <th>378</th>\n",
       "      <td>20</td>\n",
       "      <td>Marseille</td>\n",
       "      <td>New Hotel of Marseille - Vieux Port</td>\n",
       "      <td>ciel dégagé</td>\n",
       "      <td>43.2962</td>\n",
       "      <td>5.36995</td>\n",
       "      <td>0.0</td>\n",
       "      <td>25.07</td>\n",
       "    </tr>\n",
       "    <tr>\n",
       "      <th>379</th>\n",
       "      <td>20</td>\n",
       "      <td>Marseille</td>\n",
       "      <td>Hôtel Villa M Marseille</td>\n",
       "      <td>ciel dégagé</td>\n",
       "      <td>43.2962</td>\n",
       "      <td>5.36995</td>\n",
       "      <td>0.0</td>\n",
       "      <td>25.07</td>\n",
       "    </tr>\n",
       "    <tr>\n",
       "      <th>380</th>\n",
       "      <td>20</td>\n",
       "      <td>Marseille</td>\n",
       "      <td>nhow Marseille</td>\n",
       "      <td>ciel dégagé</td>\n",
       "      <td>43.2962</td>\n",
       "      <td>5.36995</td>\n",
       "      <td>0.0</td>\n",
       "      <td>25.07</td>\n",
       "    </tr>\n",
       "    <tr>\n",
       "      <th>...</th>\n",
       "      <td>...</td>\n",
       "      <td>...</td>\n",
       "      <td>...</td>\n",
       "      <td>...</td>\n",
       "      <td>...</td>\n",
       "      <td>...</td>\n",
       "      <td>...</td>\n",
       "      <td>...</td>\n",
       "    </tr>\n",
       "    <tr>\n",
       "      <th>866</th>\n",
       "      <td>27</td>\n",
       "      <td>Collioure</td>\n",
       "      <td>Appartement Collioure centre &amp; GARAGE PRIVATIF</td>\n",
       "      <td>ciel dégagé</td>\n",
       "      <td>42.5251</td>\n",
       "      <td>3.08316</td>\n",
       "      <td>0.0</td>\n",
       "      <td>25.45</td>\n",
       "    </tr>\n",
       "    <tr>\n",
       "      <th>867</th>\n",
       "      <td>27</td>\n",
       "      <td>Collioure</td>\n",
       "      <td>Residence Pierre &amp; Vacances Les Balcons de Col...</td>\n",
       "      <td>ciel dégagé</td>\n",
       "      <td>42.5251</td>\n",
       "      <td>3.08316</td>\n",
       "      <td>0.0</td>\n",
       "      <td>25.45</td>\n",
       "    </tr>\n",
       "    <tr>\n",
       "      <th>868</th>\n",
       "      <td>27</td>\n",
       "      <td>Collioure</td>\n",
       "      <td>Les Jasmins</td>\n",
       "      <td>ciel dégagé</td>\n",
       "      <td>42.5251</td>\n",
       "      <td>3.08316</td>\n",
       "      <td>0.0</td>\n",
       "      <td>25.45</td>\n",
       "    </tr>\n",
       "    <tr>\n",
       "      <th>869</th>\n",
       "      <td>27</td>\n",
       "      <td>Collioure</td>\n",
       "      <td>6CREU1 - confortable appartement avec terrasse...</td>\n",
       "      <td>ciel dégagé</td>\n",
       "      <td>42.5251</td>\n",
       "      <td>3.08316</td>\n",
       "      <td>0.0</td>\n",
       "      <td>25.45</td>\n",
       "    </tr>\n",
       "    <tr>\n",
       "      <th>870</th>\n",
       "      <td>27</td>\n",
       "      <td>Collioure</td>\n",
       "      <td>Fenêtre sur Collioure</td>\n",
       "      <td>ciel dégagé</td>\n",
       "      <td>42.5251</td>\n",
       "      <td>3.08316</td>\n",
       "      <td>0.0</td>\n",
       "      <td>25.45</td>\n",
       "    </tr>\n",
       "  </tbody>\n",
       "</table>\n",
       "<p>100 rows × 8 columns</p>\n",
       "</div>"
      ],
      "text/plain": [
       "     id_ville      ville                                          nom_hotel  \\\n",
       "id                                                                            \n",
       "376        20  Marseille     InterContinental Marseille - Hotel Dieu by IHG   \n",
       "377        20  Marseille            Radisson Blu Hotel Marseille Vieux Port   \n",
       "378        20  Marseille                New Hotel of Marseille - Vieux Port   \n",
       "379        20  Marseille                            Hôtel Villa M Marseille   \n",
       "380        20  Marseille                                     nhow Marseille   \n",
       "..        ...        ...                                                ...   \n",
       "866        27  Collioure     Appartement Collioure centre & GARAGE PRIVATIF   \n",
       "867        27  Collioure  Residence Pierre & Vacances Les Balcons de Col...   \n",
       "868        27  Collioure                                        Les Jasmins   \n",
       "869        27  Collioure  6CREU1 - confortable appartement avec terrasse...   \n",
       "870        27  Collioure                              Fenêtre sur Collioure   \n",
       "\n",
       "    description_meteo      lat      lon  precipitation  temperature  \n",
       "id                                                                   \n",
       "376       ciel dégagé  43.2962  5.36995            0.0        25.07  \n",
       "377       ciel dégagé  43.2962  5.36995            0.0        25.07  \n",
       "378       ciel dégagé  43.2962  5.36995            0.0        25.07  \n",
       "379       ciel dégagé  43.2962  5.36995            0.0        25.07  \n",
       "380       ciel dégagé  43.2962  5.36995            0.0        25.07  \n",
       "..                ...      ...      ...            ...          ...  \n",
       "866       ciel dégagé  42.5251  3.08316            0.0        25.45  \n",
       "867       ciel dégagé  42.5251  3.08316            0.0        25.45  \n",
       "868       ciel dégagé  42.5251  3.08316            0.0        25.45  \n",
       "869       ciel dégagé  42.5251  3.08316            0.0        25.45  \n",
       "870       ciel dégagé  42.5251  3.08316            0.0        25.45  \n",
       "\n",
       "[100 rows x 8 columns]"
      ]
     },
     "execution_count": 98,
     "metadata": {},
     "output_type": "execute_result"
    }
   ],
   "source": [
    "top20_hotels = df_hotels[df_hotels['ville'].isin(top5_destinations['ville'])]\n",
    "top20_par_ville = top20_hotels.groupby(\"ville\", group_keys=False)\n",
    "top20_par_ville.head(20)"
   ]
  },
  {
   "cell_type": "code",
   "execution_count": null,
   "id": "feb0ea51",
   "metadata": {},
   "outputs": [],
   "source": []
  }
 ],
 "metadata": {
  "kernelspec": {
   "display_name": "venv",
   "language": "python",
   "name": "python3"
  },
  "language_info": {
   "codemirror_mode": {
    "name": "ipython",
    "version": 3
   },
   "file_extension": ".py",
   "mimetype": "text/x-python",
   "name": "python",
   "nbconvert_exporter": "python",
   "pygments_lexer": "ipython3",
   "version": "3.13.1"
  }
 },
 "nbformat": 4,
 "nbformat_minor": 5
}
