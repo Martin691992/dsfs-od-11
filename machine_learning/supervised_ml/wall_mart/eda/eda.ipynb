{
 "cells": [
  {
   "cell_type": "code",
   "execution_count": 1,
   "id": "0e16c5d5",
   "metadata": {},
   "outputs": [
    {
     "name": "stdout",
     "output_type": "stream",
     "text": [
      "None\n",
      "   Store        Date  Weekly_Sales  Holiday_Flag  Temperature  Fuel_Price  \\\n",
      "0    6.0  18-02-2011    1572117.54           NaN        59.61       3.045   \n",
      "1   13.0  25-03-2011    1807545.43           0.0        42.38       3.435   \n",
      "2   17.0  27-07-2012           NaN           0.0          NaN         NaN   \n",
      "3   11.0         NaN    1244390.03           0.0        84.57         NaN   \n",
      "4    6.0  28-05-2010    1644470.66           0.0        78.89       2.759   \n",
      "\n",
      "          CPI  Unemployment  \n",
      "0  214.777523         6.858  \n",
      "1  128.616064         7.470  \n",
      "2  130.719581         5.936  \n",
      "3  214.556497         7.346  \n",
      "4  212.412888         7.092  \n",
      "(150, 8)\n",
      "Store           float64\n",
      "Date             object\n",
      "Weekly_Sales    float64\n",
      "Holiday_Flag    float64\n",
      "Temperature     float64\n",
      "Fuel_Price      float64\n",
      "CPI             float64\n",
      "Unemployment    float64\n",
      "dtype: object\n"
     ]
    }
   ],
   "source": [
    "import pandas as pd\n",
    "import numpy\n",
    "import os\n",
    "import datetime\n",
    "\n",
    "print(os.chdir('./'))\n",
    "\n",
    "\n",
    "df = pd.read_csv('../data/Walmart_Store_sales.csv',low_memory=False)\n",
    "print(df.head())\n",
    "print(df.shape)\n",
    "print(df.dtypes)"
   ]
  },
  {
   "cell_type": "markdown",
   "id": "925f6db1",
   "metadata": {},
   "source": [
    "150 lignes pour 8 colonnes, petit volume de données "
   ]
  },
  {
   "cell_type": "code",
   "execution_count": 2,
   "id": "04d227cd",
   "metadata": {},
   "outputs": [
    {
     "name": "stdout",
     "output_type": "stream",
     "text": [
      "Description des données : \n",
      "Index(['Store', 'Date', 'Weekly_Sales', 'Holiday_Flag', 'Temperature',\n",
      "       'Fuel_Price', 'CPI', 'Unemployment'],\n",
      "      dtype='object')\n",
      "            Store  Weekly_Sales  Holiday_Flag  Temperature  Fuel_Price  \\\n",
      "count  150.000000  1.360000e+02    138.000000   132.000000  136.000000   \n",
      "mean     9.866667  1.249536e+06      0.079710    61.398106    3.320853   \n",
      "std      6.231191  6.474630e+05      0.271831    18.378901    0.478149   \n",
      "min      1.000000  2.689290e+05      0.000000    18.790000    2.514000   \n",
      "25%      4.000000  6.050757e+05      0.000000    45.587500    2.852250   \n",
      "50%      9.000000  1.261424e+06      0.000000    62.985000    3.451000   \n",
      "75%     15.750000  1.806386e+06      0.000000    76.345000    3.706250   \n",
      "max     20.000000  2.771397e+06      1.000000    91.650000    4.193000   \n",
      "\n",
      "              CPI  Unemployment  \n",
      "count  138.000000    135.000000  \n",
      "mean   179.898509      7.598430  \n",
      "std     40.274956      1.577173  \n",
      "min    126.111903      5.143000  \n",
      "25%    131.970831      6.597500  \n",
      "50%    197.908893      7.470000  \n",
      "75%    214.934616      8.150000  \n",
      "max    226.968844     14.313000  \n"
     ]
    }
   ],
   "source": [
    "print(\"Description des données : \")\n",
    "print(df.columns)\n",
    "print(df.describe())"
   ]
  },
  {
   "cell_type": "markdown",
   "id": "a4372c07",
   "metadata": {},
   "source": [
    "# Exploration des données"
   ]
  },
  {
   "cell_type": "code",
   "execution_count": 3,
   "id": "1acd8814",
   "metadata": {},
   "outputs": [
    {
     "name": "stdout",
     "output_type": "stream",
     "text": [
      "On explore les données...\n",
      "Store            0\n",
      "Date            18\n",
      "Weekly_Sales    14\n",
      "Holiday_Flag    12\n",
      "Temperature     18\n",
      "Fuel_Price      14\n",
      "CPI             12\n",
      "Unemployment    15\n",
      "dtype: int64\n"
     ]
    }
   ],
   "source": [
    "print(\"On explore les données...\")\n",
    "print(df.isna().sum())"
   ]
  },
  {
   "cell_type": "markdown",
   "id": "cd3ce9ae",
   "metadata": {},
   "source": [
    "# Data Cleaning"
   ]
  },
  {
   "cell_type": "code",
   "execution_count": 4,
   "id": "04f3b251",
   "metadata": {},
   "outputs": [
    {
     "name": "stdout",
     "output_type": "stream",
     "text": [
      "Affichage des du nombre de valeurs manquantes par colonnes :\n",
      "Store            0\n",
      "Date            18\n",
      "Weekly_Sales    14\n",
      "Holiday_Flag    12\n",
      "Temperature     18\n",
      "Fuel_Price      14\n",
      "CPI             12\n",
      "Unemployment    15\n",
      "dtype: int64\n"
     ]
    }
   ],
   "source": [
    "print(\"Affichage des du nombre de valeurs manquantes par colonnes :\")\n",
    "print(df.isna().sum())"
   ]
  },
  {
   "cell_type": "code",
   "execution_count": 5,
   "id": "db22c622",
   "metadata": {},
   "outputs": [
    {
     "name": "stdout",
     "output_type": "stream",
     "text": [
      "On drop les Weekly_Sales à zéro qui est la valeur à déduire pour éviter les biais\n",
      "Shape de données est : (150, 8)\n",
      "La nouvelle shape de données est : (136, 8)\n",
      "Store            0\n",
      "Date            18\n",
      "Weekly_Sales     0\n",
      "Holiday_Flag     0\n",
      "Temperature      0\n",
      "Fuel_Price       0\n",
      "CPI              0\n",
      "Unemployment     0\n",
      "dtype: int64\n",
      "La nouvelle shape de données est : (136, 8)\n",
      "Store            0\n",
      "Date            18\n",
      "Weekly_Sales     0\n",
      "Holiday_Flag     0\n",
      "Temperature      0\n",
      "Fuel_Price       0\n",
      "CPI              0\n",
      "Unemployment     0\n",
      "dtype: int64\n",
      "La nouvelle shape de données est : (136, 8)\n"
     ]
    }
   ],
   "source": [
    "print(\"On drop les Weekly_Sales à zéro qui est la valeur à déduire pour éviter les biais\")\n",
    "new_df = df.copy()\n",
    "print(f\"Shape de données est : {new_df.shape}\")\n",
    "\n",
    "new_df = new_df.dropna(subset=\"Weekly_Sales\")\n",
    "print(f\"La nouvelle shape de données est : {new_df.shape}\")\n",
    "\n",
    "new_df = new_df.fillna(new_df.mean(numeric_only=True))\n",
    "print(new_df.isna().sum())\n",
    "\n",
    "print(f\"La nouvelle shape de données est : {new_df.shape}\")\n",
    "print(new_df.isna().sum())\n",
    "print(f\"La nouvelle shape de données est : {new_df.shape}\")\n",
    "\n"
   ]
  },
  {
   "cell_type": "markdown",
   "id": "91688eb1",
   "metadata": {},
   "source": [
    "## Il manque toujours 18 dates\n",
    "Je décide de les supprimer "
   ]
  },
  {
   "cell_type": "code",
   "execution_count": 6,
   "id": "40d0aaa6",
   "metadata": {},
   "outputs": [
    {
     "name": "stdout",
     "output_type": "stream",
     "text": [
      "La nouvelle shape de données est : (118, 8)\n"
     ]
    }
   ],
   "source": [
    "new_df = new_df.dropna(how='any')\n",
    "print(f\"La nouvelle shape de données est : {new_df.shape}\")"
   ]
  },
  {
   "cell_type": "code",
   "execution_count": 7,
   "id": "2328c076",
   "metadata": {},
   "outputs": [
    {
     "name": "stdout",
     "output_type": "stream",
     "text": [
      "Conversion des dates\n",
      "datetime64[ns]\n",
      "0     2011-02-18\n",
      "1     2011-03-25\n",
      "4     2010-05-28\n",
      "5     2010-05-28\n",
      "6     2011-06-03\n",
      "         ...    \n",
      "144   2012-10-19\n",
      "145   2010-06-18\n",
      "147   2010-06-11\n",
      "148   2011-08-12\n",
      "149   2012-04-20\n",
      "Name: Date, Length: 118, dtype: datetime64[ns]\n"
     ]
    },
    {
     "name": "stderr",
     "output_type": "stream",
     "text": [
      "C:\\Users\\Martin\\AppData\\Local\\Temp\\ipykernel_32376\\52456130.py:3: UserWarning: Parsing dates in %d-%m-%Y format when dayfirst=False (the default) was specified. Pass `dayfirst=True` or specify a format to silence this warning.\n",
      "  new_df['Date'] = pd.to_datetime(new_df['Date'])\n"
     ]
    },
    {
     "data": {
      "text/html": [
       "<div>\n",
       "<style scoped>\n",
       "    .dataframe tbody tr th:only-of-type {\n",
       "        vertical-align: middle;\n",
       "    }\n",
       "\n",
       "    .dataframe tbody tr th {\n",
       "        vertical-align: top;\n",
       "    }\n",
       "\n",
       "    .dataframe thead th {\n",
       "        text-align: right;\n",
       "    }\n",
       "</style>\n",
       "<table border=\"1\" class=\"dataframe\">\n",
       "  <thead>\n",
       "    <tr style=\"text-align: right;\">\n",
       "      <th></th>\n",
       "      <th>Store</th>\n",
       "      <th>Date</th>\n",
       "      <th>Weekly_Sales</th>\n",
       "      <th>Holiday_Flag</th>\n",
       "      <th>Temperature</th>\n",
       "      <th>Fuel_Price</th>\n",
       "      <th>CPI</th>\n",
       "      <th>Unemployment</th>\n",
       "      <th>year</th>\n",
       "      <th>month</th>\n",
       "      <th>day</th>\n",
       "      <th>day_of_week</th>\n",
       "    </tr>\n",
       "  </thead>\n",
       "  <tbody>\n",
       "    <tr>\n",
       "      <th>0</th>\n",
       "      <td>6.0</td>\n",
       "      <td>2011-02-18</td>\n",
       "      <td>1572117.54</td>\n",
       "      <td>0.072</td>\n",
       "      <td>59.610000</td>\n",
       "      <td>3.045</td>\n",
       "      <td>214.777523</td>\n",
       "      <td>6.858</td>\n",
       "      <td>2011</td>\n",
       "      <td>2</td>\n",
       "      <td>18</td>\n",
       "      <td>4</td>\n",
       "    </tr>\n",
       "    <tr>\n",
       "      <th>1</th>\n",
       "      <td>13.0</td>\n",
       "      <td>2011-03-25</td>\n",
       "      <td>1807545.43</td>\n",
       "      <td>0.000</td>\n",
       "      <td>42.380000</td>\n",
       "      <td>3.435</td>\n",
       "      <td>128.616064</td>\n",
       "      <td>7.470</td>\n",
       "      <td>2011</td>\n",
       "      <td>3</td>\n",
       "      <td>25</td>\n",
       "      <td>4</td>\n",
       "    </tr>\n",
       "    <tr>\n",
       "      <th>4</th>\n",
       "      <td>6.0</td>\n",
       "      <td>2010-05-28</td>\n",
       "      <td>1644470.66</td>\n",
       "      <td>0.000</td>\n",
       "      <td>78.890000</td>\n",
       "      <td>2.759</td>\n",
       "      <td>212.412888</td>\n",
       "      <td>7.092</td>\n",
       "      <td>2010</td>\n",
       "      <td>5</td>\n",
       "      <td>28</td>\n",
       "      <td>4</td>\n",
       "    </tr>\n",
       "    <tr>\n",
       "      <th>5</th>\n",
       "      <td>4.0</td>\n",
       "      <td>2010-05-28</td>\n",
       "      <td>1857533.70</td>\n",
       "      <td>0.000</td>\n",
       "      <td>60.853967</td>\n",
       "      <td>2.756</td>\n",
       "      <td>126.160226</td>\n",
       "      <td>7.896</td>\n",
       "      <td>2010</td>\n",
       "      <td>5</td>\n",
       "      <td>28</td>\n",
       "      <td>4</td>\n",
       "    </tr>\n",
       "    <tr>\n",
       "      <th>6</th>\n",
       "      <td>15.0</td>\n",
       "      <td>2011-06-03</td>\n",
       "      <td>695396.19</td>\n",
       "      <td>0.000</td>\n",
       "      <td>69.800000</td>\n",
       "      <td>4.069</td>\n",
       "      <td>134.855161</td>\n",
       "      <td>7.658</td>\n",
       "      <td>2011</td>\n",
       "      <td>6</td>\n",
       "      <td>3</td>\n",
       "      <td>4</td>\n",
       "    </tr>\n",
       "  </tbody>\n",
       "</table>\n",
       "</div>"
      ],
      "text/plain": [
       "   Store       Date  Weekly_Sales  Holiday_Flag  Temperature  Fuel_Price  \\\n",
       "0    6.0 2011-02-18    1572117.54         0.072    59.610000       3.045   \n",
       "1   13.0 2011-03-25    1807545.43         0.000    42.380000       3.435   \n",
       "4    6.0 2010-05-28    1644470.66         0.000    78.890000       2.759   \n",
       "5    4.0 2010-05-28    1857533.70         0.000    60.853967       2.756   \n",
       "6   15.0 2011-06-03     695396.19         0.000    69.800000       4.069   \n",
       "\n",
       "          CPI  Unemployment  year  month  day  day_of_week  \n",
       "0  214.777523         6.858  2011      2   18            4  \n",
       "1  128.616064         7.470  2011      3   25            4  \n",
       "4  212.412888         7.092  2010      5   28            4  \n",
       "5  126.160226         7.896  2010      5   28            4  \n",
       "6  134.855161         7.658  2011      6    3            4  "
      ]
     },
     "execution_count": 7,
     "metadata": {},
     "output_type": "execute_result"
    }
   ],
   "source": [
    "print(\"Conversion des dates\")\n",
    "#Changement simple des infos car bien formaté à la base\n",
    "new_df['Date'] = pd.to_datetime(new_df['Date'])\n",
    "print(new_df['Date'].dtype)\n",
    "print(new_df['Date'])\n",
    "new_df['year'] = new_df['Date'].dt.year\n",
    "new_df['month'] = new_df['Date'].dt.month\n",
    "new_df['day'] = new_df['Date'].dt.day\n",
    "new_df['day_of_week'] = new_df['Date'].dt.dayofweek\n",
    "new_df.head()"
   ]
  },
  {
   "cell_type": "code",
   "execution_count": 8,
   "id": "7011378a",
   "metadata": {},
   "outputs": [
    {
     "name": "stdout",
     "output_type": "stream",
     "text": [
      "drop des outliers\n",
      "Shape du dataFrame : (118, 12)\n",
      "Shape du dataFrame après supp des outliers : (113, 12)\n"
     ]
    }
   ],
   "source": [
    "print(\"drop des outliers\")\n",
    "print(f\"Shape du dataFrame : {new_df.shape}\")\n",
    "outliers_col = ['Temperature', 'Fuel_Price', 'CPI', 'Unemployment']\n",
    "for col in outliers_col:\n",
    "    mean = new_df[col].mean()\n",
    "    ecart_type = new_df[col].std()\n",
    "    bas, haut = mean - 3*ecart_type, mean + 3*ecart_type\n",
    "    new_df = new_df[(new_df[col]>= bas) & (new_df[col] <= haut)]\n",
    "print(f\"Shape du dataFrame après supp des outliers : {new_df.shape}\")\n",
    "\n"
   ]
  },
  {
   "cell_type": "code",
   "execution_count": 9,
   "id": "2cb8f1a4",
   "metadata": {},
   "outputs": [
    {
     "name": "stdout",
     "output_type": "stream",
     "text": [
      "enregistrement du nouveau DataFrame ...\n",
      "['eda.ipynb']\n"
     ]
    }
   ],
   "source": [
    "print(\"enregistrement du nouveau DataFrame ...\")\n",
    "print(os.listdir())\n",
    "new_df.to_csv('../data/clean_data.csv')"
   ]
  },
  {
   "cell_type": "code",
   "execution_count": null,
   "id": "7807f87d",
   "metadata": {},
   "outputs": [],
   "source": []
  }
 ],
 "metadata": {
  "kernelspec": {
   "display_name": "venv_here (3.13.2)",
   "language": "python",
   "name": "python3"
  },
  "language_info": {
   "codemirror_mode": {
    "name": "ipython",
    "version": 3
   },
   "file_extension": ".py",
   "mimetype": "text/x-python",
   "name": "python",
   "nbconvert_exporter": "python",
   "pygments_lexer": "ipython3",
   "version": "3.13.2"
  }
 },
 "nbformat": 4,
 "nbformat_minor": 5
}
