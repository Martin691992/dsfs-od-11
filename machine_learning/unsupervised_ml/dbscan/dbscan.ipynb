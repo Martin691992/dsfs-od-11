{
 "cells": [
  {
   "cell_type": "code",
   "execution_count": 2,
   "id": "1f72bcd5",
   "metadata": {},
   "outputs": [
    {
     "name": "stdout",
     "output_type": "stream",
     "text": [
      "   Unnamed: 0            Date/Time      Lat      Lon    Base        date  \\\n",
      "0           0  2014-04-01 00:11:00  40.7690 -73.9549  B02512  2014-04-01   \n",
      "1           1  2014-04-01 00:17:00  40.7267 -74.0345  B02512  2014-04-01   \n",
      "2           2  2014-04-01 00:21:00  40.7316 -73.9873  B02512  2014-04-01   \n",
      "3           3  2014-04-01 00:28:00  40.7588 -73.9776  B02512  2014-04-01   \n",
      "4           4  2014-04-01 00:33:00  40.7594 -73.9722  B02512  2014-04-01   \n",
      "\n",
      "       time  annee  mois  jour  jour_semaine  heure  minutes  secondes  \n",
      "0  00:11:00   2014     4     1             1      0       11         0  \n",
      "1  00:17:00   2014     4     1             1      0       17         0  \n",
      "2  00:21:00   2014     4     1             1      0       21         0  \n",
      "3  00:28:00   2014     4     1             1      0       28         0  \n",
      "4  00:33:00   2014     4     1             1      0       33         0  \n",
      "Unnamed: 0        int64\n",
      "Date/Time        object\n",
      "Lat             float64\n",
      "Lon             float64\n",
      "Base             object\n",
      "date             object\n",
      "time             object\n",
      "annee             int64\n",
      "mois              int64\n",
      "jour              int64\n",
      "jour_semaine      int64\n",
      "heure             int64\n",
      "minutes           int64\n",
      "secondes          int64\n",
      "dtype: object\n"
     ]
    }
   ],
   "source": [
    "import pandas as pd\n",
    "from sklearn.preprocessing import StandardScaler\n",
    "from sklearn.cluster import DBSCAN\n",
    "from plotly.express import scatter_map\n",
    "\n",
    "\n",
    "data = pd.read_csv('../data/echantillon.csv')\n",
    "print(data.head())\n",
    "print(data.dtypes)"
   ]
  },
  {
   "cell_type": "code",
   "execution_count": null,
   "id": "c9d407a5",
   "metadata": {},
   "outputs": [],
   "source": []
  }
 ],
 "metadata": {
  "kernelspec": {
   "display_name": "venv_here (3.13.2)",
   "language": "python",
   "name": "python3"
  },
  "language_info": {
   "codemirror_mode": {
    "name": "ipython",
    "version": 3
   },
   "file_extension": ".py",
   "mimetype": "text/x-python",
   "name": "python",
   "nbconvert_exporter": "python",
   "pygments_lexer": "ipython3",
   "version": "3.13.2"
  }
 },
 "nbformat": 4,
 "nbformat_minor": 5
}
