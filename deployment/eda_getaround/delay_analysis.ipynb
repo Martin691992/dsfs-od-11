{
 "cells": [
  {
   "cell_type": "code",
   "execution_count": null,
   "id": "fb2b85e2",
   "metadata": {},
   "outputs": [
    {
     "name": "stdout",
     "output_type": "stream",
     "text": [
      "rental_id int64\n",
      "car_id int64\n",
      "checkin_type object\n",
      "state object\n",
      "delay_at_checkout_in_minutes float64\n",
      "previous_ended_rental_id float64\n",
      "time_delta_with_previous_rental_in_minutes float64\n",
      "\n",
      "   rental_id  car_id checkin_type  state  delay_at_checkout_in_minutes  \\\n",
      "1     507750  269550       mobile  ended                         -81.0   \n",
      "2     508131  359049      connect  ended                          70.0   \n",
      "5     511626  398802       mobile  ended                        -203.0   \n",
      "6     511639  370585      connect  ended                         -15.0   \n",
      "7     512303  371242       mobile  ended                         -44.0   \n",
      "\n",
      "   previous_ended_rental_id  time_delta_with_previous_rental_in_minutes  \n",
      "1                       NaN                                         NaN  \n",
      "2                       NaN                                         NaN  \n",
      "5                       NaN                                         NaN  \n",
      "6                  563782.0                                       570.0  \n",
      "7                       NaN                                         NaN  \n"
     ]
    },
    {
     "name": "stderr",
     "output_type": "stream",
     "text": [
      "C:\\Users\\Martin\\AppData\\Local\\Temp\\ipykernel_33292\\4111968636.py:7: FutureWarning: Series.__getitem__ treating keys as positions is deprecated. In a future version, integer keys will always be treated as labels (consistent with DataFrame behavior). To access a value by position, use `ser.iloc[pos]`\n",
      "  print(i, data.dtypes[index])\n",
      "C:\\Users\\Martin\\AppData\\Local\\Temp\\ipykernel_33292\\4111968636.py:7: FutureWarning: Series.__getitem__ treating keys as positions is deprecated. In a future version, integer keys will always be treated as labels (consistent with DataFrame behavior). To access a value by position, use `ser.iloc[pos]`\n",
      "  print(i, data.dtypes[index])\n",
      "C:\\Users\\Martin\\AppData\\Local\\Temp\\ipykernel_33292\\4111968636.py:7: FutureWarning: Series.__getitem__ treating keys as positions is deprecated. In a future version, integer keys will always be treated as labels (consistent with DataFrame behavior). To access a value by position, use `ser.iloc[pos]`\n",
      "  print(i, data.dtypes[index])\n",
      "C:\\Users\\Martin\\AppData\\Local\\Temp\\ipykernel_33292\\4111968636.py:7: FutureWarning: Series.__getitem__ treating keys as positions is deprecated. In a future version, integer keys will always be treated as labels (consistent with DataFrame behavior). To access a value by position, use `ser.iloc[pos]`\n",
      "  print(i, data.dtypes[index])\n",
      "C:\\Users\\Martin\\AppData\\Local\\Temp\\ipykernel_33292\\4111968636.py:7: FutureWarning: Series.__getitem__ treating keys as positions is deprecated. In a future version, integer keys will always be treated as labels (consistent with DataFrame behavior). To access a value by position, use `ser.iloc[pos]`\n",
      "  print(i, data.dtypes[index])\n",
      "C:\\Users\\Martin\\AppData\\Local\\Temp\\ipykernel_33292\\4111968636.py:7: FutureWarning: Series.__getitem__ treating keys as positions is deprecated. In a future version, integer keys will always be treated as labels (consistent with DataFrame behavior). To access a value by position, use `ser.iloc[pos]`\n",
      "  print(i, data.dtypes[index])\n",
      "C:\\Users\\Martin\\AppData\\Local\\Temp\\ipykernel_33292\\4111968636.py:7: FutureWarning: Series.__getitem__ treating keys as positions is deprecated. In a future version, integer keys will always be treated as labels (consistent with DataFrame behavior). To access a value by position, use `ser.iloc[pos]`\n",
      "  print(i, data.dtypes[index])\n"
     ]
    }
   ],
   "source": [
    "import pandas as pd\n",
    "\n",
    "data = pd.read_excel('../data/get_around_delay_analysis.xlsx')\n",
    "for index, i in enumerate(data.columns):\n",
    "    print(i, data.dtypes[index])\n",
    "print()\n",
    "print(data[data['delay_at_checkout_in_minutes'].notna()].head())"
   ]
  },
  {
   "cell_type": "code",
   "execution_count": null,
   "id": "992fccf5",
   "metadata": {},
   "outputs": [],
   "source": []
  }
 ],
 "metadata": {
  "kernelspec": {
   "display_name": "venv_here (3.13.2)",
   "language": "python",
   "name": "python3"
  },
  "language_info": {
   "codemirror_mode": {
    "name": "ipython",
    "version": 3
   },
   "file_extension": ".py",
   "mimetype": "text/x-python",
   "name": "python",
   "nbconvert_exporter": "python",
   "pygments_lexer": "ipython3",
   "version": "3.13.2"
  }
 },
 "nbformat": 4,
 "nbformat_minor": 5
}
