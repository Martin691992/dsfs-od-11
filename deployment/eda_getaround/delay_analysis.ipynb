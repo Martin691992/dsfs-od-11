{
 "cells": [
  {
   "cell_type": "code",
   "execution_count": 198,
   "id": "fb2b85e2",
   "metadata": {},
   "outputs": [
    {
     "name": "stdout",
     "output_type": "stream",
     "text": [
      "int64 --> rental_id \n",
      "int64 --> car_id \n",
      "object --> checkin_type \n",
      "object --> state \n",
      "float64 --> delay_at_checkout_in_minutes \n",
      "float64 --> previous_ended_rental_id \n",
      "float64 --> time_delta_with_previous_rental_in_minutes \n",
      "\n"
     ]
    },
    {
     "data": {
      "text/html": [
       "<div>\n",
       "<style scoped>\n",
       "    .dataframe tbody tr th:only-of-type {\n",
       "        vertical-align: middle;\n",
       "    }\n",
       "\n",
       "    .dataframe tbody tr th {\n",
       "        vertical-align: top;\n",
       "    }\n",
       "\n",
       "    .dataframe thead th {\n",
       "        text-align: right;\n",
       "    }\n",
       "</style>\n",
       "<table border=\"1\" class=\"dataframe\">\n",
       "  <thead>\n",
       "    <tr style=\"text-align: right;\">\n",
       "      <th></th>\n",
       "      <th>rental_id</th>\n",
       "      <th>car_id</th>\n",
       "      <th>checkin_type</th>\n",
       "      <th>state</th>\n",
       "      <th>delay_at_checkout_in_minutes</th>\n",
       "      <th>previous_ended_rental_id</th>\n",
       "      <th>time_delta_with_previous_rental_in_minutes</th>\n",
       "    </tr>\n",
       "  </thead>\n",
       "  <tbody>\n",
       "    <tr>\n",
       "      <th>1</th>\n",
       "      <td>507750</td>\n",
       "      <td>269550</td>\n",
       "      <td>mobile</td>\n",
       "      <td>ended</td>\n",
       "      <td>-81.0</td>\n",
       "      <td>NaN</td>\n",
       "      <td>NaN</td>\n",
       "    </tr>\n",
       "    <tr>\n",
       "      <th>2</th>\n",
       "      <td>508131</td>\n",
       "      <td>359049</td>\n",
       "      <td>connect</td>\n",
       "      <td>ended</td>\n",
       "      <td>70.0</td>\n",
       "      <td>NaN</td>\n",
       "      <td>NaN</td>\n",
       "    </tr>\n",
       "    <tr>\n",
       "      <th>5</th>\n",
       "      <td>511626</td>\n",
       "      <td>398802</td>\n",
       "      <td>mobile</td>\n",
       "      <td>ended</td>\n",
       "      <td>-203.0</td>\n",
       "      <td>NaN</td>\n",
       "      <td>NaN</td>\n",
       "    </tr>\n",
       "    <tr>\n",
       "      <th>6</th>\n",
       "      <td>511639</td>\n",
       "      <td>370585</td>\n",
       "      <td>connect</td>\n",
       "      <td>ended</td>\n",
       "      <td>-15.0</td>\n",
       "      <td>563782.0</td>\n",
       "      <td>570.0</td>\n",
       "    </tr>\n",
       "    <tr>\n",
       "      <th>7</th>\n",
       "      <td>512303</td>\n",
       "      <td>371242</td>\n",
       "      <td>mobile</td>\n",
       "      <td>ended</td>\n",
       "      <td>-44.0</td>\n",
       "      <td>NaN</td>\n",
       "      <td>NaN</td>\n",
       "    </tr>\n",
       "  </tbody>\n",
       "</table>\n",
       "</div>"
      ],
      "text/plain": [
       "   rental_id  car_id checkin_type  state  delay_at_checkout_in_minutes  \\\n",
       "1     507750  269550       mobile  ended                         -81.0   \n",
       "2     508131  359049      connect  ended                          70.0   \n",
       "5     511626  398802       mobile  ended                        -203.0   \n",
       "6     511639  370585      connect  ended                         -15.0   \n",
       "7     512303  371242       mobile  ended                         -44.0   \n",
       "\n",
       "   previous_ended_rental_id  time_delta_with_previous_rental_in_minutes  \n",
       "1                       NaN                                         NaN  \n",
       "2                       NaN                                         NaN  \n",
       "5                       NaN                                         NaN  \n",
       "6                  563782.0                                       570.0  \n",
       "7                       NaN                                         NaN  "
      ]
     },
     "metadata": {},
     "output_type": "display_data"
    },
    {
     "data": {
      "text/plain": [
       "(21310, 7)"
      ]
     },
     "metadata": {},
     "output_type": "display_data"
    }
   ],
   "source": [
    "import pandas as pd\n",
    "import plotly.express as px\n",
    "\n",
    "\n",
    "data = pd.read_excel('../data/get_around_delay_analysis.xlsx')\n",
    "for index, i in enumerate(data.columns):\n",
    "    print(f\"{data.dtypes.iloc[index]} --> {i} \")\n",
    "print()\n",
    "display(data[data['delay_at_checkout_in_minutes'].notna()].head())\n",
    "display(data.shape)"
   ]
  },
  {
   "cell_type": "code",
   "execution_count": 199,
   "id": "992fccf5",
   "metadata": {},
   "outputs": [
    {
     "data": {
      "text/plain": [
       "rental_id                                         0\n",
       "car_id                                            0\n",
       "checkin_type                                      0\n",
       "state                                             0\n",
       "delay_at_checkout_in_minutes                   4964\n",
       "previous_ended_rental_id                      19469\n",
       "time_delta_with_previous_rental_in_minutes    19469\n",
       "dtype: int64"
      ]
     },
     "metadata": {},
     "output_type": "display_data"
    },
    {
     "data": {
      "text/plain": [
       "state\n",
       "ended       18045\n",
       "canceled     3265\n",
       "Name: count, dtype: int64"
      ]
     },
     "metadata": {},
     "output_type": "display_data"
    }
   ],
   "source": [
    "display(data.isna().sum())\n",
    "display(data[\"state\"].value_counts())\n"
   ]
  },
  {
   "cell_type": "code",
   "execution_count": 200,
   "id": "280adb39",
   "metadata": {},
   "outputs": [
    {
     "data": {
      "text/html": [
       "<div>\n",
       "<style scoped>\n",
       "    .dataframe tbody tr th:only-of-type {\n",
       "        vertical-align: middle;\n",
       "    }\n",
       "\n",
       "    .dataframe tbody tr th {\n",
       "        vertical-align: top;\n",
       "    }\n",
       "\n",
       "    .dataframe thead th {\n",
       "        text-align: right;\n",
       "    }\n",
       "</style>\n",
       "<table border=\"1\" class=\"dataframe\">\n",
       "  <thead>\n",
       "    <tr style=\"text-align: right;\">\n",
       "      <th></th>\n",
       "      <th>rental_id</th>\n",
       "      <th>car_id</th>\n",
       "      <th>delay_at_checkout_in_minutes</th>\n",
       "      <th>previous_ended_rental_id</th>\n",
       "      <th>time_delta_with_previous_rental_in_minutes</th>\n",
       "    </tr>\n",
       "  </thead>\n",
       "  <tbody>\n",
       "    <tr>\n",
       "      <th>count</th>\n",
       "      <td>21310.00</td>\n",
       "      <td>21310.00</td>\n",
       "      <td>16346.00</td>\n",
       "      <td>1841.00</td>\n",
       "      <td>1841.00</td>\n",
       "    </tr>\n",
       "    <tr>\n",
       "      <th>mean</th>\n",
       "      <td>549712.88</td>\n",
       "      <td>350030.60</td>\n",
       "      <td>59.70</td>\n",
       "      <td>550127.41</td>\n",
       "      <td>279.29</td>\n",
       "    </tr>\n",
       "    <tr>\n",
       "      <th>std</th>\n",
       "      <td>13863.45</td>\n",
       "      <td>58206.25</td>\n",
       "      <td>1002.56</td>\n",
       "      <td>13184.02</td>\n",
       "      <td>254.59</td>\n",
       "    </tr>\n",
       "    <tr>\n",
       "      <th>min</th>\n",
       "      <td>504806.00</td>\n",
       "      <td>159250.00</td>\n",
       "      <td>-22433.00</td>\n",
       "      <td>505628.00</td>\n",
       "      <td>0.00</td>\n",
       "    </tr>\n",
       "    <tr>\n",
       "      <th>25%</th>\n",
       "      <td>540613.25</td>\n",
       "      <td>317639.00</td>\n",
       "      <td>-36.00</td>\n",
       "      <td>540896.00</td>\n",
       "      <td>60.00</td>\n",
       "    </tr>\n",
       "    <tr>\n",
       "      <th>50%</th>\n",
       "      <td>550350.00</td>\n",
       "      <td>368717.00</td>\n",
       "      <td>9.00</td>\n",
       "      <td>550567.00</td>\n",
       "      <td>180.00</td>\n",
       "    </tr>\n",
       "    <tr>\n",
       "      <th>75%</th>\n",
       "      <td>560468.50</td>\n",
       "      <td>394928.00</td>\n",
       "      <td>67.00</td>\n",
       "      <td>560823.00</td>\n",
       "      <td>540.00</td>\n",
       "    </tr>\n",
       "    <tr>\n",
       "      <th>max</th>\n",
       "      <td>576401.00</td>\n",
       "      <td>417675.00</td>\n",
       "      <td>71084.00</td>\n",
       "      <td>575053.00</td>\n",
       "      <td>720.00</td>\n",
       "    </tr>\n",
       "  </tbody>\n",
       "</table>\n",
       "</div>"
      ],
      "text/plain": [
       "       rental_id     car_id  delay_at_checkout_in_minutes  \\\n",
       "count   21310.00   21310.00                      16346.00   \n",
       "mean   549712.88  350030.60                         59.70   \n",
       "std     13863.45   58206.25                       1002.56   \n",
       "min    504806.00  159250.00                     -22433.00   \n",
       "25%    540613.25  317639.00                        -36.00   \n",
       "50%    550350.00  368717.00                          9.00   \n",
       "75%    560468.50  394928.00                         67.00   \n",
       "max    576401.00  417675.00                      71084.00   \n",
       "\n",
       "       previous_ended_rental_id  time_delta_with_previous_rental_in_minutes  \n",
       "count                   1841.00                                     1841.00  \n",
       "mean                  550127.41                                      279.29  \n",
       "std                    13184.02                                      254.59  \n",
       "min                   505628.00                                        0.00  \n",
       "25%                   540896.00                                       60.00  \n",
       "50%                   550567.00                                      180.00  \n",
       "75%                   560823.00                                      540.00  \n",
       "max                   575053.00                                      720.00  "
      ]
     },
     "metadata": {},
     "output_type": "display_data"
    }
   ],
   "source": [
    "display(data.describe().round(2))"
   ]
  },
  {
   "cell_type": "code",
   "execution_count": 201,
   "id": "2d5f74b1",
   "metadata": {},
   "outputs": [
    {
     "name": "stdout",
     "output_type": "stream",
     "text": [
      "Nombre de voiture : 21310\n",
      "Distribution des ended et canceled :\n"
     ]
    },
    {
     "data": {
      "application/vnd.plotly.v1+json": {
       "config": {
        "plotlyServerURL": "https://plot.ly"
       },
       "data": [
        {
         "hovertemplate": "state=%{x}<br>count=%{y}<extra></extra>",
         "legendgroup": "",
         "marker": {
          "color": "#636efa",
          "pattern": {
           "shape": ""
          }
         },
         "name": "",
         "orientation": "v",
         "showlegend": false,
         "textposition": "auto",
         "type": "bar",
         "x": [
          "ended",
          "canceled"
         ],
         "xaxis": "x",
         "y": {
          "bdata": "fUbBDA==",
          "dtype": "i2"
         },
         "yaxis": "y"
        }
       ],
       "layout": {
        "barmode": "relative",
        "legend": {
         "tracegroupgap": 0
        },
        "template": {
         "data": {
          "bar": [
           {
            "error_x": {
             "color": "#2a3f5f"
            },
            "error_y": {
             "color": "#2a3f5f"
            },
            "marker": {
             "line": {
              "color": "#E5ECF6",
              "width": 0.5
             },
             "pattern": {
              "fillmode": "overlay",
              "size": 10,
              "solidity": 0.2
             }
            },
            "type": "bar"
           }
          ],
          "barpolar": [
           {
            "marker": {
             "line": {
              "color": "#E5ECF6",
              "width": 0.5
             },
             "pattern": {
              "fillmode": "overlay",
              "size": 10,
              "solidity": 0.2
             }
            },
            "type": "barpolar"
           }
          ],
          "carpet": [
           {
            "aaxis": {
             "endlinecolor": "#2a3f5f",
             "gridcolor": "white",
             "linecolor": "white",
             "minorgridcolor": "white",
             "startlinecolor": "#2a3f5f"
            },
            "baxis": {
             "endlinecolor": "#2a3f5f",
             "gridcolor": "white",
             "linecolor": "white",
             "minorgridcolor": "white",
             "startlinecolor": "#2a3f5f"
            },
            "type": "carpet"
           }
          ],
          "choropleth": [
           {
            "colorbar": {
             "outlinewidth": 0,
             "ticks": ""
            },
            "type": "choropleth"
           }
          ],
          "contour": [
           {
            "colorbar": {
             "outlinewidth": 0,
             "ticks": ""
            },
            "colorscale": [
             [
              0,
              "#0d0887"
             ],
             [
              0.1111111111111111,
              "#46039f"
             ],
             [
              0.2222222222222222,
              "#7201a8"
             ],
             [
              0.3333333333333333,
              "#9c179e"
             ],
             [
              0.4444444444444444,
              "#bd3786"
             ],
             [
              0.5555555555555556,
              "#d8576b"
             ],
             [
              0.6666666666666666,
              "#ed7953"
             ],
             [
              0.7777777777777778,
              "#fb9f3a"
             ],
             [
              0.8888888888888888,
              "#fdca26"
             ],
             [
              1,
              "#f0f921"
             ]
            ],
            "type": "contour"
           }
          ],
          "contourcarpet": [
           {
            "colorbar": {
             "outlinewidth": 0,
             "ticks": ""
            },
            "type": "contourcarpet"
           }
          ],
          "heatmap": [
           {
            "colorbar": {
             "outlinewidth": 0,
             "ticks": ""
            },
            "colorscale": [
             [
              0,
              "#0d0887"
             ],
             [
              0.1111111111111111,
              "#46039f"
             ],
             [
              0.2222222222222222,
              "#7201a8"
             ],
             [
              0.3333333333333333,
              "#9c179e"
             ],
             [
              0.4444444444444444,
              "#bd3786"
             ],
             [
              0.5555555555555556,
              "#d8576b"
             ],
             [
              0.6666666666666666,
              "#ed7953"
             ],
             [
              0.7777777777777778,
              "#fb9f3a"
             ],
             [
              0.8888888888888888,
              "#fdca26"
             ],
             [
              1,
              "#f0f921"
             ]
            ],
            "type": "heatmap"
           }
          ],
          "histogram": [
           {
            "marker": {
             "pattern": {
              "fillmode": "overlay",
              "size": 10,
              "solidity": 0.2
             }
            },
            "type": "histogram"
           }
          ],
          "histogram2d": [
           {
            "colorbar": {
             "outlinewidth": 0,
             "ticks": ""
            },
            "colorscale": [
             [
              0,
              "#0d0887"
             ],
             [
              0.1111111111111111,
              "#46039f"
             ],
             [
              0.2222222222222222,
              "#7201a8"
             ],
             [
              0.3333333333333333,
              "#9c179e"
             ],
             [
              0.4444444444444444,
              "#bd3786"
             ],
             [
              0.5555555555555556,
              "#d8576b"
             ],
             [
              0.6666666666666666,
              "#ed7953"
             ],
             [
              0.7777777777777778,
              "#fb9f3a"
             ],
             [
              0.8888888888888888,
              "#fdca26"
             ],
             [
              1,
              "#f0f921"
             ]
            ],
            "type": "histogram2d"
           }
          ],
          "histogram2dcontour": [
           {
            "colorbar": {
             "outlinewidth": 0,
             "ticks": ""
            },
            "colorscale": [
             [
              0,
              "#0d0887"
             ],
             [
              0.1111111111111111,
              "#46039f"
             ],
             [
              0.2222222222222222,
              "#7201a8"
             ],
             [
              0.3333333333333333,
              "#9c179e"
             ],
             [
              0.4444444444444444,
              "#bd3786"
             ],
             [
              0.5555555555555556,
              "#d8576b"
             ],
             [
              0.6666666666666666,
              "#ed7953"
             ],
             [
              0.7777777777777778,
              "#fb9f3a"
             ],
             [
              0.8888888888888888,
              "#fdca26"
             ],
             [
              1,
              "#f0f921"
             ]
            ],
            "type": "histogram2dcontour"
           }
          ],
          "mesh3d": [
           {
            "colorbar": {
             "outlinewidth": 0,
             "ticks": ""
            },
            "type": "mesh3d"
           }
          ],
          "parcoords": [
           {
            "line": {
             "colorbar": {
              "outlinewidth": 0,
              "ticks": ""
             }
            },
            "type": "parcoords"
           }
          ],
          "pie": [
           {
            "automargin": true,
            "type": "pie"
           }
          ],
          "scatter": [
           {
            "fillpattern": {
             "fillmode": "overlay",
             "size": 10,
             "solidity": 0.2
            },
            "type": "scatter"
           }
          ],
          "scatter3d": [
           {
            "line": {
             "colorbar": {
              "outlinewidth": 0,
              "ticks": ""
             }
            },
            "marker": {
             "colorbar": {
              "outlinewidth": 0,
              "ticks": ""
             }
            },
            "type": "scatter3d"
           }
          ],
          "scattercarpet": [
           {
            "marker": {
             "colorbar": {
              "outlinewidth": 0,
              "ticks": ""
             }
            },
            "type": "scattercarpet"
           }
          ],
          "scattergeo": [
           {
            "marker": {
             "colorbar": {
              "outlinewidth": 0,
              "ticks": ""
             }
            },
            "type": "scattergeo"
           }
          ],
          "scattergl": [
           {
            "marker": {
             "colorbar": {
              "outlinewidth": 0,
              "ticks": ""
             }
            },
            "type": "scattergl"
           }
          ],
          "scattermap": [
           {
            "marker": {
             "colorbar": {
              "outlinewidth": 0,
              "ticks": ""
             }
            },
            "type": "scattermap"
           }
          ],
          "scattermapbox": [
           {
            "marker": {
             "colorbar": {
              "outlinewidth": 0,
              "ticks": ""
             }
            },
            "type": "scattermapbox"
           }
          ],
          "scatterpolar": [
           {
            "marker": {
             "colorbar": {
              "outlinewidth": 0,
              "ticks": ""
             }
            },
            "type": "scatterpolar"
           }
          ],
          "scatterpolargl": [
           {
            "marker": {
             "colorbar": {
              "outlinewidth": 0,
              "ticks": ""
             }
            },
            "type": "scatterpolargl"
           }
          ],
          "scatterternary": [
           {
            "marker": {
             "colorbar": {
              "outlinewidth": 0,
              "ticks": ""
             }
            },
            "type": "scatterternary"
           }
          ],
          "surface": [
           {
            "colorbar": {
             "outlinewidth": 0,
             "ticks": ""
            },
            "colorscale": [
             [
              0,
              "#0d0887"
             ],
             [
              0.1111111111111111,
              "#46039f"
             ],
             [
              0.2222222222222222,
              "#7201a8"
             ],
             [
              0.3333333333333333,
              "#9c179e"
             ],
             [
              0.4444444444444444,
              "#bd3786"
             ],
             [
              0.5555555555555556,
              "#d8576b"
             ],
             [
              0.6666666666666666,
              "#ed7953"
             ],
             [
              0.7777777777777778,
              "#fb9f3a"
             ],
             [
              0.8888888888888888,
              "#fdca26"
             ],
             [
              1,
              "#f0f921"
             ]
            ],
            "type": "surface"
           }
          ],
          "table": [
           {
            "cells": {
             "fill": {
              "color": "#EBF0F8"
             },
             "line": {
              "color": "white"
             }
            },
            "header": {
             "fill": {
              "color": "#C8D4E3"
             },
             "line": {
              "color": "white"
             }
            },
            "type": "table"
           }
          ]
         },
         "layout": {
          "annotationdefaults": {
           "arrowcolor": "#2a3f5f",
           "arrowhead": 0,
           "arrowwidth": 1
          },
          "autotypenumbers": "strict",
          "coloraxis": {
           "colorbar": {
            "outlinewidth": 0,
            "ticks": ""
           }
          },
          "colorscale": {
           "diverging": [
            [
             0,
             "#8e0152"
            ],
            [
             0.1,
             "#c51b7d"
            ],
            [
             0.2,
             "#de77ae"
            ],
            [
             0.3,
             "#f1b6da"
            ],
            [
             0.4,
             "#fde0ef"
            ],
            [
             0.5,
             "#f7f7f7"
            ],
            [
             0.6,
             "#e6f5d0"
            ],
            [
             0.7,
             "#b8e186"
            ],
            [
             0.8,
             "#7fbc41"
            ],
            [
             0.9,
             "#4d9221"
            ],
            [
             1,
             "#276419"
            ]
           ],
           "sequential": [
            [
             0,
             "#0d0887"
            ],
            [
             0.1111111111111111,
             "#46039f"
            ],
            [
             0.2222222222222222,
             "#7201a8"
            ],
            [
             0.3333333333333333,
             "#9c179e"
            ],
            [
             0.4444444444444444,
             "#bd3786"
            ],
            [
             0.5555555555555556,
             "#d8576b"
            ],
            [
             0.6666666666666666,
             "#ed7953"
            ],
            [
             0.7777777777777778,
             "#fb9f3a"
            ],
            [
             0.8888888888888888,
             "#fdca26"
            ],
            [
             1,
             "#f0f921"
            ]
           ],
           "sequentialminus": [
            [
             0,
             "#0d0887"
            ],
            [
             0.1111111111111111,
             "#46039f"
            ],
            [
             0.2222222222222222,
             "#7201a8"
            ],
            [
             0.3333333333333333,
             "#9c179e"
            ],
            [
             0.4444444444444444,
             "#bd3786"
            ],
            [
             0.5555555555555556,
             "#d8576b"
            ],
            [
             0.6666666666666666,
             "#ed7953"
            ],
            [
             0.7777777777777778,
             "#fb9f3a"
            ],
            [
             0.8888888888888888,
             "#fdca26"
            ],
            [
             1,
             "#f0f921"
            ]
           ]
          },
          "colorway": [
           "#636efa",
           "#EF553B",
           "#00cc96",
           "#ab63fa",
           "#FFA15A",
           "#19d3f3",
           "#FF6692",
           "#B6E880",
           "#FF97FF",
           "#FECB52"
          ],
          "font": {
           "color": "#2a3f5f"
          },
          "geo": {
           "bgcolor": "white",
           "lakecolor": "white",
           "landcolor": "#E5ECF6",
           "showlakes": true,
           "showland": true,
           "subunitcolor": "white"
          },
          "hoverlabel": {
           "align": "left"
          },
          "hovermode": "closest",
          "mapbox": {
           "style": "light"
          },
          "paper_bgcolor": "white",
          "plot_bgcolor": "#E5ECF6",
          "polar": {
           "angularaxis": {
            "gridcolor": "white",
            "linecolor": "white",
            "ticks": ""
           },
           "bgcolor": "#E5ECF6",
           "radialaxis": {
            "gridcolor": "white",
            "linecolor": "white",
            "ticks": ""
           }
          },
          "scene": {
           "xaxis": {
            "backgroundcolor": "#E5ECF6",
            "gridcolor": "white",
            "gridwidth": 2,
            "linecolor": "white",
            "showbackground": true,
            "ticks": "",
            "zerolinecolor": "white"
           },
           "yaxis": {
            "backgroundcolor": "#E5ECF6",
            "gridcolor": "white",
            "gridwidth": 2,
            "linecolor": "white",
            "showbackground": true,
            "ticks": "",
            "zerolinecolor": "white"
           },
           "zaxis": {
            "backgroundcolor": "#E5ECF6",
            "gridcolor": "white",
            "gridwidth": 2,
            "linecolor": "white",
            "showbackground": true,
            "ticks": "",
            "zerolinecolor": "white"
           }
          },
          "shapedefaults": {
           "line": {
            "color": "#2a3f5f"
           }
          },
          "ternary": {
           "aaxis": {
            "gridcolor": "white",
            "linecolor": "white",
            "ticks": ""
           },
           "baxis": {
            "gridcolor": "white",
            "linecolor": "white",
            "ticks": ""
           },
           "bgcolor": "#E5ECF6",
           "caxis": {
            "gridcolor": "white",
            "linecolor": "white",
            "ticks": ""
           }
          },
          "title": {
           "x": 0.05
          },
          "xaxis": {
           "automargin": true,
           "gridcolor": "white",
           "linecolor": "white",
           "ticks": "",
           "title": {
            "standoff": 15
           },
           "zerolinecolor": "white",
           "zerolinewidth": 2
          },
          "yaxis": {
           "automargin": true,
           "gridcolor": "white",
           "linecolor": "white",
           "ticks": "",
           "title": {
            "standoff": 15
           },
           "zerolinecolor": "white",
           "zerolinewidth": 2
          }
         }
        },
        "title": {
         "text": "Distribution ended / canceled"
        },
        "width": 400,
        "xaxis": {
         "anchor": "y",
         "domain": [
          0,
          1
         ],
         "title": {
          "text": "state"
         }
        },
        "yaxis": {
         "anchor": "x",
         "domain": [
          0,
          1
         ],
         "title": {
          "text": "count"
         }
        }
       }
      }
     },
     "metadata": {},
     "output_type": "display_data"
    }
   ],
   "source": [
    "print(f\"Nombre de voiture : {data.value_counts(subset='car_id').sum()}\")\n",
    "print(\"Distribution des ended et canceled :\")\n",
    "plot = px.bar(data.value_counts(subset='state').reset_index(),x='state',y='count',title=\"Distribution ended / canceled\",width=400)\n",
    "plot.show()"
   ]
  },
  {
   "cell_type": "code",
   "execution_count": 202,
   "id": "5b8e3265",
   "metadata": {},
   "outputs": [
    {
     "data": {
      "application/vnd.plotly.v1+json": {
       "config": {
        "plotlyServerURL": "https://plot.ly"
       },
       "data": [
        {
         "hovertemplate": "checkin_type=%{x}<br>count=%{y}<extra></extra>",
         "legendgroup": "",
         "marker": {
          "color": "#636efa",
          "pattern": {
           "shape": ""
          }
         },
         "name": "",
         "orientation": "v",
         "showlegend": false,
         "textposition": "auto",
         "type": "bar",
         "x": [
          "mobile",
          "connect"
         ],
         "xaxis": "x",
         "y": {
          "bdata": "a0LTEA==",
          "dtype": "i2"
         },
         "yaxis": "y"
        }
       ],
       "layout": {
        "barmode": "relative",
        "legend": {
         "tracegroupgap": 0
        },
        "template": {
         "data": {
          "bar": [
           {
            "error_x": {
             "color": "#2a3f5f"
            },
            "error_y": {
             "color": "#2a3f5f"
            },
            "marker": {
             "line": {
              "color": "#E5ECF6",
              "width": 0.5
             },
             "pattern": {
              "fillmode": "overlay",
              "size": 10,
              "solidity": 0.2
             }
            },
            "type": "bar"
           }
          ],
          "barpolar": [
           {
            "marker": {
             "line": {
              "color": "#E5ECF6",
              "width": 0.5
             },
             "pattern": {
              "fillmode": "overlay",
              "size": 10,
              "solidity": 0.2
             }
            },
            "type": "barpolar"
           }
          ],
          "carpet": [
           {
            "aaxis": {
             "endlinecolor": "#2a3f5f",
             "gridcolor": "white",
             "linecolor": "white",
             "minorgridcolor": "white",
             "startlinecolor": "#2a3f5f"
            },
            "baxis": {
             "endlinecolor": "#2a3f5f",
             "gridcolor": "white",
             "linecolor": "white",
             "minorgridcolor": "white",
             "startlinecolor": "#2a3f5f"
            },
            "type": "carpet"
           }
          ],
          "choropleth": [
           {
            "colorbar": {
             "outlinewidth": 0,
             "ticks": ""
            },
            "type": "choropleth"
           }
          ],
          "contour": [
           {
            "colorbar": {
             "outlinewidth": 0,
             "ticks": ""
            },
            "colorscale": [
             [
              0,
              "#0d0887"
             ],
             [
              0.1111111111111111,
              "#46039f"
             ],
             [
              0.2222222222222222,
              "#7201a8"
             ],
             [
              0.3333333333333333,
              "#9c179e"
             ],
             [
              0.4444444444444444,
              "#bd3786"
             ],
             [
              0.5555555555555556,
              "#d8576b"
             ],
             [
              0.6666666666666666,
              "#ed7953"
             ],
             [
              0.7777777777777778,
              "#fb9f3a"
             ],
             [
              0.8888888888888888,
              "#fdca26"
             ],
             [
              1,
              "#f0f921"
             ]
            ],
            "type": "contour"
           }
          ],
          "contourcarpet": [
           {
            "colorbar": {
             "outlinewidth": 0,
             "ticks": ""
            },
            "type": "contourcarpet"
           }
          ],
          "heatmap": [
           {
            "colorbar": {
             "outlinewidth": 0,
             "ticks": ""
            },
            "colorscale": [
             [
              0,
              "#0d0887"
             ],
             [
              0.1111111111111111,
              "#46039f"
             ],
             [
              0.2222222222222222,
              "#7201a8"
             ],
             [
              0.3333333333333333,
              "#9c179e"
             ],
             [
              0.4444444444444444,
              "#bd3786"
             ],
             [
              0.5555555555555556,
              "#d8576b"
             ],
             [
              0.6666666666666666,
              "#ed7953"
             ],
             [
              0.7777777777777778,
              "#fb9f3a"
             ],
             [
              0.8888888888888888,
              "#fdca26"
             ],
             [
              1,
              "#f0f921"
             ]
            ],
            "type": "heatmap"
           }
          ],
          "histogram": [
           {
            "marker": {
             "pattern": {
              "fillmode": "overlay",
              "size": 10,
              "solidity": 0.2
             }
            },
            "type": "histogram"
           }
          ],
          "histogram2d": [
           {
            "colorbar": {
             "outlinewidth": 0,
             "ticks": ""
            },
            "colorscale": [
             [
              0,
              "#0d0887"
             ],
             [
              0.1111111111111111,
              "#46039f"
             ],
             [
              0.2222222222222222,
              "#7201a8"
             ],
             [
              0.3333333333333333,
              "#9c179e"
             ],
             [
              0.4444444444444444,
              "#bd3786"
             ],
             [
              0.5555555555555556,
              "#d8576b"
             ],
             [
              0.6666666666666666,
              "#ed7953"
             ],
             [
              0.7777777777777778,
              "#fb9f3a"
             ],
             [
              0.8888888888888888,
              "#fdca26"
             ],
             [
              1,
              "#f0f921"
             ]
            ],
            "type": "histogram2d"
           }
          ],
          "histogram2dcontour": [
           {
            "colorbar": {
             "outlinewidth": 0,
             "ticks": ""
            },
            "colorscale": [
             [
              0,
              "#0d0887"
             ],
             [
              0.1111111111111111,
              "#46039f"
             ],
             [
              0.2222222222222222,
              "#7201a8"
             ],
             [
              0.3333333333333333,
              "#9c179e"
             ],
             [
              0.4444444444444444,
              "#bd3786"
             ],
             [
              0.5555555555555556,
              "#d8576b"
             ],
             [
              0.6666666666666666,
              "#ed7953"
             ],
             [
              0.7777777777777778,
              "#fb9f3a"
             ],
             [
              0.8888888888888888,
              "#fdca26"
             ],
             [
              1,
              "#f0f921"
             ]
            ],
            "type": "histogram2dcontour"
           }
          ],
          "mesh3d": [
           {
            "colorbar": {
             "outlinewidth": 0,
             "ticks": ""
            },
            "type": "mesh3d"
           }
          ],
          "parcoords": [
           {
            "line": {
             "colorbar": {
              "outlinewidth": 0,
              "ticks": ""
             }
            },
            "type": "parcoords"
           }
          ],
          "pie": [
           {
            "automargin": true,
            "type": "pie"
           }
          ],
          "scatter": [
           {
            "fillpattern": {
             "fillmode": "overlay",
             "size": 10,
             "solidity": 0.2
            },
            "type": "scatter"
           }
          ],
          "scatter3d": [
           {
            "line": {
             "colorbar": {
              "outlinewidth": 0,
              "ticks": ""
             }
            },
            "marker": {
             "colorbar": {
              "outlinewidth": 0,
              "ticks": ""
             }
            },
            "type": "scatter3d"
           }
          ],
          "scattercarpet": [
           {
            "marker": {
             "colorbar": {
              "outlinewidth": 0,
              "ticks": ""
             }
            },
            "type": "scattercarpet"
           }
          ],
          "scattergeo": [
           {
            "marker": {
             "colorbar": {
              "outlinewidth": 0,
              "ticks": ""
             }
            },
            "type": "scattergeo"
           }
          ],
          "scattergl": [
           {
            "marker": {
             "colorbar": {
              "outlinewidth": 0,
              "ticks": ""
             }
            },
            "type": "scattergl"
           }
          ],
          "scattermap": [
           {
            "marker": {
             "colorbar": {
              "outlinewidth": 0,
              "ticks": ""
             }
            },
            "type": "scattermap"
           }
          ],
          "scattermapbox": [
           {
            "marker": {
             "colorbar": {
              "outlinewidth": 0,
              "ticks": ""
             }
            },
            "type": "scattermapbox"
           }
          ],
          "scatterpolar": [
           {
            "marker": {
             "colorbar": {
              "outlinewidth": 0,
              "ticks": ""
             }
            },
            "type": "scatterpolar"
           }
          ],
          "scatterpolargl": [
           {
            "marker": {
             "colorbar": {
              "outlinewidth": 0,
              "ticks": ""
             }
            },
            "type": "scatterpolargl"
           }
          ],
          "scatterternary": [
           {
            "marker": {
             "colorbar": {
              "outlinewidth": 0,
              "ticks": ""
             }
            },
            "type": "scatterternary"
           }
          ],
          "surface": [
           {
            "colorbar": {
             "outlinewidth": 0,
             "ticks": ""
            },
            "colorscale": [
             [
              0,
              "#0d0887"
             ],
             [
              0.1111111111111111,
              "#46039f"
             ],
             [
              0.2222222222222222,
              "#7201a8"
             ],
             [
              0.3333333333333333,
              "#9c179e"
             ],
             [
              0.4444444444444444,
              "#bd3786"
             ],
             [
              0.5555555555555556,
              "#d8576b"
             ],
             [
              0.6666666666666666,
              "#ed7953"
             ],
             [
              0.7777777777777778,
              "#fb9f3a"
             ],
             [
              0.8888888888888888,
              "#fdca26"
             ],
             [
              1,
              "#f0f921"
             ]
            ],
            "type": "surface"
           }
          ],
          "table": [
           {
            "cells": {
             "fill": {
              "color": "#EBF0F8"
             },
             "line": {
              "color": "white"
             }
            },
            "header": {
             "fill": {
              "color": "#C8D4E3"
             },
             "line": {
              "color": "white"
             }
            },
            "type": "table"
           }
          ]
         },
         "layout": {
          "annotationdefaults": {
           "arrowcolor": "#2a3f5f",
           "arrowhead": 0,
           "arrowwidth": 1
          },
          "autotypenumbers": "strict",
          "coloraxis": {
           "colorbar": {
            "outlinewidth": 0,
            "ticks": ""
           }
          },
          "colorscale": {
           "diverging": [
            [
             0,
             "#8e0152"
            ],
            [
             0.1,
             "#c51b7d"
            ],
            [
             0.2,
             "#de77ae"
            ],
            [
             0.3,
             "#f1b6da"
            ],
            [
             0.4,
             "#fde0ef"
            ],
            [
             0.5,
             "#f7f7f7"
            ],
            [
             0.6,
             "#e6f5d0"
            ],
            [
             0.7,
             "#b8e186"
            ],
            [
             0.8,
             "#7fbc41"
            ],
            [
             0.9,
             "#4d9221"
            ],
            [
             1,
             "#276419"
            ]
           ],
           "sequential": [
            [
             0,
             "#0d0887"
            ],
            [
             0.1111111111111111,
             "#46039f"
            ],
            [
             0.2222222222222222,
             "#7201a8"
            ],
            [
             0.3333333333333333,
             "#9c179e"
            ],
            [
             0.4444444444444444,
             "#bd3786"
            ],
            [
             0.5555555555555556,
             "#d8576b"
            ],
            [
             0.6666666666666666,
             "#ed7953"
            ],
            [
             0.7777777777777778,
             "#fb9f3a"
            ],
            [
             0.8888888888888888,
             "#fdca26"
            ],
            [
             1,
             "#f0f921"
            ]
           ],
           "sequentialminus": [
            [
             0,
             "#0d0887"
            ],
            [
             0.1111111111111111,
             "#46039f"
            ],
            [
             0.2222222222222222,
             "#7201a8"
            ],
            [
             0.3333333333333333,
             "#9c179e"
            ],
            [
             0.4444444444444444,
             "#bd3786"
            ],
            [
             0.5555555555555556,
             "#d8576b"
            ],
            [
             0.6666666666666666,
             "#ed7953"
            ],
            [
             0.7777777777777778,
             "#fb9f3a"
            ],
            [
             0.8888888888888888,
             "#fdca26"
            ],
            [
             1,
             "#f0f921"
            ]
           ]
          },
          "colorway": [
           "#636efa",
           "#EF553B",
           "#00cc96",
           "#ab63fa",
           "#FFA15A",
           "#19d3f3",
           "#FF6692",
           "#B6E880",
           "#FF97FF",
           "#FECB52"
          ],
          "font": {
           "color": "#2a3f5f"
          },
          "geo": {
           "bgcolor": "white",
           "lakecolor": "white",
           "landcolor": "#E5ECF6",
           "showlakes": true,
           "showland": true,
           "subunitcolor": "white"
          },
          "hoverlabel": {
           "align": "left"
          },
          "hovermode": "closest",
          "mapbox": {
           "style": "light"
          },
          "paper_bgcolor": "white",
          "plot_bgcolor": "#E5ECF6",
          "polar": {
           "angularaxis": {
            "gridcolor": "white",
            "linecolor": "white",
            "ticks": ""
           },
           "bgcolor": "#E5ECF6",
           "radialaxis": {
            "gridcolor": "white",
            "linecolor": "white",
            "ticks": ""
           }
          },
          "scene": {
           "xaxis": {
            "backgroundcolor": "#E5ECF6",
            "gridcolor": "white",
            "gridwidth": 2,
            "linecolor": "white",
            "showbackground": true,
            "ticks": "",
            "zerolinecolor": "white"
           },
           "yaxis": {
            "backgroundcolor": "#E5ECF6",
            "gridcolor": "white",
            "gridwidth": 2,
            "linecolor": "white",
            "showbackground": true,
            "ticks": "",
            "zerolinecolor": "white"
           },
           "zaxis": {
            "backgroundcolor": "#E5ECF6",
            "gridcolor": "white",
            "gridwidth": 2,
            "linecolor": "white",
            "showbackground": true,
            "ticks": "",
            "zerolinecolor": "white"
           }
          },
          "shapedefaults": {
           "line": {
            "color": "#2a3f5f"
           }
          },
          "ternary": {
           "aaxis": {
            "gridcolor": "white",
            "linecolor": "white",
            "ticks": ""
           },
           "baxis": {
            "gridcolor": "white",
            "linecolor": "white",
            "ticks": ""
           },
           "bgcolor": "#E5ECF6",
           "caxis": {
            "gridcolor": "white",
            "linecolor": "white",
            "ticks": ""
           }
          },
          "title": {
           "x": 0.05
          },
          "xaxis": {
           "automargin": true,
           "gridcolor": "white",
           "linecolor": "white",
           "ticks": "",
           "title": {
            "standoff": 15
           },
           "zerolinecolor": "white",
           "zerolinewidth": 2
          },
          "yaxis": {
           "automargin": true,
           "gridcolor": "white",
           "linecolor": "white",
           "ticks": "",
           "title": {
            "standoff": 15
           },
           "zerolinecolor": "white",
           "zerolinewidth": 2
          }
         }
        },
        "title": {
         "text": "Distribution mobile / connect"
        },
        "width": 400,
        "xaxis": {
         "anchor": "y",
         "domain": [
          0,
          1
         ],
         "title": {
          "text": "checkin_type"
         }
        },
        "yaxis": {
         "anchor": "x",
         "domain": [
          0,
          1
         ],
         "title": {
          "text": "count"
         }
        }
       }
      }
     },
     "metadata": {},
     "output_type": "display_data"
    }
   ],
   "source": [
    "plot = px.bar(data.value_counts(subset='checkin_type').reset_index(),x='checkin_type',y='count',title=\"Distribution mobile / connect\",width=400)\n",
    "plot.show()"
   ]
  },
  {
   "cell_type": "code",
   "execution_count": 203,
   "id": "d75466be",
   "metadata": {},
   "outputs": [
    {
     "name": "stdout",
     "output_type": "stream",
     "text": [
      "Taux de canceled en fonction du device :\n",
      "Taux de canceled quand checkin fait sur appli mobile en présence des deux parties : 0.15 %\n",
      "Taux de canceled quand checkin fait en connect (sans propriétaire présent ) : 0.19 %\n"
     ]
    }
   ],
   "source": [
    "print(\"Taux de canceled en fonction du device :\")\n",
    "mobile = data[data['checkin_type'] == 'mobile']\n",
    "connect = data[data['checkin_type'] == 'connect']\n",
    "\n",
    "print(f\"Taux de canceled quand checkin fait sur appli mobile en présence des deux parties : {(mobile[mobile['state'] == \"canceled\"]['state'].count() / mobile['rental_id'].count()).round(2)} %\")\n",
    "print(f\"Taux de canceled quand checkin fait en connect (sans propriétaire présent ) : {(connect[connect['state'] == \"canceled\"]['state'].count() / connect['rental_id'].count()).round(2)} %\")"
   ]
  },
  {
   "cell_type": "code",
   "execution_count": 204,
   "id": "f6b0c554",
   "metadata": {},
   "outputs": [
    {
     "name": "stdout",
     "output_type": "stream",
     "text": [
      "On regarde les données quand le delta delai checkout et inférieur 0 (en avance) :\n",
      "Nombre de reservation inférieur à zéro : 6942\n",
      "Nombre d'annulation quand en avance : 1\n"
     ]
    }
   ],
   "source": [
    "print(\"On regarde les données quand le delta delai checkout et inférieur 0 (en avance) :\")\n",
    "checkout_inf_zero = data[data['delay_at_checkout_in_minutes'] <= 0]\n",
    "print(f\"Nombre de reservation inférieur à zéro : {checkout_inf_zero.count()['rental_id']}\")\n",
    "cancel_inf_zero = checkout_inf_zero[checkout_inf_zero['state'] == 'canceled']\n",
    "print(f\"Nombre d'annulation quand en avance : {cancel_inf_zero.count()['rental_id']}\")\n"
   ]
  },
  {
   "cell_type": "markdown",
   "id": "c2c4b064",
   "metadata": {},
   "source": [
    "On peut donc considérer (et c'est logique) qu'il ne faut regarder que les données ou le delai est supérieur à zéro"
   ]
  },
  {
   "cell_type": "code",
   "execution_count": 212,
   "id": "33dd911e",
   "metadata": {},
   "outputs": [
    {
     "name": "stdout",
     "output_type": "stream",
     "text": [
      "On regarde les données quand le delta delai checkout et supérieur 0 (en avance) :\n",
      "    rental_id  car_id checkin_type  state  delay_at_checkout_in_minutes  \\\n",
      "2      508131  359049      connect  ended                          70.0   \n",
      "9      513434  256528      connect  ended                          23.0   \n",
      "12     514257  402596       mobile  ended                         214.0   \n",
      "13     515147  257466       mobile  ended                          15.0   \n",
      "17     518895  398816       mobile  ended                          66.0   \n",
      "\n",
      "    previous_ended_rental_id  time_delta_with_previous_rental_in_minutes  \n",
      "2                        NaN                                         NaN  \n",
      "9                        NaN                                         NaN  \n",
      "12                       NaN                                         NaN  \n",
      "13                       NaN                                         NaN  \n",
      "17                       NaN                                         NaN  \n",
      "Nombre de reservation inférieur à zéro : 9526\n",
      "Nombre d'annulation quand en retard : 0\n"
     ]
    }
   ],
   "source": [
    "print(\"On regarde les données quand le delta delai checkout et supérieur 0 (en avance) :\")\n",
    "checkout_supp_zero = data[data['delay_at_checkout_in_minutes'] >= 0]\n",
    "print(checkout_supp_zero.head())\n",
    "print(f\"Nombre de reservation inférieur à zéro : {checkout_supp_zero.count()['rental_id']}\")\n",
    "cancel_supp_zero = checkout_supp_zero[checkout_supp_zero['state'] == 'canceled']\n",
    "print(f\"Nombre d'annulation quand en retard : {cancel_supp_zero.count()['rental_id']}\") \n"
   ]
  },
  {
   "cell_type": "code",
   "execution_count": 206,
   "id": "522467fa",
   "metadata": {},
   "outputs": [
    {
     "name": "stdout",
     "output_type": "stream",
     "text": [
      "Suppression des outliers ...\n"
     ]
    },
    {
     "data": {
      "text/plain": [
       "(1500, 7)"
      ]
     },
     "metadata": {},
     "output_type": "display_data"
    },
    {
     "data": {
      "text/html": [
       "<div>\n",
       "<style scoped>\n",
       "    .dataframe tbody tr th:only-of-type {\n",
       "        vertical-align: middle;\n",
       "    }\n",
       "\n",
       "    .dataframe tbody tr th {\n",
       "        vertical-align: top;\n",
       "    }\n",
       "\n",
       "    .dataframe thead th {\n",
       "        text-align: right;\n",
       "    }\n",
       "</style>\n",
       "<table border=\"1\" class=\"dataframe\">\n",
       "  <thead>\n",
       "    <tr style=\"text-align: right;\">\n",
       "      <th></th>\n",
       "      <th>rental_id</th>\n",
       "      <th>car_id</th>\n",
       "      <th>delay_at_checkout_in_minutes</th>\n",
       "      <th>previous_ended_rental_id</th>\n",
       "      <th>time_delta_with_previous_rental_in_minutes</th>\n",
       "    </tr>\n",
       "  </thead>\n",
       "  <tbody>\n",
       "    <tr>\n",
       "      <th>count</th>\n",
       "      <td>1500.00</td>\n",
       "      <td>1500.00</td>\n",
       "      <td>1500.00</td>\n",
       "      <td>1500.00</td>\n",
       "      <td>1500.00</td>\n",
       "    </tr>\n",
       "    <tr>\n",
       "      <th>mean</th>\n",
       "      <td>552267.78</td>\n",
       "      <td>351915.62</td>\n",
       "      <td>14.56</td>\n",
       "      <td>550244.28</td>\n",
       "      <td>277.84</td>\n",
       "    </tr>\n",
       "    <tr>\n",
       "      <th>std</th>\n",
       "      <td>13013.39</td>\n",
       "      <td>53938.53</td>\n",
       "      <td>302.17</td>\n",
       "      <td>12892.52</td>\n",
       "      <td>254.84</td>\n",
       "    </tr>\n",
       "    <tr>\n",
       "      <th>min</th>\n",
       "      <td>505560.00</td>\n",
       "      <td>159533.00</td>\n",
       "      <td>-2676.00</td>\n",
       "      <td>509729.00</td>\n",
       "      <td>0.00</td>\n",
       "    </tr>\n",
       "    <tr>\n",
       "      <th>25%</th>\n",
       "      <td>543553.00</td>\n",
       "      <td>324092.00</td>\n",
       "      <td>-47.25</td>\n",
       "      <td>540791.75</td>\n",
       "      <td>60.00</td>\n",
       "    </tr>\n",
       "    <tr>\n",
       "      <th>50%</th>\n",
       "      <td>552484.50</td>\n",
       "      <td>368372.50</td>\n",
       "      <td>4.00</td>\n",
       "      <td>550575.00</td>\n",
       "      <td>180.00</td>\n",
       "    </tr>\n",
       "    <tr>\n",
       "      <th>75%</th>\n",
       "      <td>562836.75</td>\n",
       "      <td>391618.00</td>\n",
       "      <td>54.00</td>\n",
       "      <td>560843.25</td>\n",
       "      <td>540.00</td>\n",
       "    </tr>\n",
       "    <tr>\n",
       "      <th>max</th>\n",
       "      <td>576292.00</td>\n",
       "      <td>415953.00</td>\n",
       "      <td>2943.00</td>\n",
       "      <td>575053.00</td>\n",
       "      <td>720.00</td>\n",
       "    </tr>\n",
       "  </tbody>\n",
       "</table>\n",
       "</div>"
      ],
      "text/plain": [
       "       rental_id     car_id  delay_at_checkout_in_minutes  \\\n",
       "count    1500.00    1500.00                       1500.00   \n",
       "mean   552267.78  351915.62                         14.56   \n",
       "std     13013.39   53938.53                        302.17   \n",
       "min    505560.00  159533.00                      -2676.00   \n",
       "25%    543553.00  324092.00                        -47.25   \n",
       "50%    552484.50  368372.50                          4.00   \n",
       "75%    562836.75  391618.00                         54.00   \n",
       "max    576292.00  415953.00                       2943.00   \n",
       "\n",
       "       previous_ended_rental_id  time_delta_with_previous_rental_in_minutes  \n",
       "count                   1500.00                                     1500.00  \n",
       "mean                  550244.28                                      277.84  \n",
       "std                    12892.52                                      254.84  \n",
       "min                   509729.00                                        0.00  \n",
       "25%                   540791.75                                       60.00  \n",
       "50%                   550575.00                                      180.00  \n",
       "75%                   560843.25                                      540.00  \n",
       "max                   575053.00                                      720.00  "
      ]
     },
     "metadata": {},
     "output_type": "display_data"
    },
    {
     "name": "stdout",
     "output_type": "stream",
     "text": [
      "state\n",
      "ended    1500\n",
      "Name: count, dtype: int64\n"
     ]
    }
   ],
   "source": [
    "print('Suppression des outliers ...')\n",
    "data_clean = data.copy()\n",
    "outliers_col = ['delay_at_checkout_in_minutes', 'previous_ended_rental_id', 'time_delta_with_previous_rental_in_minutes']\n",
    "\n",
    "for col in outliers_col:\n",
    "    mean = data_clean[col].mean()\n",
    "    ecart_type = data_clean[col].std()\n",
    "    bas, haut = mean - 3*ecart_type, mean + 3*ecart_type\n",
    "    data_clean = data_clean[(data_clean[col]>= bas) & (data_clean[col] <= haut)]\n",
    "display(data_clean.shape)\n",
    "display(data_clean.describe().round(2))\n",
    "print(data_clean.value_counts(subset='state'))"
   ]
  },
  {
   "cell_type": "code",
   "execution_count": 207,
   "id": "7cee15c4",
   "metadata": {},
   "outputs": [
    {
     "data": {
      "application/vnd.plotly.v1+json": {
       "config": {
        "plotlyServerURL": "https://plot.ly"
       },
       "data": [
        {
         "alignmentgroup": "True",
         "hovertemplate": "state=%{x}<br>delay_at_checkout_in_minutes=%{y}<extra></extra>",
         "legendgroup": "",
         "marker": {
          "color": "#636efa"
         },
         "name": "",
         "notched": false,
         "offsetgroup": "",
         "orientation": "v",
         "showlegend": false,
         "type": "box",
         "x": [
          "ended",
          "ended",
          "ended",
          "ended",
          "ended",
          "ended",
          "ended",
          "ended",
          "ended",
          "ended",
          "ended",
          "ended",
          "ended",
          "ended",
          "ended",
          "ended",
          "ended",
          "ended",
          "ended",
          "ended",
          "ended",
          "ended",
          "ended",
          "ended",
          "ended",
          "ended",
          "ended",
          "ended",
          "ended",
          "ended",
          "ended",
          "ended",
          "ended",
          "ended",
          "ended",
          "ended",
          "ended",
          "ended",
          "ended",
          "ended",
          "ended",
          "ended",
          "ended",
          "ended",
          "ended",
          "ended",
          "ended",
          "ended",
          "ended",
          "ended",
          "ended",
          "ended",
          "ended",
          "ended",
          "ended",
          "ended",
          "ended",
          "ended",
          "ended",
          "ended",
          "ended",
          "ended",
          "ended",
          "ended",
          "ended",
          "ended",
          "ended",
          "ended",
          "ended",
          "ended",
          "ended",
          "ended",
          "ended",
          "ended",
          "ended",
          "ended",
          "ended",
          "ended",
          "ended",
          "ended",
          "ended",
          "ended",
          "ended",
          "ended",
          "ended",
          "ended",
          "ended",
          "ended",
          "ended",
          "ended",
          "ended",
          "ended",
          "ended",
          "ended",
          "ended",
          "ended",
          "ended",
          "ended",
          "ended",
          "ended",
          "ended",
          "ended",
          "ended",
          "ended",
          "ended",
          "ended",
          "ended",
          "ended",
          "ended",
          "ended",
          "ended",
          "ended",
          "ended",
          "ended",
          "ended",
          "ended",
          "ended",
          "ended",
          "ended",
          "ended",
          "ended",
          "ended",
          "ended",
          "ended",
          "ended",
          "ended",
          "ended",
          "ended",
          "ended",
          "ended",
          "ended",
          "ended",
          "ended",
          "ended",
          "ended",
          "ended",
          "ended",
          "ended",
          "ended",
          "ended",
          "ended",
          "ended",
          "ended",
          "ended",
          "ended",
          "ended",
          "ended",
          "ended",
          "ended",
          "ended",
          "ended",
          "ended",
          "ended",
          "ended",
          "ended",
          "ended",
          "ended",
          "ended",
          "ended",
          "ended",
          "ended",
          "ended",
          "ended",
          "ended",
          "ended",
          "ended",
          "ended",
          "ended",
          "ended",
          "ended",
          "ended",
          "ended",
          "ended",
          "ended",
          "ended",
          "ended",
          "ended",
          "ended",
          "ended",
          "ended",
          "ended",
          "ended",
          "ended",
          "ended",
          "ended",
          "ended",
          "ended",
          "ended",
          "ended",
          "ended",
          "ended",
          "ended",
          "ended",
          "ended",
          "ended",
          "ended",
          "ended",
          "ended",
          "ended",
          "ended",
          "ended",
          "ended",
          "ended",
          "ended",
          "ended",
          "ended",
          "ended",
          "ended",
          "ended",
          "ended",
          "ended",
          "ended",
          "ended",
          "ended",
          "ended",
          "ended",
          "ended",
          "ended",
          "ended",
          "ended",
          "ended",
          "ended",
          "ended",
          "ended",
          "ended",
          "ended",
          "ended",
          "ended",
          "ended",
          "ended",
          "ended",
          "ended",
          "ended",
          "ended",
          "ended",
          "ended",
          "ended",
          "ended",
          "ended",
          "ended",
          "ended",
          "ended",
          "ended",
          "ended",
          "ended",
          "ended",
          "ended",
          "ended",
          "ended",
          "ended",
          "ended",
          "ended",
          "ended",
          "ended",
          "ended",
          "ended",
          "ended",
          "ended",
          "ended",
          "ended",
          "ended",
          "ended",
          "ended",
          "ended",
          "ended",
          "ended",
          "ended",
          "ended",
          "ended",
          "ended",
          "ended",
          "ended",
          "ended",
          "ended",
          "ended",
          "ended",
          "ended",
          "ended",
          "ended",
          "ended",
          "ended",
          "ended",
          "ended",
          "ended",
          "ended",
          "ended",
          "ended",
          "ended",
          "ended",
          "ended",
          "ended",
          "ended",
          "ended",
          "ended",
          "ended",
          "ended",
          "ended",
          "ended",
          "ended",
          "ended",
          "ended",
          "ended",
          "ended",
          "ended",
          "ended",
          "ended",
          "ended",
          "ended",
          "ended",
          "ended",
          "ended",
          "ended",
          "ended",
          "ended",
          "ended",
          "ended",
          "ended",
          "ended",
          "ended",
          "ended",
          "ended",
          "ended",
          "ended",
          "ended",
          "ended",
          "ended",
          "ended",
          "ended",
          "ended",
          "ended",
          "ended",
          "ended",
          "ended",
          "ended",
          "ended",
          "ended",
          "ended",
          "ended",
          "ended",
          "ended",
          "ended",
          "ended",
          "ended",
          "ended",
          "ended",
          "ended",
          "ended",
          "ended",
          "ended",
          "ended",
          "ended",
          "ended",
          "ended",
          "ended",
          "ended",
          "ended",
          "ended",
          "ended",
          "ended",
          "ended",
          "ended",
          "ended",
          "ended",
          "ended",
          "ended",
          "ended",
          "ended",
          "ended",
          "ended",
          "ended",
          "ended",
          "ended",
          "ended",
          "ended",
          "ended",
          "ended",
          "ended",
          "ended",
          "ended",
          "ended",
          "ended",
          "ended",
          "ended",
          "ended",
          "ended",
          "ended",
          "ended",
          "ended",
          "ended",
          "ended",
          "ended",
          "ended",
          "ended",
          "ended",
          "ended",
          "ended",
          "ended",
          "ended",
          "ended",
          "ended",
          "ended",
          "ended",
          "ended",
          "ended",
          "ended",
          "ended",
          "ended",
          "ended",
          "ended",
          "ended",
          "ended",
          "ended",
          "ended",
          "ended",
          "ended",
          "ended",
          "ended",
          "ended",
          "ended",
          "ended",
          "ended",
          "ended",
          "ended",
          "ended",
          "ended",
          "ended",
          "ended",
          "ended",
          "ended",
          "ended",
          "ended",
          "ended",
          "ended",
          "ended",
          "ended",
          "ended",
          "ended",
          "ended",
          "ended",
          "ended",
          "ended",
          "ended",
          "ended",
          "ended",
          "ended",
          "ended",
          "ended",
          "ended",
          "ended",
          "ended",
          "ended",
          "ended",
          "ended",
          "ended",
          "ended",
          "ended",
          "ended",
          "ended",
          "ended",
          "ended",
          "ended",
          "ended",
          "ended",
          "ended",
          "ended",
          "ended",
          "ended",
          "ended",
          "ended",
          "ended",
          "ended",
          "ended",
          "ended",
          "ended",
          "ended",
          "ended",
          "ended",
          "ended",
          "ended",
          "ended",
          "ended",
          "ended",
          "ended",
          "ended",
          "ended",
          "ended",
          "ended",
          "ended",
          "ended",
          "ended",
          "ended",
          "ended",
          "ended",
          "ended",
          "ended",
          "ended",
          "ended",
          "ended",
          "ended",
          "ended",
          "ended",
          "ended",
          "ended",
          "ended",
          "ended",
          "ended",
          "ended",
          "ended",
          "ended",
          "ended",
          "ended",
          "ended",
          "ended",
          "ended",
          "ended",
          "ended",
          "ended",
          "ended",
          "ended",
          "ended",
          "ended",
          "ended",
          "ended",
          "ended",
          "ended",
          "ended",
          "ended",
          "ended",
          "ended",
          "ended",
          "ended",
          "ended",
          "ended",
          "ended",
          "ended",
          "ended",
          "ended",
          "ended",
          "ended",
          "ended",
          "ended",
          "ended",
          "ended",
          "ended",
          "ended",
          "ended",
          "ended",
          "ended",
          "ended",
          "ended",
          "ended",
          "ended",
          "ended",
          "ended",
          "ended",
          "ended",
          "ended",
          "ended",
          "ended",
          "ended",
          "ended",
          "ended",
          "ended",
          "ended",
          "ended",
          "ended",
          "ended",
          "ended",
          "ended",
          "ended",
          "ended",
          "ended",
          "ended",
          "ended",
          "ended",
          "ended",
          "ended",
          "ended",
          "ended",
          "ended",
          "ended",
          "ended",
          "ended",
          "ended",
          "ended",
          "ended",
          "ended",
          "ended",
          "ended",
          "ended",
          "ended",
          "ended",
          "ended",
          "ended",
          "ended",
          "ended",
          "ended",
          "ended",
          "ended",
          "ended",
          "ended",
          "ended",
          "ended",
          "ended",
          "ended",
          "ended",
          "ended",
          "ended",
          "ended",
          "ended",
          "ended",
          "ended",
          "ended",
          "ended",
          "ended",
          "ended",
          "ended",
          "ended",
          "ended",
          "ended",
          "ended",
          "ended",
          "ended",
          "ended",
          "ended",
          "ended",
          "ended",
          "ended",
          "ended",
          "ended",
          "ended",
          "ended",
          "ended",
          "ended",
          "ended",
          "ended",
          "ended",
          "ended",
          "ended",
          "ended",
          "ended",
          "ended",
          "ended",
          "ended",
          "ended",
          "ended",
          "ended",
          "ended",
          "ended",
          "ended",
          "ended",
          "ended",
          "ended",
          "ended",
          "ended",
          "ended",
          "ended",
          "ended",
          "ended",
          "ended",
          "ended",
          "ended",
          "ended",
          "ended",
          "ended",
          "ended",
          "ended",
          "ended",
          "ended",
          "ended",
          "ended",
          "ended",
          "ended",
          "ended",
          "ended",
          "ended",
          "ended",
          "ended",
          "ended",
          "ended",
          "ended",
          "ended",
          "ended",
          "ended",
          "ended",
          "ended",
          "ended",
          "ended",
          "ended",
          "ended",
          "ended",
          "ended",
          "ended",
          "ended",
          "ended",
          "ended",
          "ended",
          "ended",
          "ended",
          "ended",
          "ended",
          "ended",
          "ended",
          "ended",
          "ended",
          "ended",
          "ended",
          "ended",
          "ended",
          "ended",
          "ended",
          "ended",
          "ended",
          "ended",
          "ended",
          "ended",
          "ended",
          "ended",
          "ended",
          "ended",
          "ended",
          "ended",
          "ended",
          "ended",
          "ended",
          "ended",
          "ended",
          "ended",
          "ended",
          "ended",
          "ended",
          "ended",
          "ended",
          "ended",
          "ended",
          "ended",
          "ended",
          "ended",
          "ended",
          "ended",
          "ended",
          "ended",
          "ended",
          "ended",
          "ended",
          "ended",
          "ended",
          "ended",
          "ended",
          "ended",
          "ended",
          "ended",
          "ended",
          "ended",
          "ended",
          "ended",
          "ended",
          "ended",
          "ended",
          "ended",
          "ended",
          "ended",
          "ended",
          "ended",
          "ended",
          "ended",
          "ended",
          "ended",
          "ended",
          "ended",
          "ended",
          "ended",
          "ended",
          "ended",
          "ended",
          "ended",
          "ended",
          "ended",
          "ended",
          "ended",
          "ended",
          "ended",
          "ended",
          "ended",
          "ended",
          "ended",
          "ended",
          "ended",
          "ended",
          "ended",
          "ended",
          "ended",
          "ended",
          "ended",
          "ended",
          "ended",
          "ended",
          "ended",
          "ended",
          "ended",
          "ended",
          "ended",
          "ended",
          "ended",
          "ended",
          "ended",
          "ended",
          "ended",
          "ended",
          "ended",
          "ended",
          "ended",
          "ended",
          "ended",
          "ended",
          "ended",
          "ended",
          "ended",
          "ended",
          "ended",
          "ended",
          "ended",
          "ended",
          "ended",
          "ended",
          "ended",
          "ended",
          "ended",
          "ended",
          "ended",
          "ended",
          "ended",
          "ended",
          "ended",
          "ended",
          "ended",
          "ended",
          "ended",
          "ended",
          "ended",
          "ended",
          "ended",
          "ended",
          "ended",
          "ended",
          "ended",
          "ended",
          "ended",
          "ended",
          "ended",
          "ended",
          "ended",
          "ended",
          "ended",
          "ended",
          "ended",
          "ended",
          "ended",
          "ended",
          "ended",
          "ended",
          "ended",
          "ended",
          "ended",
          "ended",
          "ended",
          "ended",
          "ended",
          "ended",
          "ended",
          "ended",
          "ended",
          "ended",
          "ended",
          "ended",
          "ended",
          "ended",
          "ended",
          "ended",
          "ended",
          "ended",
          "ended",
          "ended",
          "ended",
          "ended",
          "ended",
          "ended",
          "ended",
          "ended",
          "ended",
          "ended",
          "ended",
          "ended",
          "ended",
          "ended",
          "ended",
          "ended",
          "ended",
          "ended",
          "ended",
          "ended",
          "ended",
          "ended",
          "ended",
          "ended",
          "ended",
          "ended",
          "ended",
          "ended",
          "ended",
          "ended",
          "ended",
          "ended",
          "ended",
          "ended",
          "ended",
          "ended",
          "ended",
          "ended",
          "ended",
          "ended",
          "ended",
          "ended",
          "ended",
          "ended",
          "ended",
          "ended",
          "ended",
          "ended",
          "ended",
          "ended",
          "ended",
          "ended",
          "ended",
          "ended",
          "ended",
          "ended",
          "ended",
          "ended",
          "ended",
          "ended",
          "ended",
          "ended",
          "ended",
          "ended",
          "ended",
          "ended",
          "ended",
          "ended",
          "ended",
          "ended",
          "ended",
          "ended",
          "ended",
          "ended",
          "ended",
          "ended",
          "ended",
          "ended",
          "ended",
          "ended",
          "ended",
          "ended",
          "ended",
          "ended",
          "ended",
          "ended",
          "ended",
          "ended",
          "ended",
          "ended",
          "ended",
          "ended",
          "ended",
          "ended",
          "ended",
          "ended",
          "ended",
          "ended",
          "ended",
          "ended",
          "ended",
          "ended",
          "ended",
          "ended",
          "ended",
          "ended",
          "ended",
          "ended",
          "ended",
          "ended",
          "ended",
          "ended",
          "ended",
          "ended",
          "ended",
          "ended",
          "ended",
          "ended",
          "ended",
          "ended",
          "ended",
          "ended",
          "ended",
          "ended",
          "ended",
          "ended",
          "ended",
          "ended",
          "ended",
          "ended",
          "ended",
          "ended",
          "ended",
          "ended",
          "ended",
          "ended",
          "ended",
          "ended",
          "ended",
          "ended",
          "ended",
          "ended",
          "ended",
          "ended",
          "ended",
          "ended",
          "ended",
          "ended",
          "ended",
          "ended",
          "ended",
          "ended",
          "ended",
          "ended",
          "ended",
          "ended",
          "ended",
          "ended",
          "ended",
          "ended",
          "ended",
          "ended",
          "ended",
          "ended",
          "ended",
          "ended",
          "ended",
          "ended",
          "ended",
          "ended",
          "ended",
          "ended",
          "ended",
          "ended",
          "ended",
          "ended",
          "ended",
          "ended",
          "ended",
          "ended",
          "ended",
          "ended",
          "ended",
          "ended",
          "ended",
          "ended",
          "ended",
          "ended",
          "ended",
          "ended",
          "ended",
          "ended",
          "ended",
          "ended",
          "ended",
          "ended",
          "ended",
          "ended",
          "ended",
          "ended",
          "ended",
          "ended",
          "ended",
          "ended",
          "ended",
          "ended",
          "ended",
          "ended",
          "ended",
          "ended",
          "ended",
          "ended",
          "ended",
          "ended",
          "ended",
          "ended",
          "ended",
          "ended",
          "ended",
          "ended",
          "ended",
          "ended",
          "ended",
          "ended",
          "ended",
          "ended",
          "ended",
          "ended",
          "ended",
          "ended",
          "ended",
          "ended",
          "ended",
          "ended",
          "ended",
          "ended",
          "ended",
          "ended",
          "ended",
          "ended",
          "ended",
          "ended",
          "ended",
          "ended",
          "ended",
          "ended",
          "ended",
          "ended",
          "ended",
          "ended",
          "ended",
          "ended",
          "ended",
          "ended",
          "ended",
          "ended",
          "ended",
          "ended",
          "ended",
          "ended",
          "ended",
          "ended",
          "ended",
          "ended",
          "ended",
          "ended",
          "ended",
          "ended",
          "ended",
          "ended",
          "ended",
          "ended",
          "ended",
          "ended",
          "ended",
          "ended",
          "ended",
          "ended",
          "ended",
          "ended",
          "ended",
          "ended",
          "ended",
          "ended",
          "ended",
          "ended",
          "ended",
          "ended",
          "ended",
          "ended",
          "ended",
          "ended",
          "ended",
          "ended",
          "ended",
          "ended",
          "ended",
          "ended",
          "ended",
          "ended",
          "ended",
          "ended",
          "ended",
          "ended",
          "ended",
          "ended",
          "ended",
          "ended",
          "ended",
          "ended",
          "ended",
          "ended",
          "ended",
          "ended",
          "ended",
          "ended",
          "ended",
          "ended",
          "ended",
          "ended",
          "ended",
          "ended",
          "ended",
          "ended",
          "ended",
          "ended",
          "ended",
          "ended",
          "ended",
          "ended",
          "ended",
          "ended",
          "ended",
          "ended",
          "ended",
          "ended",
          "ended",
          "ended",
          "ended",
          "ended",
          "ended",
          "ended",
          "ended",
          "ended",
          "ended",
          "ended",
          "ended",
          "ended",
          "ended",
          "ended",
          "ended",
          "ended",
          "ended",
          "ended",
          "ended",
          "ended",
          "ended",
          "ended",
          "ended",
          "ended",
          "ended",
          "ended",
          "ended",
          "ended",
          "ended",
          "ended",
          "ended",
          "ended",
          "ended",
          "ended",
          "ended",
          "ended",
          "ended",
          "ended",
          "ended",
          "ended",
          "ended",
          "ended",
          "ended",
          "ended",
          "ended",
          "ended",
          "ended",
          "ended",
          "ended",
          "ended",
          "ended",
          "ended",
          "ended",
          "ended",
          "ended",
          "ended",
          "ended",
          "ended",
          "ended",
          "ended",
          "ended",
          "ended",
          "ended",
          "ended",
          "ended",
          "ended",
          "ended",
          "ended",
          "ended",
          "ended",
          "ended",
          "ended",
          "ended",
          "ended",
          "ended",
          "ended",
          "ended",
          "ended",
          "ended",
          "ended",
          "ended",
          "ended",
          "ended",
          "ended",
          "ended",
          "ended",
          "ended",
          "ended",
          "ended",
          "ended",
          "ended",
          "ended",
          "ended",
          "ended",
          "ended",
          "ended",
          "ended",
          "ended",
          "ended",
          "ended",
          "ended",
          "ended",
          "ended",
          "ended",
          "ended",
          "ended",
          "ended",
          "ended",
          "ended",
          "ended",
          "ended",
          "ended",
          "ended",
          "ended",
          "ended",
          "ended",
          "ended",
          "ended",
          "ended",
          "ended",
          "ended",
          "ended",
          "ended",
          "ended",
          "ended",
          "ended",
          "ended",
          "ended",
          "ended",
          "ended",
          "ended",
          "ended",
          "ended",
          "ended",
          "ended",
          "ended",
          "ended",
          "ended",
          "ended",
          "ended",
          "ended",
          "ended",
          "ended",
          "ended",
          "ended",
          "ended",
          "ended",
          "ended",
          "ended",
          "ended",
          "ended",
          "ended",
          "ended",
          "ended",
          "ended",
          "ended",
          "ended",
          "ended",
          "ended",
          "ended",
          "ended",
          "ended",
          "ended",
          "ended",
          "ended",
          "ended",
          "ended",
          "ended",
          "ended",
          "ended",
          "ended",
          "ended",
          "ended",
          "ended",
          "ended",
          "ended",
          "ended",
          "ended",
          "ended",
          "ended",
          "ended",
          "ended",
          "ended",
          "ended",
          "ended",
          "ended",
          "ended",
          "ended",
          "ended",
          "ended",
          "ended",
          "ended",
          "ended",
          "ended",
          "ended",
          "ended",
          "ended",
          "ended",
          "ended",
          "ended",
          "ended",
          "ended",
          "ended",
          "ended",
          "ended",
          "ended",
          "ended",
          "ended",
          "ended",
          "ended",
          "ended",
          "ended",
          "ended",
          "ended",
          "ended",
          "ended",
          "ended",
          "ended",
          "ended",
          "ended",
          "ended",
          "ended",
          "ended",
          "ended",
          "ended",
          "ended",
          "ended",
          "ended",
          "ended",
          "ended",
          "ended",
          "ended",
          "ended",
          "ended",
          "ended",
          "ended",
          "ended",
          "ended",
          "ended",
          "ended",
          "ended",
          "ended",
          "ended",
          "ended",
          "ended",
          "ended",
          "ended",
          "ended",
          "ended",
          "ended",
          "ended",
          "ended",
          "ended",
          "ended",
          "ended",
          "ended",
          "ended",
          "ended",
          "ended",
          "ended",
          "ended",
          "ended",
          "ended",
          "ended",
          "ended",
          "ended",
          "ended",
          "ended",
          "ended",
          "ended",
          "ended",
          "ended",
          "ended",
          "ended",
          "ended",
          "ended",
          "ended",
          "ended",
          "ended",
          "ended",
          "ended",
          "ended",
          "ended"
         ],
         "x0": " ",
         "xaxis": "x",
         "y": {
          "bdata": "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",
          "dtype": "f8"
         },
         "y0": " ",
         "yaxis": "y"
        }
       ],
       "layout": {
        "boxmode": "group",
        "legend": {
         "tracegroupgap": 0
        },
        "margin": {
         "t": 60
        },
        "template": {
         "data": {
          "bar": [
           {
            "error_x": {
             "color": "#2a3f5f"
            },
            "error_y": {
             "color": "#2a3f5f"
            },
            "marker": {
             "line": {
              "color": "#E5ECF6",
              "width": 0.5
             },
             "pattern": {
              "fillmode": "overlay",
              "size": 10,
              "solidity": 0.2
             }
            },
            "type": "bar"
           }
          ],
          "barpolar": [
           {
            "marker": {
             "line": {
              "color": "#E5ECF6",
              "width": 0.5
             },
             "pattern": {
              "fillmode": "overlay",
              "size": 10,
              "solidity": 0.2
             }
            },
            "type": "barpolar"
           }
          ],
          "carpet": [
           {
            "aaxis": {
             "endlinecolor": "#2a3f5f",
             "gridcolor": "white",
             "linecolor": "white",
             "minorgridcolor": "white",
             "startlinecolor": "#2a3f5f"
            },
            "baxis": {
             "endlinecolor": "#2a3f5f",
             "gridcolor": "white",
             "linecolor": "white",
             "minorgridcolor": "white",
             "startlinecolor": "#2a3f5f"
            },
            "type": "carpet"
           }
          ],
          "choropleth": [
           {
            "colorbar": {
             "outlinewidth": 0,
             "ticks": ""
            },
            "type": "choropleth"
           }
          ],
          "contour": [
           {
            "colorbar": {
             "outlinewidth": 0,
             "ticks": ""
            },
            "colorscale": [
             [
              0,
              "#0d0887"
             ],
             [
              0.1111111111111111,
              "#46039f"
             ],
             [
              0.2222222222222222,
              "#7201a8"
             ],
             [
              0.3333333333333333,
              "#9c179e"
             ],
             [
              0.4444444444444444,
              "#bd3786"
             ],
             [
              0.5555555555555556,
              "#d8576b"
             ],
             [
              0.6666666666666666,
              "#ed7953"
             ],
             [
              0.7777777777777778,
              "#fb9f3a"
             ],
             [
              0.8888888888888888,
              "#fdca26"
             ],
             [
              1,
              "#f0f921"
             ]
            ],
            "type": "contour"
           }
          ],
          "contourcarpet": [
           {
            "colorbar": {
             "outlinewidth": 0,
             "ticks": ""
            },
            "type": "contourcarpet"
           }
          ],
          "heatmap": [
           {
            "colorbar": {
             "outlinewidth": 0,
             "ticks": ""
            },
            "colorscale": [
             [
              0,
              "#0d0887"
             ],
             [
              0.1111111111111111,
              "#46039f"
             ],
             [
              0.2222222222222222,
              "#7201a8"
             ],
             [
              0.3333333333333333,
              "#9c179e"
             ],
             [
              0.4444444444444444,
              "#bd3786"
             ],
             [
              0.5555555555555556,
              "#d8576b"
             ],
             [
              0.6666666666666666,
              "#ed7953"
             ],
             [
              0.7777777777777778,
              "#fb9f3a"
             ],
             [
              0.8888888888888888,
              "#fdca26"
             ],
             [
              1,
              "#f0f921"
             ]
            ],
            "type": "heatmap"
           }
          ],
          "histogram": [
           {
            "marker": {
             "pattern": {
              "fillmode": "overlay",
              "size": 10,
              "solidity": 0.2
             }
            },
            "type": "histogram"
           }
          ],
          "histogram2d": [
           {
            "colorbar": {
             "outlinewidth": 0,
             "ticks": ""
            },
            "colorscale": [
             [
              0,
              "#0d0887"
             ],
             [
              0.1111111111111111,
              "#46039f"
             ],
             [
              0.2222222222222222,
              "#7201a8"
             ],
             [
              0.3333333333333333,
              "#9c179e"
             ],
             [
              0.4444444444444444,
              "#bd3786"
             ],
             [
              0.5555555555555556,
              "#d8576b"
             ],
             [
              0.6666666666666666,
              "#ed7953"
             ],
             [
              0.7777777777777778,
              "#fb9f3a"
             ],
             [
              0.8888888888888888,
              "#fdca26"
             ],
             [
              1,
              "#f0f921"
             ]
            ],
            "type": "histogram2d"
           }
          ],
          "histogram2dcontour": [
           {
            "colorbar": {
             "outlinewidth": 0,
             "ticks": ""
            },
            "colorscale": [
             [
              0,
              "#0d0887"
             ],
             [
              0.1111111111111111,
              "#46039f"
             ],
             [
              0.2222222222222222,
              "#7201a8"
             ],
             [
              0.3333333333333333,
              "#9c179e"
             ],
             [
              0.4444444444444444,
              "#bd3786"
             ],
             [
              0.5555555555555556,
              "#d8576b"
             ],
             [
              0.6666666666666666,
              "#ed7953"
             ],
             [
              0.7777777777777778,
              "#fb9f3a"
             ],
             [
              0.8888888888888888,
              "#fdca26"
             ],
             [
              1,
              "#f0f921"
             ]
            ],
            "type": "histogram2dcontour"
           }
          ],
          "mesh3d": [
           {
            "colorbar": {
             "outlinewidth": 0,
             "ticks": ""
            },
            "type": "mesh3d"
           }
          ],
          "parcoords": [
           {
            "line": {
             "colorbar": {
              "outlinewidth": 0,
              "ticks": ""
             }
            },
            "type": "parcoords"
           }
          ],
          "pie": [
           {
            "automargin": true,
            "type": "pie"
           }
          ],
          "scatter": [
           {
            "fillpattern": {
             "fillmode": "overlay",
             "size": 10,
             "solidity": 0.2
            },
            "type": "scatter"
           }
          ],
          "scatter3d": [
           {
            "line": {
             "colorbar": {
              "outlinewidth": 0,
              "ticks": ""
             }
            },
            "marker": {
             "colorbar": {
              "outlinewidth": 0,
              "ticks": ""
             }
            },
            "type": "scatter3d"
           }
          ],
          "scattercarpet": [
           {
            "marker": {
             "colorbar": {
              "outlinewidth": 0,
              "ticks": ""
             }
            },
            "type": "scattercarpet"
           }
          ],
          "scattergeo": [
           {
            "marker": {
             "colorbar": {
              "outlinewidth": 0,
              "ticks": ""
             }
            },
            "type": "scattergeo"
           }
          ],
          "scattergl": [
           {
            "marker": {
             "colorbar": {
              "outlinewidth": 0,
              "ticks": ""
             }
            },
            "type": "scattergl"
           }
          ],
          "scattermap": [
           {
            "marker": {
             "colorbar": {
              "outlinewidth": 0,
              "ticks": ""
             }
            },
            "type": "scattermap"
           }
          ],
          "scattermapbox": [
           {
            "marker": {
             "colorbar": {
              "outlinewidth": 0,
              "ticks": ""
             }
            },
            "type": "scattermapbox"
           }
          ],
          "scatterpolar": [
           {
            "marker": {
             "colorbar": {
              "outlinewidth": 0,
              "ticks": ""
             }
            },
            "type": "scatterpolar"
           }
          ],
          "scatterpolargl": [
           {
            "marker": {
             "colorbar": {
              "outlinewidth": 0,
              "ticks": ""
             }
            },
            "type": "scatterpolargl"
           }
          ],
          "scatterternary": [
           {
            "marker": {
             "colorbar": {
              "outlinewidth": 0,
              "ticks": ""
             }
            },
            "type": "scatterternary"
           }
          ],
          "surface": [
           {
            "colorbar": {
             "outlinewidth": 0,
             "ticks": ""
            },
            "colorscale": [
             [
              0,
              "#0d0887"
             ],
             [
              0.1111111111111111,
              "#46039f"
             ],
             [
              0.2222222222222222,
              "#7201a8"
             ],
             [
              0.3333333333333333,
              "#9c179e"
             ],
             [
              0.4444444444444444,
              "#bd3786"
             ],
             [
              0.5555555555555556,
              "#d8576b"
             ],
             [
              0.6666666666666666,
              "#ed7953"
             ],
             [
              0.7777777777777778,
              "#fb9f3a"
             ],
             [
              0.8888888888888888,
              "#fdca26"
             ],
             [
              1,
              "#f0f921"
             ]
            ],
            "type": "surface"
           }
          ],
          "table": [
           {
            "cells": {
             "fill": {
              "color": "#EBF0F8"
             },
             "line": {
              "color": "white"
             }
            },
            "header": {
             "fill": {
              "color": "#C8D4E3"
             },
             "line": {
              "color": "white"
             }
            },
            "type": "table"
           }
          ]
         },
         "layout": {
          "annotationdefaults": {
           "arrowcolor": "#2a3f5f",
           "arrowhead": 0,
           "arrowwidth": 1
          },
          "autotypenumbers": "strict",
          "coloraxis": {
           "colorbar": {
            "outlinewidth": 0,
            "ticks": ""
           }
          },
          "colorscale": {
           "diverging": [
            [
             0,
             "#8e0152"
            ],
            [
             0.1,
             "#c51b7d"
            ],
            [
             0.2,
             "#de77ae"
            ],
            [
             0.3,
             "#f1b6da"
            ],
            [
             0.4,
             "#fde0ef"
            ],
            [
             0.5,
             "#f7f7f7"
            ],
            [
             0.6,
             "#e6f5d0"
            ],
            [
             0.7,
             "#b8e186"
            ],
            [
             0.8,
             "#7fbc41"
            ],
            [
             0.9,
             "#4d9221"
            ],
            [
             1,
             "#276419"
            ]
           ],
           "sequential": [
            [
             0,
             "#0d0887"
            ],
            [
             0.1111111111111111,
             "#46039f"
            ],
            [
             0.2222222222222222,
             "#7201a8"
            ],
            [
             0.3333333333333333,
             "#9c179e"
            ],
            [
             0.4444444444444444,
             "#bd3786"
            ],
            [
             0.5555555555555556,
             "#d8576b"
            ],
            [
             0.6666666666666666,
             "#ed7953"
            ],
            [
             0.7777777777777778,
             "#fb9f3a"
            ],
            [
             0.8888888888888888,
             "#fdca26"
            ],
            [
             1,
             "#f0f921"
            ]
           ],
           "sequentialminus": [
            [
             0,
             "#0d0887"
            ],
            [
             0.1111111111111111,
             "#46039f"
            ],
            [
             0.2222222222222222,
             "#7201a8"
            ],
            [
             0.3333333333333333,
             "#9c179e"
            ],
            [
             0.4444444444444444,
             "#bd3786"
            ],
            [
             0.5555555555555556,
             "#d8576b"
            ],
            [
             0.6666666666666666,
             "#ed7953"
            ],
            [
             0.7777777777777778,
             "#fb9f3a"
            ],
            [
             0.8888888888888888,
             "#fdca26"
            ],
            [
             1,
             "#f0f921"
            ]
           ]
          },
          "colorway": [
           "#636efa",
           "#EF553B",
           "#00cc96",
           "#ab63fa",
           "#FFA15A",
           "#19d3f3",
           "#FF6692",
           "#B6E880",
           "#FF97FF",
           "#FECB52"
          ],
          "font": {
           "color": "#2a3f5f"
          },
          "geo": {
           "bgcolor": "white",
           "lakecolor": "white",
           "landcolor": "#E5ECF6",
           "showlakes": true,
           "showland": true,
           "subunitcolor": "white"
          },
          "hoverlabel": {
           "align": "left"
          },
          "hovermode": "closest",
          "mapbox": {
           "style": "light"
          },
          "paper_bgcolor": "white",
          "plot_bgcolor": "#E5ECF6",
          "polar": {
           "angularaxis": {
            "gridcolor": "white",
            "linecolor": "white",
            "ticks": ""
           },
           "bgcolor": "#E5ECF6",
           "radialaxis": {
            "gridcolor": "white",
            "linecolor": "white",
            "ticks": ""
           }
          },
          "scene": {
           "xaxis": {
            "backgroundcolor": "#E5ECF6",
            "gridcolor": "white",
            "gridwidth": 2,
            "linecolor": "white",
            "showbackground": true,
            "ticks": "",
            "zerolinecolor": "white"
           },
           "yaxis": {
            "backgroundcolor": "#E5ECF6",
            "gridcolor": "white",
            "gridwidth": 2,
            "linecolor": "white",
            "showbackground": true,
            "ticks": "",
            "zerolinecolor": "white"
           },
           "zaxis": {
            "backgroundcolor": "#E5ECF6",
            "gridcolor": "white",
            "gridwidth": 2,
            "linecolor": "white",
            "showbackground": true,
            "ticks": "",
            "zerolinecolor": "white"
           }
          },
          "shapedefaults": {
           "line": {
            "color": "#2a3f5f"
           }
          },
          "ternary": {
           "aaxis": {
            "gridcolor": "white",
            "linecolor": "white",
            "ticks": ""
           },
           "baxis": {
            "gridcolor": "white",
            "linecolor": "white",
            "ticks": ""
           },
           "bgcolor": "#E5ECF6",
           "caxis": {
            "gridcolor": "white",
            "linecolor": "white",
            "ticks": ""
           }
          },
          "title": {
           "x": 0.05
          },
          "xaxis": {
           "automargin": true,
           "gridcolor": "white",
           "linecolor": "white",
           "ticks": "",
           "title": {
            "standoff": 15
           },
           "zerolinecolor": "white",
           "zerolinewidth": 2
          },
          "yaxis": {
           "automargin": true,
           "gridcolor": "white",
           "linecolor": "white",
           "ticks": "",
           "title": {
            "standoff": 15
           },
           "zerolinecolor": "white",
           "zerolinewidth": 2
          }
         }
        },
        "width": 600,
        "xaxis": {
         "anchor": "y",
         "domain": [
          0,
          1
         ],
         "title": {
          "text": "state"
         }
        },
        "yaxis": {
         "anchor": "x",
         "domain": [
          0,
          1
         ],
         "title": {
          "text": "delay_at_checkout_in_minutes"
         }
        }
       }
      }
     },
     "metadata": {},
     "output_type": "display_data"
    }
   ],
   "source": [
    "box = px.box(data_clean,x='state',y='delay_at_checkout_in_minutes',width=600)\n",
    "box.show()"
   ]
  },
  {
   "cell_type": "code",
   "execution_count": 208,
   "id": "00dcffe8",
   "metadata": {},
   "outputs": [
    {
     "name": "stdout",
     "output_type": "stream",
     "text": [
      "Analyse des canceled\n",
      "(3265, 7)\n"
     ]
    },
    {
     "data": {
      "text/html": [
       "<div>\n",
       "<style scoped>\n",
       "    .dataframe tbody tr th:only-of-type {\n",
       "        vertical-align: middle;\n",
       "    }\n",
       "\n",
       "    .dataframe tbody tr th {\n",
       "        vertical-align: top;\n",
       "    }\n",
       "\n",
       "    .dataframe thead th {\n",
       "        text-align: right;\n",
       "    }\n",
       "</style>\n",
       "<table border=\"1\" class=\"dataframe\">\n",
       "  <thead>\n",
       "    <tr style=\"text-align: right;\">\n",
       "      <th></th>\n",
       "      <th>rental_id</th>\n",
       "      <th>car_id</th>\n",
       "      <th>delay_at_checkout_in_minutes</th>\n",
       "      <th>previous_ended_rental_id</th>\n",
       "      <th>time_delta_with_previous_rental_in_minutes</th>\n",
       "    </tr>\n",
       "  </thead>\n",
       "  <tbody>\n",
       "    <tr>\n",
       "      <th>count</th>\n",
       "      <td>3265.000000</td>\n",
       "      <td>3265.000000</td>\n",
       "      <td>1.0</td>\n",
       "      <td>229.000000</td>\n",
       "      <td>229.000000</td>\n",
       "    </tr>\n",
       "    <tr>\n",
       "      <th>mean</th>\n",
       "      <td>548637.683920</td>\n",
       "      <td>350585.309954</td>\n",
       "      <td>-17468.0</td>\n",
       "      <td>550913.327511</td>\n",
       "      <td>294.890830</td>\n",
       "    </tr>\n",
       "    <tr>\n",
       "      <th>std</th>\n",
       "      <td>14907.810897</td>\n",
       "      <td>57254.052866</td>\n",
       "      <td>NaN</td>\n",
       "      <td>11955.397600</td>\n",
       "      <td>250.591601</td>\n",
       "    </tr>\n",
       "    <tr>\n",
       "      <th>min</th>\n",
       "      <td>504871.000000</td>\n",
       "      <td>159533.000000</td>\n",
       "      <td>-17468.0</td>\n",
       "      <td>509972.000000</td>\n",
       "      <td>0.000000</td>\n",
       "    </tr>\n",
       "    <tr>\n",
       "      <th>25%</th>\n",
       "      <td>539183.000000</td>\n",
       "      <td>317572.000000</td>\n",
       "      <td>-17468.0</td>\n",
       "      <td>543706.000000</td>\n",
       "      <td>60.000000</td>\n",
       "    </tr>\n",
       "    <tr>\n",
       "      <th>50%</th>\n",
       "      <td>549700.000000</td>\n",
       "      <td>368593.000000</td>\n",
       "      <td>-17468.0</td>\n",
       "      <td>550970.000000</td>\n",
       "      <td>210.000000</td>\n",
       "    </tr>\n",
       "    <tr>\n",
       "      <th>75%</th>\n",
       "      <td>560563.000000</td>\n",
       "      <td>394869.000000</td>\n",
       "      <td>-17468.0</td>\n",
       "      <td>560395.000000</td>\n",
       "      <td>570.000000</td>\n",
       "    </tr>\n",
       "    <tr>\n",
       "      <th>max</th>\n",
       "      <td>576195.000000</td>\n",
       "      <td>416935.000000</td>\n",
       "      <td>-17468.0</td>\n",
       "      <td>574540.000000</td>\n",
       "      <td>720.000000</td>\n",
       "    </tr>\n",
       "  </tbody>\n",
       "</table>\n",
       "</div>"
      ],
      "text/plain": [
       "           rental_id         car_id  delay_at_checkout_in_minutes  \\\n",
       "count    3265.000000    3265.000000                           1.0   \n",
       "mean   548637.683920  350585.309954                      -17468.0   \n",
       "std     14907.810897   57254.052866                           NaN   \n",
       "min    504871.000000  159533.000000                      -17468.0   \n",
       "25%    539183.000000  317572.000000                      -17468.0   \n",
       "50%    549700.000000  368593.000000                      -17468.0   \n",
       "75%    560563.000000  394869.000000                      -17468.0   \n",
       "max    576195.000000  416935.000000                      -17468.0   \n",
       "\n",
       "       previous_ended_rental_id  time_delta_with_previous_rental_in_minutes  \n",
       "count                229.000000                                  229.000000  \n",
       "mean              550913.327511                                  294.890830  \n",
       "std                11955.397600                                  250.591601  \n",
       "min               509972.000000                                    0.000000  \n",
       "25%               543706.000000                                   60.000000  \n",
       "50%               550970.000000                                  210.000000  \n",
       "75%               560395.000000                                  570.000000  \n",
       "max               574540.000000                                  720.000000  "
      ]
     },
     "metadata": {},
     "output_type": "display_data"
    },
    {
     "data": {
      "text/plain": [
       "rental_id                                        0\n",
       "car_id                                           0\n",
       "checkin_type                                     0\n",
       "state                                            0\n",
       "delay_at_checkout_in_minutes                  3264\n",
       "previous_ended_rental_id                      3036\n",
       "time_delta_with_previous_rental_in_minutes    3036\n",
       "dtype: int64"
      ]
     },
     "metadata": {},
     "output_type": "display_data"
    },
    {
     "data": {
      "application/vnd.plotly.v1+json": {
       "config": {
        "plotlyServerURL": "https://plot.ly"
       },
       "data": [
        {
         "alignmentgroup": "True",
         "hovertemplate": "state=%{x}<br>time_delta_with_previous_rental_in_minutes=%{y}<extra></extra>",
         "legendgroup": "",
         "marker": {
          "color": "#636efa"
         },
         "name": "",
         "notched": false,
         "offsetgroup": "",
         "orientation": "v",
         "showlegend": false,
         "type": "box",
         "x": [
          "canceled",
          "canceled",
          "canceled",
          "canceled",
          "canceled",
          "canceled",
          "canceled",
          "canceled",
          "canceled",
          "canceled",
          "canceled",
          "canceled",
          "canceled",
          "canceled",
          "canceled",
          "canceled",
          "canceled",
          "canceled",
          "canceled",
          "canceled",
          "canceled",
          "canceled",
          "canceled",
          "canceled",
          "canceled",
          "canceled",
          "canceled",
          "canceled",
          "canceled",
          "canceled",
          "canceled",
          "canceled",
          "canceled",
          "canceled",
          "canceled",
          "canceled",
          "canceled",
          "canceled",
          "canceled",
          "canceled",
          "canceled",
          "canceled",
          "canceled",
          "canceled",
          "canceled",
          "canceled",
          "canceled",
          "canceled",
          "canceled",
          "canceled",
          "canceled",
          "canceled",
          "canceled",
          "canceled",
          "canceled",
          "canceled",
          "canceled",
          "canceled",
          "canceled",
          "canceled",
          "canceled",
          "canceled",
          "canceled",
          "canceled",
          "canceled",
          "canceled",
          "canceled",
          "canceled",
          "canceled",
          "canceled",
          "canceled",
          "canceled",
          "canceled",
          "canceled",
          "canceled",
          "canceled",
          "canceled",
          "canceled",
          "canceled",
          "canceled",
          "canceled",
          "canceled",
          "canceled",
          "canceled",
          "canceled",
          "canceled",
          "canceled",
          "canceled",
          "canceled",
          "canceled",
          "canceled",
          "canceled",
          "canceled",
          "canceled",
          "canceled",
          "canceled",
          "canceled",
          "canceled",
          "canceled",
          "canceled",
          "canceled",
          "canceled",
          "canceled",
          "canceled",
          "canceled",
          "canceled",
          "canceled",
          "canceled",
          "canceled",
          "canceled",
          "canceled",
          "canceled",
          "canceled",
          "canceled",
          "canceled",
          "canceled",
          "canceled",
          "canceled",
          "canceled",
          "canceled",
          "canceled",
          "canceled",
          "canceled",
          "canceled",
          "canceled",
          "canceled",
          "canceled",
          "canceled",
          "canceled",
          "canceled",
          "canceled",
          "canceled",
          "canceled",
          "canceled",
          "canceled",
          "canceled",
          "canceled",
          "canceled",
          "canceled",
          "canceled",
          "canceled",
          "canceled",
          "canceled",
          "canceled",
          "canceled",
          "canceled",
          "canceled",
          "canceled",
          "canceled",
          "canceled",
          "canceled",
          "canceled",
          "canceled",
          "canceled",
          "canceled",
          "canceled",
          "canceled",
          "canceled",
          "canceled",
          "canceled",
          "canceled",
          "canceled",
          "canceled",
          "canceled",
          "canceled",
          "canceled",
          "canceled",
          "canceled",
          "canceled",
          "canceled",
          "canceled",
          "canceled",
          "canceled",
          "canceled",
          "canceled",
          "canceled",
          "canceled",
          "canceled",
          "canceled",
          "canceled",
          "canceled",
          "canceled",
          "canceled",
          "canceled",
          "canceled",
          "canceled",
          "canceled",
          "canceled",
          "canceled",
          "canceled",
          "canceled",
          "canceled",
          "canceled",
          "canceled",
          "canceled",
          "canceled",
          "canceled",
          "canceled",
          "canceled",
          "canceled",
          "canceled",
          "canceled",
          "canceled",
          "canceled",
          "canceled",
          "canceled",
          "canceled",
          "canceled",
          "canceled",
          "canceled",
          "canceled",
          "canceled",
          "canceled",
          "canceled",
          "canceled",
          "canceled",
          "canceled",
          "canceled",
          "canceled",
          "canceled",
          "canceled",
          "canceled",
          "canceled",
          "canceled",
          "canceled",
          "canceled",
          "canceled",
          "canceled",
          "canceled",
          "canceled",
          "canceled",
          "canceled",
          "canceled",
          "canceled",
          "canceled",
          "canceled",
          "canceled",
          "canceled",
          "canceled",
          "canceled",
          "canceled",
          "canceled",
          "canceled",
          "canceled",
          "canceled",
          "canceled",
          "canceled",
          "canceled",
          "canceled",
          "canceled",
          "canceled",
          "canceled",
          "canceled",
          "canceled",
          "canceled",
          "canceled",
          "canceled",
          "canceled",
          "canceled",
          "canceled",
          "canceled",
          "canceled",
          "canceled",
          "canceled",
          "canceled",
          "canceled",
          "canceled",
          "canceled",
          "canceled",
          "canceled",
          "canceled",
          "canceled",
          "canceled",
          "canceled",
          "canceled",
          "canceled",
          "canceled",
          "canceled",
          "canceled",
          "canceled",
          "canceled",
          "canceled",
          "canceled",
          "canceled",
          "canceled",
          "canceled",
          "canceled",
          "canceled",
          "canceled",
          "canceled",
          "canceled",
          "canceled",
          "canceled",
          "canceled",
          "canceled",
          "canceled",
          "canceled",
          "canceled",
          "canceled",
          "canceled",
          "canceled",
          "canceled",
          "canceled",
          "canceled",
          "canceled",
          "canceled",
          "canceled",
          "canceled",
          "canceled",
          "canceled",
          "canceled",
          "canceled",
          "canceled",
          "canceled",
          "canceled",
          "canceled",
          "canceled",
          "canceled",
          "canceled",
          "canceled",
          "canceled",
          "canceled",
          "canceled",
          "canceled",
          "canceled",
          "canceled",
          "canceled",
          "canceled",
          "canceled",
          "canceled",
          "canceled",
          "canceled",
          "canceled",
          "canceled",
          "canceled",
          "canceled",
          "canceled",
          "canceled",
          "canceled",
          "canceled",
          "canceled",
          "canceled",
          "canceled",
          "canceled",
          "canceled",
          "canceled",
          "canceled",
          "canceled",
          "canceled",
          "canceled",
          "canceled",
          "canceled",
          "canceled",
          "canceled",
          "canceled",
          "canceled",
          "canceled",
          "canceled",
          "canceled",
          "canceled",
          "canceled",
          "canceled",
          "canceled",
          "canceled",
          "canceled",
          "canceled",
          "canceled",
          "canceled",
          "canceled",
          "canceled",
          "canceled",
          "canceled",
          "canceled",
          "canceled",
          "canceled",
          "canceled",
          "canceled",
          "canceled",
          "canceled",
          "canceled",
          "canceled",
          "canceled",
          "canceled",
          "canceled",
          "canceled",
          "canceled",
          "canceled",
          "canceled",
          "canceled",
          "canceled",
          "canceled",
          "canceled",
          "canceled",
          "canceled",
          "canceled",
          "canceled",
          "canceled",
          "canceled",
          "canceled",
          "canceled",
          "canceled",
          "canceled",
          "canceled",
          "canceled",
          "canceled",
          "canceled",
          "canceled",
          "canceled",
          "canceled",
          "canceled",
          "canceled",
          "canceled",
          "canceled",
          "canceled",
          "canceled",
          "canceled",
          "canceled",
          "canceled",
          "canceled",
          "canceled",
          "canceled",
          "canceled",
          "canceled",
          "canceled",
          "canceled",
          "canceled",
          "canceled",
          "canceled",
          "canceled",
          "canceled",
          "canceled",
          "canceled",
          "canceled",
          "canceled",
          "canceled",
          "canceled",
          "canceled",
          "canceled",
          "canceled",
          "canceled",
          "canceled",
          "canceled",
          "canceled",
          "canceled",
          "canceled",
          "canceled",
          "canceled",
          "canceled",
          "canceled",
          "canceled",
          "canceled",
          "canceled",
          "canceled",
          "canceled",
          "canceled",
          "canceled",
          "canceled",
          "canceled",
          "canceled",
          "canceled",
          "canceled",
          "canceled",
          "canceled",
          "canceled",
          "canceled",
          "canceled",
          "canceled",
          "canceled",
          "canceled",
          "canceled",
          "canceled",
          "canceled",
          "canceled",
          "canceled",
          "canceled",
          "canceled",
          "canceled",
          "canceled",
          "canceled",
          "canceled",
          "canceled",
          "canceled",
          "canceled",
          "canceled",
          "canceled",
          "canceled",
          "canceled",
          "canceled",
          "canceled",
          "canceled",
          "canceled",
          "canceled",
          "canceled",
          "canceled",
          "canceled",
          "canceled",
          "canceled",
          "canceled",
          "canceled",
          "canceled",
          "canceled",
          "canceled",
          "canceled",
          "canceled",
          "canceled",
          "canceled",
          "canceled",
          "canceled",
          "canceled",
          "canceled",
          "canceled",
          "canceled",
          "canceled",
          "canceled",
          "canceled",
          "canceled",
          "canceled",
          "canceled",
          "canceled",
          "canceled",
          "canceled",
          "canceled",
          "canceled",
          "canceled",
          "canceled",
          "canceled",
          "canceled",
          "canceled",
          "canceled",
          "canceled",
          "canceled",
          "canceled",
          "canceled",
          "canceled",
          "canceled",
          "canceled",
          "canceled",
          "canceled",
          "canceled",
          "canceled",
          "canceled",
          "canceled",
          "canceled",
          "canceled",
          "canceled",
          "canceled",
          "canceled",
          "canceled",
          "canceled",
          "canceled",
          "canceled",
          "canceled",
          "canceled",
          "canceled",
          "canceled",
          "canceled",
          "canceled",
          "canceled",
          "canceled",
          "canceled",
          "canceled",
          "canceled",
          "canceled",
          "canceled",
          "canceled",
          "canceled",
          "canceled",
          "canceled",
          "canceled",
          "canceled",
          "canceled",
          "canceled",
          "canceled",
          "canceled",
          "canceled",
          "canceled",
          "canceled",
          "canceled",
          "canceled",
          "canceled",
          "canceled",
          "canceled",
          "canceled",
          "canceled",
          "canceled",
          "canceled",
          "canceled",
          "canceled",
          "canceled",
          "canceled",
          "canceled",
          "canceled",
          "canceled",
          "canceled",
          "canceled",
          "canceled",
          "canceled",
          "canceled",
          "canceled",
          "canceled",
          "canceled",
          "canceled",
          "canceled",
          "canceled",
          "canceled",
          "canceled",
          "canceled",
          "canceled",
          "canceled",
          "canceled",
          "canceled",
          "canceled",
          "canceled",
          "canceled",
          "canceled",
          "canceled",
          "canceled",
          "canceled",
          "canceled",
          "canceled",
          "canceled",
          "canceled",
          "canceled",
          "canceled",
          "canceled",
          "canceled",
          "canceled",
          "canceled",
          "canceled",
          "canceled",
          "canceled",
          "canceled",
          "canceled",
          "canceled",
          "canceled",
          "canceled",
          "canceled",
          "canceled",
          "canceled",
          "canceled",
          "canceled",
          "canceled",
          "canceled",
          "canceled",
          "canceled",
          "canceled",
          "canceled",
          "canceled",
          "canceled",
          "canceled",
          "canceled",
          "canceled",
          "canceled",
          "canceled",
          "canceled",
          "canceled",
          "canceled",
          "canceled",
          "canceled",
          "canceled",
          "canceled",
          "canceled",
          "canceled",
          "canceled",
          "canceled",
          "canceled",
          "canceled",
          "canceled",
          "canceled",
          "canceled",
          "canceled",
          "canceled",
          "canceled",
          "canceled",
          "canceled",
          "canceled",
          "canceled",
          "canceled",
          "canceled",
          "canceled",
          "canceled",
          "canceled",
          "canceled",
          "canceled",
          "canceled",
          "canceled",
          "canceled",
          "canceled",
          "canceled",
          "canceled",
          "canceled",
          "canceled",
          "canceled",
          "canceled",
          "canceled",
          "canceled",
          "canceled",
          "canceled",
          "canceled",
          "canceled",
          "canceled",
          "canceled",
          "canceled",
          "canceled",
          "canceled",
          "canceled",
          "canceled",
          "canceled",
          "canceled",
          "canceled",
          "canceled",
          "canceled",
          "canceled",
          "canceled",
          "canceled",
          "canceled",
          "canceled",
          "canceled",
          "canceled",
          "canceled",
          "canceled",
          "canceled",
          "canceled",
          "canceled",
          "canceled",
          "canceled",
          "canceled",
          "canceled",
          "canceled",
          "canceled",
          "canceled",
          "canceled",
          "canceled",
          "canceled",
          "canceled",
          "canceled",
          "canceled",
          "canceled",
          "canceled",
          "canceled",
          "canceled",
          "canceled",
          "canceled",
          "canceled",
          "canceled",
          "canceled",
          "canceled",
          "canceled",
          "canceled",
          "canceled",
          "canceled",
          "canceled",
          "canceled",
          "canceled",
          "canceled",
          "canceled",
          "canceled",
          "canceled",
          "canceled",
          "canceled",
          "canceled",
          "canceled",
          "canceled",
          "canceled",
          "canceled",
          "canceled",
          "canceled",
          "canceled",
          "canceled",
          "canceled",
          "canceled",
          "canceled",
          "canceled",
          "canceled",
          "canceled",
          "canceled",
          "canceled",
          "canceled",
          "canceled",
          "canceled",
          "canceled",
          "canceled",
          "canceled",
          "canceled",
          "canceled",
          "canceled",
          "canceled",
          "canceled",
          "canceled",
          "canceled",
          "canceled",
          "canceled",
          "canceled",
          "canceled",
          "canceled",
          "canceled",
          "canceled",
          "canceled",
          "canceled",
          "canceled",
          "canceled",
          "canceled",
          "canceled",
          "canceled",
          "canceled",
          "canceled",
          "canceled",
          "canceled",
          "canceled",
          "canceled",
          "canceled",
          "canceled",
          "canceled",
          "canceled",
          "canceled",
          "canceled",
          "canceled",
          "canceled",
          "canceled",
          "canceled",
          "canceled",
          "canceled",
          "canceled",
          "canceled",
          "canceled",
          "canceled",
          "canceled",
          "canceled",
          "canceled",
          "canceled",
          "canceled",
          "canceled",
          "canceled",
          "canceled",
          "canceled",
          "canceled",
          "canceled",
          "canceled",
          "canceled",
          "canceled",
          "canceled",
          "canceled",
          "canceled",
          "canceled",
          "canceled",
          "canceled",
          "canceled",
          "canceled",
          "canceled",
          "canceled",
          "canceled",
          "canceled",
          "canceled",
          "canceled",
          "canceled",
          "canceled",
          "canceled",
          "canceled",
          "canceled",
          "canceled",
          "canceled",
          "canceled",
          "canceled",
          "canceled",
          "canceled",
          "canceled",
          "canceled",
          "canceled",
          "canceled",
          "canceled",
          "canceled",
          "canceled",
          "canceled",
          "canceled",
          "canceled",
          "canceled",
          "canceled",
          "canceled",
          "canceled",
          "canceled",
          "canceled",
          "canceled",
          "canceled",
          "canceled",
          "canceled",
          "canceled",
          "canceled",
          "canceled",
          "canceled",
          "canceled",
          "canceled",
          "canceled",
          "canceled",
          "canceled",
          "canceled",
          "canceled",
          "canceled",
          "canceled",
          "canceled",
          "canceled",
          "canceled",
          "canceled",
          "canceled",
          "canceled",
          "canceled",
          "canceled",
          "canceled",
          "canceled",
          "canceled",
          "canceled",
          "canceled",
          "canceled",
          "canceled",
          "canceled",
          "canceled",
          "canceled",
          "canceled",
          "canceled",
          "canceled",
          "canceled",
          "canceled",
          "canceled",
          "canceled",
          "canceled",
          "canceled",
          "canceled",
          "canceled",
          "canceled",
          "canceled",
          "canceled",
          "canceled",
          "canceled",
          "canceled",
          "canceled",
          "canceled",
          "canceled",
          "canceled",
          "canceled",
          "canceled",
          "canceled",
          "canceled",
          "canceled",
          "canceled",
          "canceled",
          "canceled",
          "canceled",
          "canceled",
          "canceled",
          "canceled",
          "canceled",
          "canceled",
          "canceled",
          "canceled",
          "canceled",
          "canceled",
          "canceled",
          "canceled",
          "canceled",
          "canceled",
          "canceled",
          "canceled",
          "canceled",
          "canceled",
          "canceled",
          "canceled",
          "canceled",
          "canceled",
          "canceled",
          "canceled",
          "canceled",
          "canceled",
          "canceled",
          "canceled",
          "canceled",
          "canceled",
          "canceled",
          "canceled",
          "canceled",
          "canceled",
          "canceled",
          "canceled",
          "canceled",
          "canceled",
          "canceled",
          "canceled",
          "canceled",
          "canceled",
          "canceled",
          "canceled",
          "canceled",
          "canceled",
          "canceled",
          "canceled",
          "canceled",
          "canceled",
          "canceled",
          "canceled",
          "canceled",
          "canceled",
          "canceled",
          "canceled",
          "canceled",
          "canceled",
          "canceled",
          "canceled",
          "canceled",
          "canceled",
          "canceled",
          "canceled",
          "canceled",
          "canceled",
          "canceled",
          "canceled",
          "canceled",
          "canceled",
          "canceled",
          "canceled",
          "canceled",
          "canceled",
          "canceled",
          "canceled",
          "canceled",
          "canceled",
          "canceled",
          "canceled",
          "canceled",
          "canceled",
          "canceled",
          "canceled",
          "canceled",
          "canceled",
          "canceled",
          "canceled",
          "canceled",
          "canceled",
          "canceled",
          "canceled",
          "canceled",
          "canceled",
          "canceled",
          "canceled",
          "canceled",
          "canceled",
          "canceled",
          "canceled",
          "canceled",
          "canceled",
          "canceled",
          "canceled",
          "canceled",
          "canceled",
          "canceled",
          "canceled",
          "canceled",
          "canceled",
          "canceled",
          "canceled",
          "canceled",
          "canceled",
          "canceled",
          "canceled",
          "canceled",
          "canceled",
          "canceled",
          "canceled",
          "canceled",
          "canceled",
          "canceled",
          "canceled",
          "canceled",
          "canceled",
          "canceled",
          "canceled",
          "canceled",
          "canceled",
          "canceled",
          "canceled",
          "canceled",
          "canceled",
          "canceled",
          "canceled",
          "canceled",
          "canceled",
          "canceled",
          "canceled",
          "canceled",
          "canceled",
          "canceled",
          "canceled",
          "canceled",
          "canceled",
          "canceled",
          "canceled",
          "canceled",
          "canceled",
          "canceled",
          "canceled",
          "canceled",
          "canceled",
          "canceled",
          "canceled",
          "canceled",
          "canceled",
          "canceled",
          "canceled",
          "canceled",
          "canceled",
          "canceled",
          "canceled",
          "canceled",
          "canceled",
          "canceled",
          "canceled",
          "canceled",
          "canceled",
          "canceled",
          "canceled",
          "canceled",
          "canceled",
          "canceled",
          "canceled",
          "canceled",
          "canceled",
          "canceled",
          "canceled",
          "canceled",
          "canceled",
          "canceled",
          "canceled",
          "canceled",
          "canceled",
          "canceled",
          "canceled",
          "canceled",
          "canceled",
          "canceled",
          "canceled",
          "canceled",
          "canceled",
          "canceled",
          "canceled",
          "canceled",
          "canceled",
          "canceled",
          "canceled",
          "canceled",
          "canceled",
          "canceled",
          "canceled",
          "canceled",
          "canceled",
          "canceled",
          "canceled",
          "canceled",
          "canceled",
          "canceled",
          "canceled",
          "canceled",
          "canceled",
          "canceled",
          "canceled",
          "canceled",
          "canceled",
          "canceled",
          "canceled",
          "canceled",
          "canceled",
          "canceled",
          "canceled",
          "canceled",
          "canceled",
          "canceled",
          "canceled",
          "canceled",
          "canceled",
          "canceled",
          "canceled",
          "canceled",
          "canceled",
          "canceled",
          "canceled",
          "canceled",
          "canceled",
          "canceled",
          "canceled",
          "canceled",
          "canceled",
          "canceled",
          "canceled",
          "canceled",
          "canceled",
          "canceled",
          "canceled",
          "canceled",
          "canceled",
          "canceled",
          "canceled",
          "canceled",
          "canceled",
          "canceled",
          "canceled",
          "canceled",
          "canceled",
          "canceled",
          "canceled",
          "canceled",
          "canceled",
          "canceled",
          "canceled",
          "canceled",
          "canceled",
          "canceled",
          "canceled",
          "canceled",
          "canceled",
          "canceled",
          "canceled",
          "canceled",
          "canceled",
          "canceled",
          "canceled",
          "canceled",
          "canceled",
          "canceled",
          "canceled",
          "canceled",
          "canceled",
          "canceled",
          "canceled",
          "canceled",
          "canceled",
          "canceled",
          "canceled",
          "canceled",
          "canceled",
          "canceled",
          "canceled",
          "canceled",
          "canceled",
          "canceled",
          "canceled",
          "canceled",
          "canceled",
          "canceled",
          "canceled",
          "canceled",
          "canceled",
          "canceled",
          "canceled",
          "canceled",
          "canceled",
          "canceled",
          "canceled",
          "canceled",
          "canceled",
          "canceled",
          "canceled",
          "canceled",
          "canceled",
          "canceled",
          "canceled",
          "canceled",
          "canceled",
          "canceled",
          "canceled",
          "canceled",
          "canceled",
          "canceled",
          "canceled",
          "canceled",
          "canceled",
          "canceled",
          "canceled",
          "canceled",
          "canceled",
          "canceled",
          "canceled",
          "canceled",
          "canceled",
          "canceled",
          "canceled",
          "canceled",
          "canceled",
          "canceled",
          "canceled",
          "canceled",
          "canceled",
          "canceled",
          "canceled",
          "canceled",
          "canceled",
          "canceled",
          "canceled",
          "canceled",
          "canceled",
          "canceled",
          "canceled",
          "canceled",
          "canceled",
          "canceled",
          "canceled",
          "canceled",
          "canceled",
          "canceled",
          "canceled",
          "canceled",
          "canceled",
          "canceled",
          "canceled",
          "canceled",
          "canceled",
          "canceled",
          "canceled",
          "canceled",
          "canceled",
          "canceled",
          "canceled",
          "canceled",
          "canceled",
          "canceled",
          "canceled",
          "canceled",
          "canceled",
          "canceled",
          "canceled",
          "canceled",
          "canceled",
          "canceled",
          "canceled",
          "canceled",
          "canceled",
          "canceled",
          "canceled",
          "canceled",
          "canceled",
          "canceled",
          "canceled",
          "canceled",
          "canceled",
          "canceled",
          "canceled",
          "canceled",
          "canceled",
          "canceled",
          "canceled",
          "canceled",
          "canceled",
          "canceled",
          "canceled",
          "canceled",
          "canceled",
          "canceled",
          "canceled",
          "canceled",
          "canceled",
          "canceled",
          "canceled",
          "canceled",
          "canceled",
          "canceled",
          "canceled",
          "canceled",
          "canceled",
          "canceled",
          "canceled",
          "canceled",
          "canceled",
          "canceled",
          "canceled",
          "canceled",
          "canceled",
          "canceled",
          "canceled",
          "canceled",
          "canceled",
          "canceled",
          "canceled",
          "canceled",
          "canceled",
          "canceled",
          "canceled",
          "canceled",
          "canceled",
          "canceled",
          "canceled",
          "canceled",
          "canceled",
          "canceled",
          "canceled",
          "canceled",
          "canceled",
          "canceled",
          "canceled",
          "canceled",
          "canceled",
          "canceled",
          "canceled",
          "canceled",
          "canceled",
          "canceled",
          "canceled",
          "canceled",
          "canceled",
          "canceled",
          "canceled",
          "canceled",
          "canceled",
          "canceled",
          "canceled",
          "canceled",
          "canceled",
          "canceled",
          "canceled",
          "canceled",
          "canceled",
          "canceled",
          "canceled",
          "canceled",
          "canceled",
          "canceled",
          "canceled",
          "canceled",
          "canceled",
          "canceled",
          "canceled",
          "canceled",
          "canceled",
          "canceled",
          "canceled",
          "canceled",
          "canceled",
          "canceled",
          "canceled",
          "canceled",
          "canceled",
          "canceled",
          "canceled",
          "canceled",
          "canceled",
          "canceled",
          "canceled",
          "canceled",
          "canceled",
          "canceled",
          "canceled",
          "canceled",
          "canceled",
          "canceled",
          "canceled",
          "canceled",
          "canceled",
          "canceled",
          "canceled",
          "canceled",
          "canceled",
          "canceled",
          "canceled",
          "canceled",
          "canceled",
          "canceled",
          "canceled",
          "canceled",
          "canceled",
          "canceled",
          "canceled",
          "canceled",
          "canceled",
          "canceled",
          "canceled",
          "canceled",
          "canceled",
          "canceled",
          "canceled",
          "canceled",
          "canceled",
          "canceled",
          "canceled",
          "canceled",
          "canceled",
          "canceled",
          "canceled",
          "canceled",
          "canceled",
          "canceled",
          "canceled",
          "canceled",
          "canceled",
          "canceled",
          "canceled",
          "canceled",
          "canceled",
          "canceled",
          "canceled",
          "canceled",
          "canceled",
          "canceled",
          "canceled",
          "canceled",
          "canceled",
          "canceled",
          "canceled",
          "canceled",
          "canceled",
          "canceled",
          "canceled",
          "canceled",
          "canceled",
          "canceled",
          "canceled",
          "canceled",
          "canceled",
          "canceled",
          "canceled",
          "canceled",
          "canceled",
          "canceled",
          "canceled",
          "canceled",
          "canceled",
          "canceled",
          "canceled",
          "canceled",
          "canceled",
          "canceled",
          "canceled",
          "canceled",
          "canceled",
          "canceled",
          "canceled",
          "canceled",
          "canceled",
          "canceled",
          "canceled",
          "canceled",
          "canceled",
          "canceled",
          "canceled",
          "canceled",
          "canceled",
          "canceled",
          "canceled",
          "canceled",
          "canceled",
          "canceled",
          "canceled",
          "canceled",
          "canceled",
          "canceled",
          "canceled",
          "canceled",
          "canceled",
          "canceled",
          "canceled",
          "canceled",
          "canceled",
          "canceled",
          "canceled",
          "canceled",
          "canceled",
          "canceled",
          "canceled",
          "canceled",
          "canceled",
          "canceled",
          "canceled",
          "canceled",
          "canceled",
          "canceled",
          "canceled",
          "canceled",
          "canceled",
          "canceled",
          "canceled",
          "canceled",
          "canceled",
          "canceled",
          "canceled",
          "canceled",
          "canceled",
          "canceled",
          "canceled",
          "canceled",
          "canceled",
          "canceled",
          "canceled",
          "canceled",
          "canceled",
          "canceled",
          "canceled",
          "canceled",
          "canceled",
          "canceled",
          "canceled",
          "canceled",
          "canceled",
          "canceled",
          "canceled",
          "canceled",
          "canceled",
          "canceled",
          "canceled",
          "canceled",
          "canceled",
          "canceled",
          "canceled",
          "canceled",
          "canceled",
          "canceled",
          "canceled",
          "canceled",
          "canceled",
          "canceled",
          "canceled",
          "canceled",
          "canceled",
          "canceled",
          "canceled",
          "canceled",
          "canceled",
          "canceled",
          "canceled",
          "canceled",
          "canceled",
          "canceled",
          "canceled",
          "canceled",
          "canceled",
          "canceled",
          "canceled",
          "canceled",
          "canceled",
          "canceled",
          "canceled",
          "canceled",
          "canceled",
          "canceled",
          "canceled",
          "canceled",
          "canceled",
          "canceled",
          "canceled",
          "canceled",
          "canceled",
          "canceled",
          "canceled",
          "canceled",
          "canceled",
          "canceled",
          "canceled",
          "canceled",
          "canceled",
          "canceled",
          "canceled",
          "canceled",
          "canceled",
          "canceled",
          "canceled",
          "canceled",
          "canceled",
          "canceled",
          "canceled",
          "canceled",
          "canceled",
          "canceled",
          "canceled",
          "canceled",
          "canceled",
          "canceled",
          "canceled",
          "canceled",
          "canceled",
          "canceled",
          "canceled",
          "canceled",
          "canceled",
          "canceled",
          "canceled",
          "canceled",
          "canceled",
          "canceled",
          "canceled",
          "canceled",
          "canceled",
          "canceled",
          "canceled",
          "canceled",
          "canceled",
          "canceled",
          "canceled",
          "canceled",
          "canceled",
          "canceled",
          "canceled",
          "canceled",
          "canceled",
          "canceled",
          "canceled",
          "canceled",
          "canceled",
          "canceled",
          "canceled",
          "canceled",
          "canceled",
          "canceled",
          "canceled",
          "canceled",
          "canceled",
          "canceled",
          "canceled",
          "canceled",
          "canceled",
          "canceled",
          "canceled",
          "canceled",
          "canceled",
          "canceled",
          "canceled",
          "canceled",
          "canceled",
          "canceled",
          "canceled",
          "canceled",
          "canceled",
          "canceled",
          "canceled",
          "canceled",
          "canceled",
          "canceled",
          "canceled",
          "canceled",
          "canceled",
          "canceled",
          "canceled",
          "canceled",
          "canceled",
          "canceled",
          "canceled",
          "canceled",
          "canceled",
          "canceled",
          "canceled",
          "canceled",
          "canceled",
          "canceled",
          "canceled",
          "canceled",
          "canceled",
          "canceled",
          "canceled",
          "canceled",
          "canceled",
          "canceled",
          "canceled",
          "canceled",
          "canceled",
          "canceled",
          "canceled",
          "canceled",
          "canceled",
          "canceled",
          "canceled",
          "canceled",
          "canceled",
          "canceled",
          "canceled",
          "canceled",
          "canceled",
          "canceled",
          "canceled",
          "canceled",
          "canceled",
          "canceled",
          "canceled",
          "canceled",
          "canceled",
          "canceled",
          "canceled",
          "canceled",
          "canceled",
          "canceled",
          "canceled",
          "canceled",
          "canceled",
          "canceled",
          "canceled",
          "canceled",
          "canceled",
          "canceled",
          "canceled",
          "canceled",
          "canceled",
          "canceled",
          "canceled",
          "canceled",
          "canceled",
          "canceled",
          "canceled",
          "canceled",
          "canceled",
          "canceled",
          "canceled",
          "canceled",
          "canceled",
          "canceled",
          "canceled",
          "canceled",
          "canceled",
          "canceled",
          "canceled",
          "canceled",
          "canceled",
          "canceled",
          "canceled",
          "canceled",
          "canceled",
          "canceled",
          "canceled",
          "canceled",
          "canceled",
          "canceled",
          "canceled",
          "canceled",
          "canceled",
          "canceled",
          "canceled",
          "canceled",
          "canceled",
          "canceled",
          "canceled",
          "canceled",
          "canceled",
          "canceled",
          "canceled",
          "canceled",
          "canceled",
          "canceled",
          "canceled",
          "canceled",
          "canceled",
          "canceled",
          "canceled",
          "canceled",
          "canceled",
          "canceled",
          "canceled",
          "canceled",
          "canceled",
          "canceled",
          "canceled",
          "canceled",
          "canceled",
          "canceled",
          "canceled",
          "canceled",
          "canceled",
          "canceled",
          "canceled",
          "canceled",
          "canceled",
          "canceled",
          "canceled",
          "canceled",
          "canceled",
          "canceled",
          "canceled",
          "canceled",
          "canceled",
          "canceled",
          "canceled",
          "canceled",
          "canceled",
          "canceled",
          "canceled",
          "canceled",
          "canceled",
          "canceled",
          "canceled",
          "canceled",
          "canceled",
          "canceled",
          "canceled",
          "canceled",
          "canceled",
          "canceled",
          "canceled",
          "canceled",
          "canceled",
          "canceled",
          "canceled",
          "canceled",
          "canceled",
          "canceled",
          "canceled",
          "canceled",
          "canceled",
          "canceled",
          "canceled",
          "canceled",
          "canceled",
          "canceled",
          "canceled",
          "canceled",
          "canceled",
          "canceled",
          "canceled",
          "canceled",
          "canceled",
          "canceled",
          "canceled",
          "canceled",
          "canceled",
          "canceled",
          "canceled",
          "canceled",
          "canceled",
          "canceled",
          "canceled",
          "canceled",
          "canceled",
          "canceled",
          "canceled",
          "canceled",
          "canceled",
          "canceled",
          "canceled",
          "canceled",
          "canceled",
          "canceled",
          "canceled",
          "canceled",
          "canceled",
          "canceled",
          "canceled",
          "canceled",
          "canceled",
          "canceled",
          "canceled",
          "canceled",
          "canceled",
          "canceled",
          "canceled",
          "canceled",
          "canceled",
          "canceled",
          "canceled",
          "canceled",
          "canceled",
          "canceled",
          "canceled",
          "canceled",
          "canceled",
          "canceled",
          "canceled",
          "canceled",
          "canceled",
          "canceled",
          "canceled",
          "canceled",
          "canceled",
          "canceled",
          "canceled",
          "canceled",
          "canceled",
          "canceled",
          "canceled",
          "canceled",
          "canceled",
          "canceled",
          "canceled",
          "canceled",
          "canceled",
          "canceled",
          "canceled",
          "canceled",
          "canceled",
          "canceled",
          "canceled",
          "canceled",
          "canceled",
          "canceled",
          "canceled",
          "canceled",
          "canceled",
          "canceled",
          "canceled",
          "canceled",
          "canceled",
          "canceled",
          "canceled",
          "canceled",
          "canceled",
          "canceled",
          "canceled",
          "canceled",
          "canceled",
          "canceled",
          "canceled",
          "canceled",
          "canceled",
          "canceled",
          "canceled",
          "canceled",
          "canceled",
          "canceled",
          "canceled",
          "canceled",
          "canceled",
          "canceled",
          "canceled",
          "canceled",
          "canceled",
          "canceled",
          "canceled",
          "canceled",
          "canceled",
          "canceled",
          "canceled",
          "canceled",
          "canceled",
          "canceled",
          "canceled",
          "canceled",
          "canceled",
          "canceled",
          "canceled",
          "canceled",
          "canceled",
          "canceled",
          "canceled",
          "canceled",
          "canceled",
          "canceled",
          "canceled",
          "canceled",
          "canceled",
          "canceled",
          "canceled",
          "canceled",
          "canceled",
          "canceled",
          "canceled",
          "canceled",
          "canceled",
          "canceled",
          "canceled",
          "canceled",
          "canceled",
          "canceled",
          "canceled",
          "canceled",
          "canceled",
          "canceled",
          "canceled",
          "canceled",
          "canceled",
          "canceled",
          "canceled",
          "canceled",
          "canceled",
          "canceled",
          "canceled",
          "canceled",
          "canceled",
          "canceled",
          "canceled",
          "canceled",
          "canceled",
          "canceled",
          "canceled",
          "canceled",
          "canceled",
          "canceled",
          "canceled",
          "canceled",
          "canceled",
          "canceled",
          "canceled",
          "canceled",
          "canceled",
          "canceled",
          "canceled",
          "canceled",
          "canceled",
          "canceled",
          "canceled",
          "canceled",
          "canceled",
          "canceled",
          "canceled",
          "canceled",
          "canceled",
          "canceled",
          "canceled",
          "canceled",
          "canceled",
          "canceled",
          "canceled",
          "canceled",
          "canceled",
          "canceled",
          "canceled",
          "canceled",
          "canceled",
          "canceled",
          "canceled",
          "canceled",
          "canceled",
          "canceled",
          "canceled",
          "canceled",
          "canceled",
          "canceled",
          "canceled",
          "canceled",
          "canceled",
          "canceled",
          "canceled",
          "canceled",
          "canceled",
          "canceled",
          "canceled",
          "canceled",
          "canceled",
          "canceled",
          "canceled",
          "canceled",
          "canceled",
          "canceled",
          "canceled",
          "canceled",
          "canceled",
          "canceled",
          "canceled",
          "canceled",
          "canceled",
          "canceled",
          "canceled",
          "canceled",
          "canceled",
          "canceled",
          "canceled",
          "canceled",
          "canceled",
          "canceled",
          "canceled",
          "canceled",
          "canceled",
          "canceled",
          "canceled",
          "canceled",
          "canceled",
          "canceled",
          "canceled",
          "canceled",
          "canceled",
          "canceled",
          "canceled",
          "canceled",
          "canceled",
          "canceled",
          "canceled",
          "canceled",
          "canceled",
          "canceled",
          "canceled",
          "canceled",
          "canceled",
          "canceled",
          "canceled",
          "canceled",
          "canceled",
          "canceled",
          "canceled",
          "canceled",
          "canceled",
          "canceled",
          "canceled",
          "canceled",
          "canceled",
          "canceled",
          "canceled",
          "canceled",
          "canceled",
          "canceled",
          "canceled",
          "canceled",
          "canceled",
          "canceled",
          "canceled",
          "canceled",
          "canceled",
          "canceled",
          "canceled",
          "canceled",
          "canceled",
          "canceled",
          "canceled",
          "canceled",
          "canceled",
          "canceled",
          "canceled",
          "canceled",
          "canceled",
          "canceled",
          "canceled",
          "canceled",
          "canceled",
          "canceled",
          "canceled",
          "canceled",
          "canceled",
          "canceled",
          "canceled",
          "canceled",
          "canceled",
          "canceled",
          "canceled",
          "canceled",
          "canceled",
          "canceled",
          "canceled",
          "canceled",
          "canceled",
          "canceled",
          "canceled",
          "canceled",
          "canceled",
          "canceled",
          "canceled",
          "canceled",
          "canceled",
          "canceled",
          "canceled",
          "canceled",
          "canceled",
          "canceled",
          "canceled",
          "canceled",
          "canceled",
          "canceled",
          "canceled",
          "canceled",
          "canceled",
          "canceled",
          "canceled",
          "canceled",
          "canceled",
          "canceled",
          "canceled",
          "canceled",
          "canceled",
          "canceled",
          "canceled",
          "canceled",
          "canceled",
          "canceled",
          "canceled",
          "canceled",
          "canceled",
          "canceled",
          "canceled",
          "canceled",
          "canceled",
          "canceled",
          "canceled",
          "canceled",
          "canceled",
          "canceled",
          "canceled",
          "canceled",
          "canceled",
          "canceled",
          "canceled",
          "canceled",
          "canceled",
          "canceled",
          "canceled",
          "canceled",
          "canceled",
          "canceled",
          "canceled",
          "canceled",
          "canceled",
          "canceled",
          "canceled",
          "canceled",
          "canceled",
          "canceled",
          "canceled",
          "canceled",
          "canceled",
          "canceled",
          "canceled",
          "canceled",
          "canceled",
          "canceled",
          "canceled",
          "canceled",
          "canceled",
          "canceled",
          "canceled",
          "canceled",
          "canceled",
          "canceled",
          "canceled",
          "canceled",
          "canceled",
          "canceled",
          "canceled",
          "canceled",
          "canceled",
          "canceled",
          "canceled",
          "canceled",
          "canceled",
          "canceled",
          "canceled",
          "canceled",
          "canceled",
          "canceled",
          "canceled",
          "canceled",
          "canceled",
          "canceled",
          "canceled",
          "canceled",
          "canceled",
          "canceled",
          "canceled",
          "canceled",
          "canceled",
          "canceled",
          "canceled",
          "canceled",
          "canceled",
          "canceled",
          "canceled",
          "canceled",
          "canceled",
          "canceled",
          "canceled",
          "canceled",
          "canceled",
          "canceled",
          "canceled",
          "canceled",
          "canceled",
          "canceled",
          "canceled",
          "canceled",
          "canceled",
          "canceled",
          "canceled",
          "canceled",
          "canceled",
          "canceled",
          "canceled",
          "canceled",
          "canceled",
          "canceled",
          "canceled",
          "canceled",
          "canceled",
          "canceled",
          "canceled",
          "canceled",
          "canceled",
          "canceled",
          "canceled",
          "canceled",
          "canceled",
          "canceled",
          "canceled",
          "canceled",
          "canceled",
          "canceled",
          "canceled",
          "canceled",
          "canceled",
          "canceled",
          "canceled",
          "canceled",
          "canceled",
          "canceled",
          "canceled",
          "canceled",
          "canceled",
          "canceled",
          "canceled",
          "canceled",
          "canceled",
          "canceled",
          "canceled",
          "canceled",
          "canceled",
          "canceled",
          "canceled",
          "canceled",
          "canceled",
          "canceled",
          "canceled",
          "canceled",
          "canceled",
          "canceled",
          "canceled",
          "canceled",
          "canceled",
          "canceled",
          "canceled",
          "canceled",
          "canceled",
          "canceled",
          "canceled",
          "canceled",
          "canceled",
          "canceled",
          "canceled",
          "canceled",
          "canceled",
          "canceled",
          "canceled",
          "canceled",
          "canceled",
          "canceled",
          "canceled",
          "canceled",
          "canceled",
          "canceled",
          "canceled",
          "canceled",
          "canceled",
          "canceled",
          "canceled",
          "canceled",
          "canceled",
          "canceled",
          "canceled",
          "canceled",
          "canceled",
          "canceled",
          "canceled",
          "canceled",
          "canceled",
          "canceled",
          "canceled",
          "canceled",
          "canceled",
          "canceled",
          "canceled",
          "canceled",
          "canceled",
          "canceled",
          "canceled",
          "canceled",
          "canceled",
          "canceled",
          "canceled",
          "canceled",
          "canceled",
          "canceled",
          "canceled",
          "canceled",
          "canceled",
          "canceled",
          "canceled",
          "canceled",
          "canceled",
          "canceled",
          "canceled",
          "canceled",
          "canceled",
          "canceled",
          "canceled",
          "canceled",
          "canceled",
          "canceled",
          "canceled",
          "canceled",
          "canceled",
          "canceled",
          "canceled",
          "canceled",
          "canceled",
          "canceled",
          "canceled",
          "canceled",
          "canceled",
          "canceled",
          "canceled",
          "canceled",
          "canceled",
          "canceled",
          "canceled",
          "canceled",
          "canceled",
          "canceled",
          "canceled",
          "canceled",
          "canceled",
          "canceled",
          "canceled",
          "canceled",
          "canceled",
          "canceled",
          "canceled",
          "canceled",
          "canceled",
          "canceled",
          "canceled",
          "canceled",
          "canceled",
          "canceled",
          "canceled",
          "canceled",
          "canceled",
          "canceled",
          "canceled",
          "canceled",
          "canceled",
          "canceled",
          "canceled",
          "canceled",
          "canceled",
          "canceled",
          "canceled",
          "canceled",
          "canceled",
          "canceled",
          "canceled",
          "canceled",
          "canceled",
          "canceled",
          "canceled",
          "canceled",
          "canceled",
          "canceled",
          "canceled",
          "canceled",
          "canceled",
          "canceled",
          "canceled",
          "canceled",
          "canceled",
          "canceled",
          "canceled",
          "canceled",
          "canceled",
          "canceled",
          "canceled",
          "canceled",
          "canceled",
          "canceled",
          "canceled",
          "canceled",
          "canceled",
          "canceled",
          "canceled",
          "canceled",
          "canceled",
          "canceled",
          "canceled",
          "canceled",
          "canceled",
          "canceled",
          "canceled",
          "canceled",
          "canceled",
          "canceled",
          "canceled",
          "canceled",
          "canceled",
          "canceled",
          "canceled",
          "canceled",
          "canceled",
          "canceled",
          "canceled",
          "canceled",
          "canceled",
          "canceled",
          "canceled",
          "canceled",
          "canceled",
          "canceled",
          "canceled",
          "canceled",
          "canceled",
          "canceled",
          "canceled",
          "canceled",
          "canceled",
          "canceled",
          "canceled",
          "canceled",
          "canceled",
          "canceled",
          "canceled",
          "canceled",
          "canceled",
          "canceled",
          "canceled",
          "canceled",
          "canceled",
          "canceled",
          "canceled",
          "canceled",
          "canceled",
          "canceled",
          "canceled",
          "canceled",
          "canceled",
          "canceled",
          "canceled",
          "canceled",
          "canceled",
          "canceled",
          "canceled",
          "canceled",
          "canceled",
          "canceled",
          "canceled",
          "canceled",
          "canceled",
          "canceled",
          "canceled",
          "canceled",
          "canceled",
          "canceled",
          "canceled",
          "canceled",
          "canceled",
          "canceled",
          "canceled",
          "canceled",
          "canceled",
          "canceled",
          "canceled",
          "canceled",
          "canceled",
          "canceled",
          "canceled",
          "canceled",
          "canceled",
          "canceled",
          "canceled",
          "canceled",
          "canceled",
          "canceled",
          "canceled",
          "canceled",
          "canceled",
          "canceled",
          "canceled",
          "canceled",
          "canceled",
          "canceled",
          "canceled",
          "canceled",
          "canceled",
          "canceled",
          "canceled",
          "canceled",
          "canceled",
          "canceled",
          "canceled",
          "canceled",
          "canceled",
          "canceled",
          "canceled",
          "canceled",
          "canceled",
          "canceled",
          "canceled",
          "canceled",
          "canceled",
          "canceled",
          "canceled",
          "canceled",
          "canceled",
          "canceled",
          "canceled",
          "canceled",
          "canceled",
          "canceled",
          "canceled",
          "canceled",
          "canceled",
          "canceled",
          "canceled",
          "canceled",
          "canceled",
          "canceled",
          "canceled",
          "canceled",
          "canceled",
          "canceled",
          "canceled",
          "canceled",
          "canceled",
          "canceled",
          "canceled",
          "canceled",
          "canceled",
          "canceled",
          "canceled",
          "canceled",
          "canceled",
          "canceled",
          "canceled",
          "canceled",
          "canceled",
          "canceled",
          "canceled",
          "canceled",
          "canceled",
          "canceled",
          "canceled",
          "canceled",
          "canceled",
          "canceled",
          "canceled",
          "canceled",
          "canceled",
          "canceled",
          "canceled",
          "canceled",
          "canceled",
          "canceled",
          "canceled",
          "canceled",
          "canceled",
          "canceled",
          "canceled",
          "canceled",
          "canceled",
          "canceled",
          "canceled",
          "canceled",
          "canceled",
          "canceled",
          "canceled",
          "canceled",
          "canceled",
          "canceled",
          "canceled",
          "canceled",
          "canceled",
          "canceled",
          "canceled",
          "canceled",
          "canceled",
          "canceled",
          "canceled",
          "canceled",
          "canceled",
          "canceled",
          "canceled",
          "canceled",
          "canceled",
          "canceled",
          "canceled",
          "canceled",
          "canceled",
          "canceled",
          "canceled",
          "canceled",
          "canceled",
          "canceled",
          "canceled",
          "canceled",
          "canceled",
          "canceled",
          "canceled",
          "canceled",
          "canceled",
          "canceled",
          "canceled",
          "canceled",
          "canceled",
          "canceled",
          "canceled",
          "canceled",
          "canceled",
          "canceled",
          "canceled",
          "canceled",
          "canceled",
          "canceled",
          "canceled",
          "canceled",
          "canceled",
          "canceled",
          "canceled",
          "canceled",
          "canceled",
          "canceled",
          "canceled",
          "canceled",
          "canceled",
          "canceled",
          "canceled",
          "canceled",
          "canceled",
          "canceled",
          "canceled",
          "canceled",
          "canceled",
          "canceled",
          "canceled",
          "canceled",
          "canceled",
          "canceled",
          "canceled",
          "canceled",
          "canceled",
          "canceled",
          "canceled",
          "canceled",
          "canceled",
          "canceled",
          "canceled",
          "canceled",
          "canceled",
          "canceled",
          "canceled",
          "canceled",
          "canceled",
          "canceled",
          "canceled",
          "canceled",
          "canceled",
          "canceled",
          "canceled",
          "canceled",
          "canceled",
          "canceled",
          "canceled",
          "canceled",
          "canceled",
          "canceled",
          "canceled",
          "canceled",
          "canceled",
          "canceled",
          "canceled",
          "canceled",
          "canceled",
          "canceled",
          "canceled",
          "canceled",
          "canceled",
          "canceled",
          "canceled",
          "canceled",
          "canceled",
          "canceled",
          "canceled",
          "canceled",
          "canceled",
          "canceled",
          "canceled",
          "canceled",
          "canceled",
          "canceled",
          "canceled",
          "canceled",
          "canceled",
          "canceled",
          "canceled",
          "canceled",
          "canceled",
          "canceled",
          "canceled",
          "canceled",
          "canceled",
          "canceled",
          "canceled",
          "canceled",
          "canceled",
          "canceled",
          "canceled",
          "canceled",
          "canceled",
          "canceled",
          "canceled",
          "canceled",
          "canceled",
          "canceled",
          "canceled",
          "canceled",
          "canceled",
          "canceled",
          "canceled",
          "canceled",
          "canceled",
          "canceled",
          "canceled",
          "canceled",
          "canceled",
          "canceled",
          "canceled",
          "canceled",
          "canceled",
          "canceled",
          "canceled",
          "canceled",
          "canceled",
          "canceled",
          "canceled",
          "canceled",
          "canceled",
          "canceled",
          "canceled",
          "canceled",
          "canceled",
          "canceled",
          "canceled",
          "canceled",
          "canceled",
          "canceled",
          "canceled",
          "canceled",
          "canceled",
          "canceled",
          "canceled",
          "canceled",
          "canceled",
          "canceled",
          "canceled",
          "canceled",
          "canceled",
          "canceled",
          "canceled",
          "canceled",
          "canceled",
          "canceled",
          "canceled",
          "canceled",
          "canceled",
          "canceled",
          "canceled",
          "canceled",
          "canceled",
          "canceled",
          "canceled",
          "canceled",
          "canceled",
          "canceled",
          "canceled",
          "canceled",
          "canceled",
          "canceled",
          "canceled",
          "canceled",
          "canceled",
          "canceled",
          "canceled",
          "canceled",
          "canceled",
          "canceled",
          "canceled",
          "canceled",
          "canceled",
          "canceled",
          "canceled",
          "canceled",
          "canceled",
          "canceled",
          "canceled",
          "canceled",
          "canceled",
          "canceled",
          "canceled",
          "canceled",
          "canceled",
          "canceled",
          "canceled",
          "canceled",
          "canceled",
          "canceled",
          "canceled",
          "canceled",
          "canceled",
          "canceled",
          "canceled",
          "canceled",
          "canceled",
          "canceled",
          "canceled",
          "canceled",
          "canceled",
          "canceled",
          "canceled",
          "canceled",
          "canceled",
          "canceled",
          "canceled",
          "canceled",
          "canceled",
          "canceled",
          "canceled",
          "canceled",
          "canceled",
          "canceled",
          "canceled",
          "canceled",
          "canceled",
          "canceled",
          "canceled",
          "canceled",
          "canceled",
          "canceled",
          "canceled",
          "canceled",
          "canceled",
          "canceled",
          "canceled",
          "canceled",
          "canceled",
          "canceled",
          "canceled",
          "canceled",
          "canceled",
          "canceled",
          "canceled",
          "canceled",
          "canceled",
          "canceled",
          "canceled",
          "canceled",
          "canceled",
          "canceled",
          "canceled",
          "canceled",
          "canceled",
          "canceled",
          "canceled",
          "canceled",
          "canceled",
          "canceled",
          "canceled",
          "canceled",
          "canceled",
          "canceled",
          "canceled",
          "canceled",
          "canceled",
          "canceled",
          "canceled",
          "canceled",
          "canceled",
          "canceled",
          "canceled",
          "canceled",
          "canceled",
          "canceled",
          "canceled",
          "canceled",
          "canceled",
          "canceled",
          "canceled",
          "canceled",
          "canceled",
          "canceled",
          "canceled",
          "canceled",
          "canceled",
          "canceled",
          "canceled",
          "canceled",
          "canceled",
          "canceled",
          "canceled",
          "canceled",
          "canceled",
          "canceled",
          "canceled",
          "canceled",
          "canceled",
          "canceled",
          "canceled",
          "canceled",
          "canceled",
          "canceled",
          "canceled",
          "canceled",
          "canceled",
          "canceled",
          "canceled",
          "canceled",
          "canceled",
          "canceled",
          "canceled",
          "canceled",
          "canceled",
          "canceled",
          "canceled",
          "canceled",
          "canceled",
          "canceled",
          "canceled",
          "canceled",
          "canceled",
          "canceled",
          "canceled",
          "canceled",
          "canceled",
          "canceled",
          "canceled",
          "canceled",
          "canceled",
          "canceled",
          "canceled",
          "canceled",
          "canceled",
          "canceled",
          "canceled",
          "canceled",
          "canceled",
          "canceled",
          "canceled",
          "canceled",
          "canceled",
          "canceled",
          "canceled",
          "canceled",
          "canceled",
          "canceled",
          "canceled",
          "canceled",
          "canceled",
          "canceled",
          "canceled",
          "canceled",
          "canceled",
          "canceled",
          "canceled",
          "canceled",
          "canceled",
          "canceled",
          "canceled",
          "canceled",
          "canceled",
          "canceled",
          "canceled",
          "canceled",
          "canceled",
          "canceled",
          "canceled",
          "canceled",
          "canceled",
          "canceled",
          "canceled",
          "canceled",
          "canceled",
          "canceled",
          "canceled",
          "canceled",
          "canceled",
          "canceled",
          "canceled",
          "canceled",
          "canceled",
          "canceled",
          "canceled",
          "canceled",
          "canceled",
          "canceled",
          "canceled",
          "canceled",
          "canceled",
          "canceled",
          "canceled",
          "canceled",
          "canceled",
          "canceled",
          "canceled",
          "canceled",
          "canceled",
          "canceled",
          "canceled",
          "canceled",
          "canceled",
          "canceled",
          "canceled",
          "canceled",
          "canceled",
          "canceled",
          "canceled",
          "canceled",
          "canceled",
          "canceled",
          "canceled",
          "canceled",
          "canceled",
          "canceled",
          "canceled",
          "canceled",
          "canceled",
          "canceled",
          "canceled",
          "canceled",
          "canceled",
          "canceled",
          "canceled",
          "canceled",
          "canceled",
          "canceled",
          "canceled",
          "canceled",
          "canceled",
          "canceled",
          "canceled",
          "canceled",
          "canceled",
          "canceled",
          "canceled",
          "canceled",
          "canceled",
          "canceled",
          "canceled",
          "canceled",
          "canceled",
          "canceled",
          "canceled",
          "canceled",
          "canceled",
          "canceled",
          "canceled",
          "canceled",
          "canceled",
          "canceled",
          "canceled",
          "canceled",
          "canceled",
          "canceled",
          "canceled",
          "canceled",
          "canceled",
          "canceled",
          "canceled",
          "canceled",
          "canceled",
          "canceled",
          "canceled",
          "canceled",
          "canceled",
          "canceled",
          "canceled",
          "canceled",
          "canceled",
          "canceled",
          "canceled",
          "canceled",
          "canceled",
          "canceled",
          "canceled",
          "canceled",
          "canceled",
          "canceled",
          "canceled",
          "canceled",
          "canceled",
          "canceled",
          "canceled"
         ],
         "x0": " ",
         "xaxis": "x",
         "y": {
          "bdata": "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",
          "dtype": "f8"
         },
         "y0": " ",
         "yaxis": "y"
        }
       ],
       "layout": {
        "boxmode": "group",
        "legend": {
         "tracegroupgap": 0
        },
        "margin": {
         "t": 60
        },
        "template": {
         "data": {
          "bar": [
           {
            "error_x": {
             "color": "#2a3f5f"
            },
            "error_y": {
             "color": "#2a3f5f"
            },
            "marker": {
             "line": {
              "color": "#E5ECF6",
              "width": 0.5
             },
             "pattern": {
              "fillmode": "overlay",
              "size": 10,
              "solidity": 0.2
             }
            },
            "type": "bar"
           }
          ],
          "barpolar": [
           {
            "marker": {
             "line": {
              "color": "#E5ECF6",
              "width": 0.5
             },
             "pattern": {
              "fillmode": "overlay",
              "size": 10,
              "solidity": 0.2
             }
            },
            "type": "barpolar"
           }
          ],
          "carpet": [
           {
            "aaxis": {
             "endlinecolor": "#2a3f5f",
             "gridcolor": "white",
             "linecolor": "white",
             "minorgridcolor": "white",
             "startlinecolor": "#2a3f5f"
            },
            "baxis": {
             "endlinecolor": "#2a3f5f",
             "gridcolor": "white",
             "linecolor": "white",
             "minorgridcolor": "white",
             "startlinecolor": "#2a3f5f"
            },
            "type": "carpet"
           }
          ],
          "choropleth": [
           {
            "colorbar": {
             "outlinewidth": 0,
             "ticks": ""
            },
            "type": "choropleth"
           }
          ],
          "contour": [
           {
            "colorbar": {
             "outlinewidth": 0,
             "ticks": ""
            },
            "colorscale": [
             [
              0,
              "#0d0887"
             ],
             [
              0.1111111111111111,
              "#46039f"
             ],
             [
              0.2222222222222222,
              "#7201a8"
             ],
             [
              0.3333333333333333,
              "#9c179e"
             ],
             [
              0.4444444444444444,
              "#bd3786"
             ],
             [
              0.5555555555555556,
              "#d8576b"
             ],
             [
              0.6666666666666666,
              "#ed7953"
             ],
             [
              0.7777777777777778,
              "#fb9f3a"
             ],
             [
              0.8888888888888888,
              "#fdca26"
             ],
             [
              1,
              "#f0f921"
             ]
            ],
            "type": "contour"
           }
          ],
          "contourcarpet": [
           {
            "colorbar": {
             "outlinewidth": 0,
             "ticks": ""
            },
            "type": "contourcarpet"
           }
          ],
          "heatmap": [
           {
            "colorbar": {
             "outlinewidth": 0,
             "ticks": ""
            },
            "colorscale": [
             [
              0,
              "#0d0887"
             ],
             [
              0.1111111111111111,
              "#46039f"
             ],
             [
              0.2222222222222222,
              "#7201a8"
             ],
             [
              0.3333333333333333,
              "#9c179e"
             ],
             [
              0.4444444444444444,
              "#bd3786"
             ],
             [
              0.5555555555555556,
              "#d8576b"
             ],
             [
              0.6666666666666666,
              "#ed7953"
             ],
             [
              0.7777777777777778,
              "#fb9f3a"
             ],
             [
              0.8888888888888888,
              "#fdca26"
             ],
             [
              1,
              "#f0f921"
             ]
            ],
            "type": "heatmap"
           }
          ],
          "histogram": [
           {
            "marker": {
             "pattern": {
              "fillmode": "overlay",
              "size": 10,
              "solidity": 0.2
             }
            },
            "type": "histogram"
           }
          ],
          "histogram2d": [
           {
            "colorbar": {
             "outlinewidth": 0,
             "ticks": ""
            },
            "colorscale": [
             [
              0,
              "#0d0887"
             ],
             [
              0.1111111111111111,
              "#46039f"
             ],
             [
              0.2222222222222222,
              "#7201a8"
             ],
             [
              0.3333333333333333,
              "#9c179e"
             ],
             [
              0.4444444444444444,
              "#bd3786"
             ],
             [
              0.5555555555555556,
              "#d8576b"
             ],
             [
              0.6666666666666666,
              "#ed7953"
             ],
             [
              0.7777777777777778,
              "#fb9f3a"
             ],
             [
              0.8888888888888888,
              "#fdca26"
             ],
             [
              1,
              "#f0f921"
             ]
            ],
            "type": "histogram2d"
           }
          ],
          "histogram2dcontour": [
           {
            "colorbar": {
             "outlinewidth": 0,
             "ticks": ""
            },
            "colorscale": [
             [
              0,
              "#0d0887"
             ],
             [
              0.1111111111111111,
              "#46039f"
             ],
             [
              0.2222222222222222,
              "#7201a8"
             ],
             [
              0.3333333333333333,
              "#9c179e"
             ],
             [
              0.4444444444444444,
              "#bd3786"
             ],
             [
              0.5555555555555556,
              "#d8576b"
             ],
             [
              0.6666666666666666,
              "#ed7953"
             ],
             [
              0.7777777777777778,
              "#fb9f3a"
             ],
             [
              0.8888888888888888,
              "#fdca26"
             ],
             [
              1,
              "#f0f921"
             ]
            ],
            "type": "histogram2dcontour"
           }
          ],
          "mesh3d": [
           {
            "colorbar": {
             "outlinewidth": 0,
             "ticks": ""
            },
            "type": "mesh3d"
           }
          ],
          "parcoords": [
           {
            "line": {
             "colorbar": {
              "outlinewidth": 0,
              "ticks": ""
             }
            },
            "type": "parcoords"
           }
          ],
          "pie": [
           {
            "automargin": true,
            "type": "pie"
           }
          ],
          "scatter": [
           {
            "fillpattern": {
             "fillmode": "overlay",
             "size": 10,
             "solidity": 0.2
            },
            "type": "scatter"
           }
          ],
          "scatter3d": [
           {
            "line": {
             "colorbar": {
              "outlinewidth": 0,
              "ticks": ""
             }
            },
            "marker": {
             "colorbar": {
              "outlinewidth": 0,
              "ticks": ""
             }
            },
            "type": "scatter3d"
           }
          ],
          "scattercarpet": [
           {
            "marker": {
             "colorbar": {
              "outlinewidth": 0,
              "ticks": ""
             }
            },
            "type": "scattercarpet"
           }
          ],
          "scattergeo": [
           {
            "marker": {
             "colorbar": {
              "outlinewidth": 0,
              "ticks": ""
             }
            },
            "type": "scattergeo"
           }
          ],
          "scattergl": [
           {
            "marker": {
             "colorbar": {
              "outlinewidth": 0,
              "ticks": ""
             }
            },
            "type": "scattergl"
           }
          ],
          "scattermap": [
           {
            "marker": {
             "colorbar": {
              "outlinewidth": 0,
              "ticks": ""
             }
            },
            "type": "scattermap"
           }
          ],
          "scattermapbox": [
           {
            "marker": {
             "colorbar": {
              "outlinewidth": 0,
              "ticks": ""
             }
            },
            "type": "scattermapbox"
           }
          ],
          "scatterpolar": [
           {
            "marker": {
             "colorbar": {
              "outlinewidth": 0,
              "ticks": ""
             }
            },
            "type": "scatterpolar"
           }
          ],
          "scatterpolargl": [
           {
            "marker": {
             "colorbar": {
              "outlinewidth": 0,
              "ticks": ""
             }
            },
            "type": "scatterpolargl"
           }
          ],
          "scatterternary": [
           {
            "marker": {
             "colorbar": {
              "outlinewidth": 0,
              "ticks": ""
             }
            },
            "type": "scatterternary"
           }
          ],
          "surface": [
           {
            "colorbar": {
             "outlinewidth": 0,
             "ticks": ""
            },
            "colorscale": [
             [
              0,
              "#0d0887"
             ],
             [
              0.1111111111111111,
              "#46039f"
             ],
             [
              0.2222222222222222,
              "#7201a8"
             ],
             [
              0.3333333333333333,
              "#9c179e"
             ],
             [
              0.4444444444444444,
              "#bd3786"
             ],
             [
              0.5555555555555556,
              "#d8576b"
             ],
             [
              0.6666666666666666,
              "#ed7953"
             ],
             [
              0.7777777777777778,
              "#fb9f3a"
             ],
             [
              0.8888888888888888,
              "#fdca26"
             ],
             [
              1,
              "#f0f921"
             ]
            ],
            "type": "surface"
           }
          ],
          "table": [
           {
            "cells": {
             "fill": {
              "color": "#EBF0F8"
             },
             "line": {
              "color": "white"
             }
            },
            "header": {
             "fill": {
              "color": "#C8D4E3"
             },
             "line": {
              "color": "white"
             }
            },
            "type": "table"
           }
          ]
         },
         "layout": {
          "annotationdefaults": {
           "arrowcolor": "#2a3f5f",
           "arrowhead": 0,
           "arrowwidth": 1
          },
          "autotypenumbers": "strict",
          "coloraxis": {
           "colorbar": {
            "outlinewidth": 0,
            "ticks": ""
           }
          },
          "colorscale": {
           "diverging": [
            [
             0,
             "#8e0152"
            ],
            [
             0.1,
             "#c51b7d"
            ],
            [
             0.2,
             "#de77ae"
            ],
            [
             0.3,
             "#f1b6da"
            ],
            [
             0.4,
             "#fde0ef"
            ],
            [
             0.5,
             "#f7f7f7"
            ],
            [
             0.6,
             "#e6f5d0"
            ],
            [
             0.7,
             "#b8e186"
            ],
            [
             0.8,
             "#7fbc41"
            ],
            [
             0.9,
             "#4d9221"
            ],
            [
             1,
             "#276419"
            ]
           ],
           "sequential": [
            [
             0,
             "#0d0887"
            ],
            [
             0.1111111111111111,
             "#46039f"
            ],
            [
             0.2222222222222222,
             "#7201a8"
            ],
            [
             0.3333333333333333,
             "#9c179e"
            ],
            [
             0.4444444444444444,
             "#bd3786"
            ],
            [
             0.5555555555555556,
             "#d8576b"
            ],
            [
             0.6666666666666666,
             "#ed7953"
            ],
            [
             0.7777777777777778,
             "#fb9f3a"
            ],
            [
             0.8888888888888888,
             "#fdca26"
            ],
            [
             1,
             "#f0f921"
            ]
           ],
           "sequentialminus": [
            [
             0,
             "#0d0887"
            ],
            [
             0.1111111111111111,
             "#46039f"
            ],
            [
             0.2222222222222222,
             "#7201a8"
            ],
            [
             0.3333333333333333,
             "#9c179e"
            ],
            [
             0.4444444444444444,
             "#bd3786"
            ],
            [
             0.5555555555555556,
             "#d8576b"
            ],
            [
             0.6666666666666666,
             "#ed7953"
            ],
            [
             0.7777777777777778,
             "#fb9f3a"
            ],
            [
             0.8888888888888888,
             "#fdca26"
            ],
            [
             1,
             "#f0f921"
            ]
           ]
          },
          "colorway": [
           "#636efa",
           "#EF553B",
           "#00cc96",
           "#ab63fa",
           "#FFA15A",
           "#19d3f3",
           "#FF6692",
           "#B6E880",
           "#FF97FF",
           "#FECB52"
          ],
          "font": {
           "color": "#2a3f5f"
          },
          "geo": {
           "bgcolor": "white",
           "lakecolor": "white",
           "landcolor": "#E5ECF6",
           "showlakes": true,
           "showland": true,
           "subunitcolor": "white"
          },
          "hoverlabel": {
           "align": "left"
          },
          "hovermode": "closest",
          "mapbox": {
           "style": "light"
          },
          "paper_bgcolor": "white",
          "plot_bgcolor": "#E5ECF6",
          "polar": {
           "angularaxis": {
            "gridcolor": "white",
            "linecolor": "white",
            "ticks": ""
           },
           "bgcolor": "#E5ECF6",
           "radialaxis": {
            "gridcolor": "white",
            "linecolor": "white",
            "ticks": ""
           }
          },
          "scene": {
           "xaxis": {
            "backgroundcolor": "#E5ECF6",
            "gridcolor": "white",
            "gridwidth": 2,
            "linecolor": "white",
            "showbackground": true,
            "ticks": "",
            "zerolinecolor": "white"
           },
           "yaxis": {
            "backgroundcolor": "#E5ECF6",
            "gridcolor": "white",
            "gridwidth": 2,
            "linecolor": "white",
            "showbackground": true,
            "ticks": "",
            "zerolinecolor": "white"
           },
           "zaxis": {
            "backgroundcolor": "#E5ECF6",
            "gridcolor": "white",
            "gridwidth": 2,
            "linecolor": "white",
            "showbackground": true,
            "ticks": "",
            "zerolinecolor": "white"
           }
          },
          "shapedefaults": {
           "line": {
            "color": "#2a3f5f"
           }
          },
          "ternary": {
           "aaxis": {
            "gridcolor": "white",
            "linecolor": "white",
            "ticks": ""
           },
           "baxis": {
            "gridcolor": "white",
            "linecolor": "white",
            "ticks": ""
           },
           "bgcolor": "#E5ECF6",
           "caxis": {
            "gridcolor": "white",
            "linecolor": "white",
            "ticks": ""
           }
          },
          "title": {
           "x": 0.05
          },
          "xaxis": {
           "automargin": true,
           "gridcolor": "white",
           "linecolor": "white",
           "ticks": "",
           "title": {
            "standoff": 15
           },
           "zerolinecolor": "white",
           "zerolinewidth": 2
          },
          "yaxis": {
           "automargin": true,
           "gridcolor": "white",
           "linecolor": "white",
           "ticks": "",
           "title": {
            "standoff": 15
           },
           "zerolinecolor": "white",
           "zerolinewidth": 2
          }
         }
        },
        "width": 600,
        "xaxis": {
         "anchor": "y",
         "domain": [
          0,
          1
         ],
         "title": {
          "text": "state"
         }
        },
        "yaxis": {
         "anchor": "x",
         "domain": [
          0,
          1
         ],
         "title": {
          "text": "time_delta_with_previous_rental_in_minutes"
         }
        }
       }
      }
     },
     "metadata": {},
     "output_type": "display_data"
    }
   ],
   "source": [
    "print(\"Analyse des canceled\")\n",
    "data_canceled = data[data[\"state\"] == \"canceled\"]\n",
    "print(data_canceled.shape)\n",
    "display(data_canceled.describe())\n",
    "display(data_canceled.isna().sum())\n",
    "plot_canceled = px.box(data_canceled,x='state',y='time_delta_with_previous_rental_in_minutes',width=600)\n",
    "plot_canceled.show()"
   ]
  },
  {
   "cell_type": "code",
   "execution_count": 209,
   "id": "0879e2db",
   "metadata": {},
   "outputs": [
    {
     "name": "stdout",
     "output_type": "stream",
     "text": [
      "checkin_type\n",
      "connect   -36.840183\n",
      "mobile     54.618031\n",
      "Name: delay_at_checkout_in_minutes, dtype: float64\n",
      "checkin_type\n",
      "connect   -12.0\n",
      "mobile     13.0\n",
      "Name: delay_at_checkout_in_minutes, dtype: float64\n"
     ]
    }
   ],
   "source": [
    "print(data_clean.groupby('checkin_type')['delay_at_checkout_in_minutes'].mean())\n",
    "print(data_clean.groupby('checkin_type')['delay_at_checkout_in_minutes'].median())"
   ]
  },
  {
   "cell_type": "code",
   "execution_count": 210,
   "id": "b6345710",
   "metadata": {},
   "outputs": [
    {
     "name": "stdout",
     "output_type": "stream",
     "text": [
      "state  checkin_type\n",
      "ended  mobile          843\n",
      "       connect         657\n",
      "Name: count, dtype: int64\n",
      "       rental_id  car_id checkin_type  state  delay_at_checkout_in_minutes  \\\n",
      "2660      539298  356407       mobile  ended                           0.0   \n",
      "2901      510586  393908       mobile  ended                           0.0   \n",
      "4428      543788  377071       mobile  ended                           0.0   \n",
      "4445      545070  398326       mobile  ended                           0.0   \n",
      "4871      552075  364038       mobile  ended                           0.0   \n",
      "5307      559077  355444      connect  ended                           0.0   \n",
      "6714      565247  406625      connect  ended                           0.0   \n",
      "8800      529942  385128       mobile  ended                           0.0   \n",
      "13676     573809  167490       mobile  ended                           0.0   \n",
      "15063     568500  312603      connect  ended                           0.0   \n",
      "15275     546943  368432       mobile  ended                           0.0   \n",
      "16807     554913  351258       mobile  ended                           0.0   \n",
      "18041     553217  273577       mobile  ended                           0.0   \n",
      "19481     555190  194356       mobile  ended                           0.0   \n",
      "\n",
      "       previous_ended_rental_id  time_delta_with_previous_rental_in_minutes  \n",
      "2660                   539220.0                                        30.0  \n",
      "2901                   525150.0                                       300.0  \n",
      "4428                   538874.0                                        30.0  \n",
      "4445                   544957.0                                       270.0  \n",
      "4871                   514557.0                                        30.0  \n",
      "5307                   554528.0                                       240.0  \n",
      "6714                   561277.0                                         0.0  \n",
      "8800                   520000.0                                       120.0  \n",
      "13676                  569307.0                                       660.0  \n",
      "15063                  565109.0                                        60.0  \n",
      "15275                  560801.0                                         0.0  \n",
      "16807                  555581.0                                       270.0  \n",
      "18041                  538723.0                                       210.0  \n",
      "19481                  559148.0                                       510.0  \n"
     ]
    }
   ],
   "source": [
    "print(data_clean.groupby('state')['checkin_type'].value_counts())\n",
    "print(data_clean[data_clean[\"delay_at_checkout_in_minutes\"] == 0])"
   ]
  },
  {
   "cell_type": "code",
   "execution_count": 211,
   "id": "d80d5dc1",
   "metadata": {},
   "outputs": [
    {
     "data": {
      "application/vnd.plotly.v1+json": {
       "config": {
        "plotlyServerURL": "https://plot.ly"
       },
       "data": [
        {
         "coloraxis": "coloraxis",
         "hovertemplate": "x: %{x}<br>y: %{y}<br>color: %{z}<extra></extra>",
         "name": "0",
         "texttemplate": "%{z}",
         "type": "heatmap",
         "x": [
          "state",
          "checkin_type",
          "delay_at_checkout_in_minutes",
          "time_delta_with_previous_rental_in_minutes"
         ],
         "xaxis": "x",
         "y": [
          "state",
          "checkin_type",
          "delay_at_checkout_in_minutes",
          "time_delta_with_previous_rental_in_minutes"
         ],
         "yaxis": "y",
         "z": {
          "bdata": "AAAAAAAA8D+LNRK0pPCmP9vVyZ8ZgcE/xWB2SrGol7+LNRK0pPCmPwAAAAAAAPA/vF7KUL4Nqz9WD2iXrgGev9vVyZ8ZgcE/vF7KUL4Nqz8AAAAAAADwP2WNhPCX2Jq/xWB2SrGol79WD2iXrgGev2WNhPCX2Jq/AAAAAAAA8D8=",
          "dtype": "f8",
          "shape": "4, 4"
         }
        }
       ],
       "layout": {
        "coloraxis": {
         "cmax": 1,
         "cmin": -1,
         "colorscale": [
          [
           0,
           "rgb(5,48,97)"
          ],
          [
           0.1,
           "rgb(33,102,172)"
          ],
          [
           0.2,
           "rgb(67,147,195)"
          ],
          [
           0.3,
           "rgb(146,197,222)"
          ],
          [
           0.4,
           "rgb(209,229,240)"
          ],
          [
           0.5,
           "rgb(247,247,247)"
          ],
          [
           0.6,
           "rgb(253,219,199)"
          ],
          [
           0.7,
           "rgb(244,165,130)"
          ],
          [
           0.8,
           "rgb(214,96,77)"
          ],
          [
           0.9,
           "rgb(178,24,43)"
          ],
          [
           1,
           "rgb(103,0,31)"
          ]
         ]
        },
        "template": {
         "data": {
          "bar": [
           {
            "error_x": {
             "color": "#2a3f5f"
            },
            "error_y": {
             "color": "#2a3f5f"
            },
            "marker": {
             "line": {
              "color": "#E5ECF6",
              "width": 0.5
             },
             "pattern": {
              "fillmode": "overlay",
              "size": 10,
              "solidity": 0.2
             }
            },
            "type": "bar"
           }
          ],
          "barpolar": [
           {
            "marker": {
             "line": {
              "color": "#E5ECF6",
              "width": 0.5
             },
             "pattern": {
              "fillmode": "overlay",
              "size": 10,
              "solidity": 0.2
             }
            },
            "type": "barpolar"
           }
          ],
          "carpet": [
           {
            "aaxis": {
             "endlinecolor": "#2a3f5f",
             "gridcolor": "white",
             "linecolor": "white",
             "minorgridcolor": "white",
             "startlinecolor": "#2a3f5f"
            },
            "baxis": {
             "endlinecolor": "#2a3f5f",
             "gridcolor": "white",
             "linecolor": "white",
             "minorgridcolor": "white",
             "startlinecolor": "#2a3f5f"
            },
            "type": "carpet"
           }
          ],
          "choropleth": [
           {
            "colorbar": {
             "outlinewidth": 0,
             "ticks": ""
            },
            "type": "choropleth"
           }
          ],
          "contour": [
           {
            "colorbar": {
             "outlinewidth": 0,
             "ticks": ""
            },
            "colorscale": [
             [
              0,
              "#0d0887"
             ],
             [
              0.1111111111111111,
              "#46039f"
             ],
             [
              0.2222222222222222,
              "#7201a8"
             ],
             [
              0.3333333333333333,
              "#9c179e"
             ],
             [
              0.4444444444444444,
              "#bd3786"
             ],
             [
              0.5555555555555556,
              "#d8576b"
             ],
             [
              0.6666666666666666,
              "#ed7953"
             ],
             [
              0.7777777777777778,
              "#fb9f3a"
             ],
             [
              0.8888888888888888,
              "#fdca26"
             ],
             [
              1,
              "#f0f921"
             ]
            ],
            "type": "contour"
           }
          ],
          "contourcarpet": [
           {
            "colorbar": {
             "outlinewidth": 0,
             "ticks": ""
            },
            "type": "contourcarpet"
           }
          ],
          "heatmap": [
           {
            "colorbar": {
             "outlinewidth": 0,
             "ticks": ""
            },
            "colorscale": [
             [
              0,
              "#0d0887"
             ],
             [
              0.1111111111111111,
              "#46039f"
             ],
             [
              0.2222222222222222,
              "#7201a8"
             ],
             [
              0.3333333333333333,
              "#9c179e"
             ],
             [
              0.4444444444444444,
              "#bd3786"
             ],
             [
              0.5555555555555556,
              "#d8576b"
             ],
             [
              0.6666666666666666,
              "#ed7953"
             ],
             [
              0.7777777777777778,
              "#fb9f3a"
             ],
             [
              0.8888888888888888,
              "#fdca26"
             ],
             [
              1,
              "#f0f921"
             ]
            ],
            "type": "heatmap"
           }
          ],
          "histogram": [
           {
            "marker": {
             "pattern": {
              "fillmode": "overlay",
              "size": 10,
              "solidity": 0.2
             }
            },
            "type": "histogram"
           }
          ],
          "histogram2d": [
           {
            "colorbar": {
             "outlinewidth": 0,
             "ticks": ""
            },
            "colorscale": [
             [
              0,
              "#0d0887"
             ],
             [
              0.1111111111111111,
              "#46039f"
             ],
             [
              0.2222222222222222,
              "#7201a8"
             ],
             [
              0.3333333333333333,
              "#9c179e"
             ],
             [
              0.4444444444444444,
              "#bd3786"
             ],
             [
              0.5555555555555556,
              "#d8576b"
             ],
             [
              0.6666666666666666,
              "#ed7953"
             ],
             [
              0.7777777777777778,
              "#fb9f3a"
             ],
             [
              0.8888888888888888,
              "#fdca26"
             ],
             [
              1,
              "#f0f921"
             ]
            ],
            "type": "histogram2d"
           }
          ],
          "histogram2dcontour": [
           {
            "colorbar": {
             "outlinewidth": 0,
             "ticks": ""
            },
            "colorscale": [
             [
              0,
              "#0d0887"
             ],
             [
              0.1111111111111111,
              "#46039f"
             ],
             [
              0.2222222222222222,
              "#7201a8"
             ],
             [
              0.3333333333333333,
              "#9c179e"
             ],
             [
              0.4444444444444444,
              "#bd3786"
             ],
             [
              0.5555555555555556,
              "#d8576b"
             ],
             [
              0.6666666666666666,
              "#ed7953"
             ],
             [
              0.7777777777777778,
              "#fb9f3a"
             ],
             [
              0.8888888888888888,
              "#fdca26"
             ],
             [
              1,
              "#f0f921"
             ]
            ],
            "type": "histogram2dcontour"
           }
          ],
          "mesh3d": [
           {
            "colorbar": {
             "outlinewidth": 0,
             "ticks": ""
            },
            "type": "mesh3d"
           }
          ],
          "parcoords": [
           {
            "line": {
             "colorbar": {
              "outlinewidth": 0,
              "ticks": ""
             }
            },
            "type": "parcoords"
           }
          ],
          "pie": [
           {
            "automargin": true,
            "type": "pie"
           }
          ],
          "scatter": [
           {
            "fillpattern": {
             "fillmode": "overlay",
             "size": 10,
             "solidity": 0.2
            },
            "type": "scatter"
           }
          ],
          "scatter3d": [
           {
            "line": {
             "colorbar": {
              "outlinewidth": 0,
              "ticks": ""
             }
            },
            "marker": {
             "colorbar": {
              "outlinewidth": 0,
              "ticks": ""
             }
            },
            "type": "scatter3d"
           }
          ],
          "scattercarpet": [
           {
            "marker": {
             "colorbar": {
              "outlinewidth": 0,
              "ticks": ""
             }
            },
            "type": "scattercarpet"
           }
          ],
          "scattergeo": [
           {
            "marker": {
             "colorbar": {
              "outlinewidth": 0,
              "ticks": ""
             }
            },
            "type": "scattergeo"
           }
          ],
          "scattergl": [
           {
            "marker": {
             "colorbar": {
              "outlinewidth": 0,
              "ticks": ""
             }
            },
            "type": "scattergl"
           }
          ],
          "scattermap": [
           {
            "marker": {
             "colorbar": {
              "outlinewidth": 0,
              "ticks": ""
             }
            },
            "type": "scattermap"
           }
          ],
          "scattermapbox": [
           {
            "marker": {
             "colorbar": {
              "outlinewidth": 0,
              "ticks": ""
             }
            },
            "type": "scattermapbox"
           }
          ],
          "scatterpolar": [
           {
            "marker": {
             "colorbar": {
              "outlinewidth": 0,
              "ticks": ""
             }
            },
            "type": "scatterpolar"
           }
          ],
          "scatterpolargl": [
           {
            "marker": {
             "colorbar": {
              "outlinewidth": 0,
              "ticks": ""
             }
            },
            "type": "scatterpolargl"
           }
          ],
          "scatterternary": [
           {
            "marker": {
             "colorbar": {
              "outlinewidth": 0,
              "ticks": ""
             }
            },
            "type": "scatterternary"
           }
          ],
          "surface": [
           {
            "colorbar": {
             "outlinewidth": 0,
             "ticks": ""
            },
            "colorscale": [
             [
              0,
              "#0d0887"
             ],
             [
              0.1111111111111111,
              "#46039f"
             ],
             [
              0.2222222222222222,
              "#7201a8"
             ],
             [
              0.3333333333333333,
              "#9c179e"
             ],
             [
              0.4444444444444444,
              "#bd3786"
             ],
             [
              0.5555555555555556,
              "#d8576b"
             ],
             [
              0.6666666666666666,
              "#ed7953"
             ],
             [
              0.7777777777777778,
              "#fb9f3a"
             ],
             [
              0.8888888888888888,
              "#fdca26"
             ],
             [
              1,
              "#f0f921"
             ]
            ],
            "type": "surface"
           }
          ],
          "table": [
           {
            "cells": {
             "fill": {
              "color": "#EBF0F8"
             },
             "line": {
              "color": "white"
             }
            },
            "header": {
             "fill": {
              "color": "#C8D4E3"
             },
             "line": {
              "color": "white"
             }
            },
            "type": "table"
           }
          ]
         },
         "layout": {
          "annotationdefaults": {
           "arrowcolor": "#2a3f5f",
           "arrowhead": 0,
           "arrowwidth": 1
          },
          "autotypenumbers": "strict",
          "coloraxis": {
           "colorbar": {
            "outlinewidth": 0,
            "ticks": ""
           }
          },
          "colorscale": {
           "diverging": [
            [
             0,
             "#8e0152"
            ],
            [
             0.1,
             "#c51b7d"
            ],
            [
             0.2,
             "#de77ae"
            ],
            [
             0.3,
             "#f1b6da"
            ],
            [
             0.4,
             "#fde0ef"
            ],
            [
             0.5,
             "#f7f7f7"
            ],
            [
             0.6,
             "#e6f5d0"
            ],
            [
             0.7,
             "#b8e186"
            ],
            [
             0.8,
             "#7fbc41"
            ],
            [
             0.9,
             "#4d9221"
            ],
            [
             1,
             "#276419"
            ]
           ],
           "sequential": [
            [
             0,
             "#0d0887"
            ],
            [
             0.1111111111111111,
             "#46039f"
            ],
            [
             0.2222222222222222,
             "#7201a8"
            ],
            [
             0.3333333333333333,
             "#9c179e"
            ],
            [
             0.4444444444444444,
             "#bd3786"
            ],
            [
             0.5555555555555556,
             "#d8576b"
            ],
            [
             0.6666666666666666,
             "#ed7953"
            ],
            [
             0.7777777777777778,
             "#fb9f3a"
            ],
            [
             0.8888888888888888,
             "#fdca26"
            ],
            [
             1,
             "#f0f921"
            ]
           ],
           "sequentialminus": [
            [
             0,
             "#0d0887"
            ],
            [
             0.1111111111111111,
             "#46039f"
            ],
            [
             0.2222222222222222,
             "#7201a8"
            ],
            [
             0.3333333333333333,
             "#9c179e"
            ],
            [
             0.4444444444444444,
             "#bd3786"
            ],
            [
             0.5555555555555556,
             "#d8576b"
            ],
            [
             0.6666666666666666,
             "#ed7953"
            ],
            [
             0.7777777777777778,
             "#fb9f3a"
            ],
            [
             0.8888888888888888,
             "#fdca26"
            ],
            [
             1,
             "#f0f921"
            ]
           ]
          },
          "colorway": [
           "#636efa",
           "#EF553B",
           "#00cc96",
           "#ab63fa",
           "#FFA15A",
           "#19d3f3",
           "#FF6692",
           "#B6E880",
           "#FF97FF",
           "#FECB52"
          ],
          "font": {
           "color": "#2a3f5f"
          },
          "geo": {
           "bgcolor": "white",
           "lakecolor": "white",
           "landcolor": "#E5ECF6",
           "showlakes": true,
           "showland": true,
           "subunitcolor": "white"
          },
          "hoverlabel": {
           "align": "left"
          },
          "hovermode": "closest",
          "mapbox": {
           "style": "light"
          },
          "paper_bgcolor": "white",
          "plot_bgcolor": "#E5ECF6",
          "polar": {
           "angularaxis": {
            "gridcolor": "white",
            "linecolor": "white",
            "ticks": ""
           },
           "bgcolor": "#E5ECF6",
           "radialaxis": {
            "gridcolor": "white",
            "linecolor": "white",
            "ticks": ""
           }
          },
          "scene": {
           "xaxis": {
            "backgroundcolor": "#E5ECF6",
            "gridcolor": "white",
            "gridwidth": 2,
            "linecolor": "white",
            "showbackground": true,
            "ticks": "",
            "zerolinecolor": "white"
           },
           "yaxis": {
            "backgroundcolor": "#E5ECF6",
            "gridcolor": "white",
            "gridwidth": 2,
            "linecolor": "white",
            "showbackground": true,
            "ticks": "",
            "zerolinecolor": "white"
           },
           "zaxis": {
            "backgroundcolor": "#E5ECF6",
            "gridcolor": "white",
            "gridwidth": 2,
            "linecolor": "white",
            "showbackground": true,
            "ticks": "",
            "zerolinecolor": "white"
           }
          },
          "shapedefaults": {
           "line": {
            "color": "#2a3f5f"
           }
          },
          "ternary": {
           "aaxis": {
            "gridcolor": "white",
            "linecolor": "white",
            "ticks": ""
           },
           "baxis": {
            "gridcolor": "white",
            "linecolor": "white",
            "ticks": ""
           },
           "bgcolor": "#E5ECF6",
           "caxis": {
            "gridcolor": "white",
            "linecolor": "white",
            "ticks": ""
           }
          },
          "title": {
           "x": 0.05
          },
          "xaxis": {
           "automargin": true,
           "gridcolor": "white",
           "linecolor": "white",
           "ticks": "",
           "title": {
            "standoff": 15
           },
           "zerolinecolor": "white",
           "zerolinewidth": 2
          },
          "yaxis": {
           "automargin": true,
           "gridcolor": "white",
           "linecolor": "white",
           "ticks": "",
           "title": {
            "standoff": 15
           },
           "zerolinecolor": "white",
           "zerolinewidth": 2
          }
         }
        },
        "title": {
         "text": "Matrice de corrélation (Pearson)"
        },
        "width": 700,
        "xaxis": {
         "anchor": "y",
         "constrain": "domain",
         "domain": [
          0,
          1
         ],
         "scaleanchor": "y"
        },
        "yaxis": {
         "anchor": "x",
         "autorange": "reversed",
         "constrain": "domain",
         "domain": [
          0,
          1
         ]
        }
       }
      }
     },
     "metadata": {},
     "output_type": "display_data"
    }
   ],
   "source": [
    "data_encoded = data.copy()\n",
    "data_encoded['state'] = data_encoded['state'].apply(lambda x : 1 if x==\"ended\" else 0)\n",
    "data_encoded['checkin_type'] = data_encoded['checkin_type'].apply(lambda x : 1 if x==\"mobile\" else 0)\n",
    "corr = data_encoded[['state','checkin_type','delay_at_checkout_in_minutes','time_delta_with_previous_rental_in_minutes']].corr('pearson')\n",
    "\n",
    "corr_df_fig = px.imshow(corr, text_auto=True,\n",
    "    color_continuous_scale=\"RdBu_r\",\n",
    "    title=\"Matrice de corrélation (Pearson)\",\n",
    "    zmin=-1, zmax=1,width=700)\n",
    "corr_df_fig.show()"
   ]
  },
  {
   "cell_type": "code",
   "execution_count": null,
   "id": "bc5d73f7",
   "metadata": {},
   "outputs": [],
   "source": []
  }
 ],
 "metadata": {
  "kernelspec": {
   "display_name": "venv_here (3.13.2)",
   "language": "python",
   "name": "python3"
  },
  "language_info": {
   "codemirror_mode": {
    "name": "ipython",
    "version": 3
   },
   "file_extension": ".py",
   "mimetype": "text/x-python",
   "name": "python",
   "nbconvert_exporter": "python",
   "pygments_lexer": "ipython3",
   "version": "3.13.2"
  }
 },
 "nbformat": 4,
 "nbformat_minor": 5
}
