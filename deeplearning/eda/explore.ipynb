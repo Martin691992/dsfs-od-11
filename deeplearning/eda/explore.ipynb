{
 "cells": [
  {
   "cell_type": "code",
   "execution_count": 113,
   "id": "fa0393d4",
   "metadata": {},
   "outputs": [
    {
     "name": "stdout",
     "output_type": "stream",
     "text": [
      "     v1                                                 v2 Unnamed: 2  \\\n",
      "0   ham  Go until jurong point, crazy.. Available only ...        NaN   \n",
      "1   ham                      Ok lar... Joking wif u oni...        NaN   \n",
      "2  spam  Free entry in 2 a wkly comp to win FA Cup fina...        NaN   \n",
      "3   ham  U dun say so early hor... U c already then say...        NaN   \n",
      "4   ham  Nah I don't think he goes to usf, he lives aro...        NaN   \n",
      "\n",
      "  Unnamed: 3 Unnamed: 4  \n",
      "0        NaN        NaN  \n",
      "1        NaN        NaN  \n",
      "2        NaN        NaN  \n",
      "3        NaN        NaN  \n",
      "4        NaN        NaN  \n",
      "v1               0\n",
      "v2               0\n",
      "Unnamed: 2    5522\n",
      "Unnamed: 3    5560\n",
      "Unnamed: 4    5566\n",
      "dtype: int64\n",
      "(5572, 5)\n"
     ]
    }
   ],
   "source": [
    "import pandas as pd\n",
    "import numpy as np\n",
    "import tiktoken\n",
    "import torch\n",
    "import torch.nn as nn\n",
    "import torch.optim as optim\n",
    "from torch.utils.data import DataLoader, Dataset, random_split\n",
    "\n",
    "\n",
    "data = pd.read_csv('../data/spam.csv',encoding='cp437')\n",
    "print(data.head())\n",
    "print(data.isna().sum())\n",
    "print(data.shape)\n"
   ]
  },
  {
   "cell_type": "code",
   "execution_count": 114,
   "id": "80fe61b6",
   "metadata": {},
   "outputs": [
    {
     "name": "stdout",
     "output_type": "stream",
     "text": [
      "Extraction des données ...\n",
      "Nombre de label : 5574\n",
      "Nombre de text : 5574\n"
     ]
    }
   ],
   "source": [
    "print('Extraction des données ...')\n",
    "labels = []\n",
    "text = []\n",
    "with open('../data/spam.csv','r') as f :\n",
    "    lines = f.readlines()\n",
    "    for i in lines[1:] :\n",
    "        label = i.split(\",\")[0]\n",
    "        labels.append(1 if label == \"spam\" else 0)\n",
    "        if i.split(',')[1].startswith('\"'):  # Dans le csv, il y a des données entre \"\" qui ont ensuite le separateur virgule. On en parse pas de la même façon dans ce cas.\n",
    "            text.append(i.split('\"')[1])\n",
    "        else :\n",
    "            text.append(i.split(',')[1])\n",
    "\n",
    "print(f\"Nombre de label : {len(labels)}\")\n",
    "print(f\"Nombre de text : {len(text)}\")\n",
    "\n"
   ]
  },
  {
   "cell_type": "code",
   "execution_count": 115,
   "id": "89751a51",
   "metadata": {},
   "outputs": [
    {
     "name": "stdout",
     "output_type": "stream",
     "text": [
      "Tokenisation du texte : \n",
      "Nombre de mot de vocabulaire : 100277\n"
     ]
    }
   ],
   "source": [
    "print(\"Tokenisation du texte : \")\n",
    "tokenizer = tiktoken.get_encoding(\"cl100k_base\")\n",
    "train_tokens = [tokenizer.encode(text) for text in text]\n",
    "print(f\"Nombre de mot de vocabulaire : {tokenizer.n_vocab}\")\n"
   ]
  },
  {
   "cell_type": "code",
   "execution_count": 116,
   "id": "f3e8a1e7",
   "metadata": {},
   "outputs": [
    {
     "name": "stdout",
     "output_type": "stream",
     "text": [
      "On détermine la longueur moyenne d'une séquence : \n",
      "Moyenne : 22.21707929673484\n"
     ]
    }
   ],
   "source": [
    "print(\"On détermine la longueur moyenne d'une séquence : \")\n",
    "seq_lens = [len(seq) for seq in train_tokens]\n",
    "print(f\"Moyenne : {np.mean(seq_lens)}\")"
   ]
  },
  {
   "cell_type": "code",
   "execution_count": 117,
   "id": "4fead0c7",
   "metadata": {},
   "outputs": [
    {
     "name": "stdout",
     "output_type": "stream",
     "text": [
      "5574\n",
      "[11087, 3156, 16422, 647, 1486, 11, 14599, 497, 16528, 1193, 304, 10077, 285, 308, 2294, 1917, 1208, 384, 61886, 1131, 356, 483, 1070, 2751, 72375, 30125, 1131, 0, 0, 0]\n"
     ]
    }
   ],
   "source": [
    "def pad_sequences(sequences, max_length=30):\n",
    "    return [seq[:max_length] + [0] * (max_length - len(seq)) for seq in sequences]\n",
    "\n",
    "train_tokens_seq = pad_sequences(train_tokens)\n",
    "print(len(train_tokens_seq))\n",
    "print(train_tokens_seq[:1][0])"
   ]
  },
  {
   "cell_type": "code",
   "execution_count": 118,
   "id": "5a0346ef",
   "metadata": {},
   "outputs": [],
   "source": [
    "class IMDBDataset(Dataset):\n",
    "    def __init__(self, texts, labels):\n",
    "        self.texts = torch.tensor(texts, dtype=torch.long)\n",
    "        self.labels = torch.tensor(labels, dtype=torch.float32)\n",
    "    \n",
    "    def __len__(self):\n",
    "        return len(self.texts)\n",
    "    \n",
    "    def __getitem__(self, idx):\n",
    "        return self.texts[idx], self.labels[idx]\n",
    "    \n",
    "df_dataset = IMDBDataset(train_tokens_seq, labels)\n",
    "\n",
    "\n",
    "train_size = int(0.8 * len(df_dataset))\n",
    "val_size = len(df_dataset) - train_size\n",
    "train_dataset, val_dataset = random_split(df_dataset, [train_size, val_size])"
   ]
  },
  {
   "cell_type": "code",
   "execution_count": 119,
   "id": "9e34780d",
   "metadata": {},
   "outputs": [],
   "source": [
    "train_loader = DataLoader(train_dataset, batch_size=32, shuffle=True)\n",
    "val_loader = DataLoader(val_dataset, batch_size=32, shuffle=False)"
   ]
  },
  {
   "cell_type": "code",
   "execution_count": 120,
   "id": "5809a8a1",
   "metadata": {},
   "outputs": [],
   "source": [
    "text, label = next(iter(train_loader))"
   ]
  },
  {
   "cell_type": "code",
   "execution_count": null,
   "id": "00e959f6",
   "metadata": {},
   "outputs": [],
   "source": [
    "vocab_size = tokenizer.n_vocab\n",
    "# embedding_layer = nn.Embedding(num_embeddings=vocab_size,\n",
    "#                                embedding_dim=10, \n",
    "#                                padding_idx=0)\n",
    "# # We create a random list of three integers and use it as input for the embedding\n",
    "# # layer and take a look at the output.\n",
    "sample_input = torch.tensor([[1, 2, 3]])\n",
    "# embedded_output = embedding_layer(sample_input)\n",
    "# print(embedded_output.shape)  # Output: (3, 5)"
   ]
  },
  {
   "cell_type": "code",
   "execution_count": 130,
   "id": "76c31ed3",
   "metadata": {},
   "outputs": [],
   "source": [
    "# embedding_layer.weight.shape"
   ]
  },
  {
   "cell_type": "code",
   "execution_count": 139,
   "id": "67d29c59",
   "metadata": {},
   "outputs": [],
   "source": [
    "class TextClassifier(nn.Module):\n",
    "    def __init__(self, vocab_size, embed_dim, num_class):\n",
    "        super(TextClassifier, self).__init__()\n",
    "        self.embedding = nn.Embedding(vocab_size, embed_dim, padding_idx=0)\n",
    "        self.pooling = nn.AdaptiveAvgPool1d(1)\n",
    "        self.fc = nn.Linear(embed_dim, num_class)\n",
    "\n",
    "    def forward(self, text):\n",
    "        embedded = self.embedding(text)\n",
    "        pooled = self.pooling(embedded.permute(0, 2, 1)).squeeze(2)\n",
    "        return torch.sigmoid(self.fc(pooled))\n",
    "\n",
    "model = TextClassifier(vocab_size=vocab_size,\n",
    "                      embed_dim=16, \n",
    "                      num_class=1)"
   ]
  },
  {
   "cell_type": "code",
   "execution_count": 140,
   "id": "29f996ad",
   "metadata": {},
   "outputs": [
    {
     "data": {
      "text/plain": [
       "torch.Size([1, 3])"
      ]
     },
     "execution_count": 140,
     "metadata": {},
     "output_type": "execute_result"
    }
   ],
   "source": [
    "sample_input.shape"
   ]
  },
  {
   "cell_type": "code",
   "execution_count": 141,
   "id": "8810b8b2",
   "metadata": {},
   "outputs": [
    {
     "name": "stdout",
     "output_type": "stream",
     "text": [
      "TextClassifier(\n",
      "  (embedding): Embedding(100277, 16, padding_idx=0)\n",
      "  (pooling): AdaptiveAvgPool1d(output_size=1)\n",
      "  (fc): Linear(in_features=16, out_features=1, bias=True)\n",
      ")\n"
     ]
    },
    {
     "data": {
      "text/plain": [
       "==========================================================================================\n",
       "Layer (type:depth-idx)                   Output Shape              Param #\n",
       "==========================================================================================\n",
       "TextClassifier                           [1, 1]                    --\n",
       "├─Embedding: 1-1                         [1, 3, 16]                1,604,432\n",
       "├─AdaptiveAvgPool1d: 1-2                 [1, 16, 1]                --\n",
       "├─Linear: 1-3                            [1, 1]                    17\n",
       "==========================================================================================\n",
       "Total params: 1,604,449\n",
       "Trainable params: 1,604,449\n",
       "Non-trainable params: 0\n",
       "Total mult-adds (Units.MEGABYTES): 1.60\n",
       "==========================================================================================\n",
       "Input size (MB): 0.00\n",
       "Forward/backward pass size (MB): 0.00\n",
       "Params size (MB): 6.42\n",
       "Estimated Total Size (MB): 6.42\n",
       "=========================================================================================="
      ]
     },
     "execution_count": 141,
     "metadata": {},
     "output_type": "execute_result"
    }
   ],
   "source": [
    "from torchinfo import summary\n",
    "print(model)\n",
    "\n",
    "# Print model summary\n",
    "summary(model, input_data=sample_input)  # (batch_size, input_features)"
   ]
  },
  {
   "cell_type": "code",
   "execution_count": null,
   "id": "00443352",
   "metadata": {},
   "outputs": [
    {
     "name": "stdout",
     "output_type": "stream",
     "text": [
      "Epoch [1/10], Loss: 0.1083, Acc: 0.9816, Val Loss: 0.1153, Val Acc: 0.9803\n",
      "Epoch [2/10], Loss: 0.0919, Acc: 0.9839, Val Loss: 0.1017, Val Acc: 0.9803\n",
      "Epoch [3/10], Loss: 0.0804, Acc: 0.9861, Val Loss: 0.0914, Val Acc: 0.9821\n",
      "Epoch [4/10], Loss: 0.0711, Acc: 0.9865, Val Loss: 0.0831, Val Acc: 0.9839\n",
      "Epoch [5/10], Loss: 0.0638, Acc: 0.9879, Val Loss: 0.0764, Val Acc: 0.9848\n",
      "Epoch [6/10], Loss: 0.0577, Acc: 0.9890, Val Loss: 0.0709, Val Acc: 0.9848\n",
      "Epoch [7/10], Loss: 0.0525, Acc: 0.9908, Val Loss: 0.0662, Val Acc: 0.9848\n",
      "Epoch [8/10], Loss: 0.0479, Acc: 0.9917, Val Loss: 0.0622, Val Acc: 0.9857\n",
      "Epoch [9/10], Loss: 0.0437, Acc: 0.9922, Val Loss: 0.0585, Val Acc: 0.9865\n",
      "Epoch [10/10], Loss: 0.0401, Acc: 0.9924, Val Loss: 0.0554, Val Acc: 0.9865\n",
      "{'loss': [0.10828123622174773, 0.09187372992081301, 0.08041434653901629, 0.07112760714122228, 0.06377265963570349, 0.05768742305226624, 0.052515007089823484, 0.047869222085656866, 0.04374802684012268, 0.04005228276364505], 'val_loss': [0.11533146128058433, 0.10172148857797896, 0.0913900498832975, 0.083142983221582, 0.07640774665134294, 0.07087746315768786, 0.06616765601294382, 0.0622073570266366, 0.058509786639894756, 0.055400672262268406], 'accuracy': [0.9816102265081857, 0.9838528818120655, 0.9860955371159453, 0.9865440681767212, 0.9878896613590491, 0.989010989010989, 0.9908051132540928, 0.9917021753756448, 0.9921507064364207, 0.9923749719668087], 'val_accuracy': [0.9802690582959641, 0.9802690582959641, 0.9820627802690582, 0.9838565022421525, 0.9847533632286996, 0.9847533632286996, 0.9847533632286996, 0.9856502242152466, 0.9865470852017937, 0.9865470852017937]}\n"
     ]
    }
   ],
   "source": [
    "criterion = nn.BCELoss()\n",
    "optimizer = optim.Adam(model.parameters(), lr=0.001)\n",
    "\n",
    "def train(model, train_loader, val_loader, criterion, optimizer, epochs=100):\n",
    "    \"\"\"\n",
    "    Function to train a PyTorch model with training and validation datasets.\n",
    "    \n",
    "    Parameters:\n",
    "    model: The neural network model to train.\n",
    "    train_loader: DataLoader for the training dataset.\n",
    "    val_loader: DataLoader for the validation dataset.\n",
    "    criterion: Loss function (e.g., Binary Cross Entropy for classification).\n",
    "    optimizer: Optimization algorithm (e.g., Adam, SGD).\n",
    "    epochs: Number of training epochs (default=100).\n",
    "    \n",
    "    Returns:\n",
    "    history: Dictionary containing loss and accuracy for both training and validation.\n",
    "    \"\"\"\n",
    "    \n",
    "    # Dictionary to store training & validation loss and accuracy over epochs\n",
    "    history = {'loss': [], 'val_loss': [], 'accuracy': [], 'val_accuracy': []}\n",
    "    \n",
    "    for epoch in range(epochs):  # Loop over the number of epochs\n",
    "        model.train()  # Set model to training mode\n",
    "        total_loss, correct = 0, 0  # Initialize total loss and correct predictions\n",
    "        \n",
    "        # Training loop\n",
    "        for inputs, labels in train_loader:\n",
    "            optimizer.zero_grad()  # Reset gradients before each batch\n",
    "            outputs = model(inputs).squeeze()  # Forward pass\n",
    "            loss = criterion(outputs, labels)  # Compute loss\n",
    "            loss.backward()  # Backpropagation (compute gradients)\n",
    "            optimizer.step()  # Update model parameters\n",
    "            \n",
    "            total_loss += loss.item()  # Accumulate batch loss\n",
    "            correct += ((outputs > 0.5) == labels).sum().item()  # Count correct predictions\n",
    "        \n",
    "        # Compute average loss and accuracy for training\n",
    "        train_loss = total_loss / len(train_loader)\n",
    "        train_acc = correct / len(train_loader.dataset)\n",
    "        \n",
    "        # Validation phase (without gradient computation)\n",
    "        model.eval()  # Set model to evaluation mode\n",
    "        val_loss, val_correct = 0, 0\n",
    "        with torch.no_grad():  # No need to compute gradients during validation\n",
    "            for inputs, labels in val_loader:\n",
    "                outputs = model(inputs).squeeze()  # Forward pass\n",
    "                loss = criterion(outputs, labels)  # Compute loss\n",
    "                val_loss += loss.item()  # Accumulate validation loss\n",
    "                val_correct += ((outputs > 0.5) == labels).sum().item()  # Count correct predictions\n",
    "        \n",
    "        # Compute average loss and accuracy for validation\n",
    "        val_loss /= len(val_loader)\n",
    "        val_acc = val_correct / len(val_loader.dataset)\n",
    "        \n",
    "        # Store metrics in history dictionary\n",
    "        history['loss'].append(train_loss)\n",
    "        history['val_loss'].append(val_loss)\n",
    "        history['accuracy'].append(train_acc)\n",
    "        history['val_accuracy'].append(val_acc)\n",
    "        \n",
    "        # Print training progress\n",
    "        print(f\"Epoch [{epoch+1}/{epochs}], Loss: {train_loss:.4f}, Acc: {train_acc:.4f}, \"\n",
    "              f\"Val Loss: {val_loss:.4f}, Val Acc: {val_acc:.4f}\")\n",
    "    \n",
    "    return history  # Return training history\n",
    "\n",
    "history_after = train(model,\n",
    "                train_loader=train_loader,\n",
    "                val_loader=val_loader,\n",
    "                criterion=criterion,\n",
    "                optimizer=optimizer,\n",
    "                epochs=10)\n"
   ]
  },
  {
   "cell_type": "code",
   "execution_count": 144,
   "id": "6ae29116",
   "metadata": {},
   "outputs": [
    {
     "data": {
      "image/png": "[encoded data removed]",
      "text/plain": [
       "<Figure size 640x480 with 1 Axes>"
      ]
     },
     "metadata": {},
     "output_type": "display_data"
    }
   ],
   "source": [
    "import matplotlib.pyplot as plt\n",
    "plt.plot(history_after['loss'], label=\"train loss\")\n",
    "plt.plot(history_after['val_loss'], label=\"val loss\")\n",
    "plt.legend()\n",
    "plt.show()"
   ]
  },
  {
   "cell_type": "code",
   "execution_count": null,
   "id": "2bd8f7fe",
   "metadata": {},
   "outputs": [],
   "source": []
  }
 ],
 "metadata": {
  "kernelspec": {
   "display_name": "venv_here (3.13.2)",
   "language": "python",
   "name": "python3"
  },
  "language_info": {
   "codemirror_mode": {
    "name": "ipython",
    "version": 3
   },
   "file_extension": ".py",
   "mimetype": "text/x-python",
   "name": "python",
   "nbconvert_exporter": "python",
   "pygments_lexer": "ipython3",
   "version": "3.13.2"
  }
 },
 "nbformat": 4,
 "nbformat_minor": 5
}
