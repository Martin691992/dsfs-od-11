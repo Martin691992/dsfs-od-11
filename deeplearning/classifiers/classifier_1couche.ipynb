{
 "cells": [
  {
   "cell_type": "markdown",
   "id": "2698aaff",
   "metadata": {},
   "source": [
    "# Classifier une couche "
   ]
  },
  {
   "cell_type": "code",
   "execution_count": 2,
   "id": "fa0393d4",
   "metadata": {},
   "outputs": [],
   "source": [
    "import pandas as pd\n",
    "import numpy as np\n",
    "import tiktoken\n",
    "import torch\n",
    "import torch.nn as nn\n",
    "import torch.optim as optim\n",
    "from torch.utils.data import DataLoader, Dataset, random_split\n"
   ]
  },
  {
   "cell_type": "code",
   "execution_count": 3,
   "id": "80fe61b6",
   "metadata": {},
   "outputs": [
    {
     "name": "stdout",
     "output_type": "stream",
     "text": [
      "Extraction des données ...\n",
      "ham,\"Go until jurong point, crazy.. Available only in bugis n great world la e buffet... Cine there got amore wat...\",,,\n",
      "\n",
      "Nombre de label : 5574\n",
      "Nombre de text : 5574\n"
     ]
    }
   ],
   "source": [
    "print('Extraction des données ...')\n",
    "labels = []\n",
    "text = []\n",
    "with open('../data/spam.csv','r') as f :\n",
    "    lines = f.readlines()\n",
    "    print(lines[1])\n",
    "    for i in lines[1:] :\n",
    "        label = i.split(\",\")[0]\n",
    "        labels.append(1 if label == \"spam\" else 0)\n",
    "        if i.split(',')[1].startswith('\"'):  # Dans le csv, il y a des données entre \"\" qui ont ensuite le separateur virgule. On ne parse pas de la même façon dans ce cas.\n",
    "            text.append(i.split('\"')[1])\n",
    "        else :\n",
    "            text.append(i.split(',')[1])\n",
    "\n",
    "print(f\"Nombre de label : {len(labels)}\")\n",
    "print(f\"Nombre de text : {len(text)}\")\n",
    "\n"
   ]
  },
  {
   "cell_type": "code",
   "execution_count": 4,
   "id": "89751a51",
   "metadata": {},
   "outputs": [
    {
     "name": "stdout",
     "output_type": "stream",
     "text": [
      "Tokenisation du texte : \n",
      "Nombre de mot de vocabulaire : 100277\n"
     ]
    }
   ],
   "source": [
    "print(\"Tokenisation du texte : \")\n",
    "tokenizer = tiktoken.get_encoding(\"cl100k_base\")\n",
    "train_tokens = [tokenizer.encode(text) for text in text]\n",
    "print(f\"Nombre de mot de vocabulaire : {tokenizer.n_vocab}\")\n"
   ]
  },
  {
   "cell_type": "code",
   "execution_count": 5,
   "id": "f3e8a1e7",
   "metadata": {},
   "outputs": [
    {
     "name": "stdout",
     "output_type": "stream",
     "text": [
      "On détermine la longueur moyenne d'une séquence : \n",
      "Moyenne : 22.21707929673484\n",
      "Max : 259\n"
     ]
    }
   ],
   "source": [
    "print(\"On détermine la longueur moyenne d'une séquence : \")\n",
    "seq_lens = [len(seq) for seq in train_tokens]\n",
    "print(f\"Moyenne : {np.mean(seq_lens)}\")\n",
    "print(f\"Max : {np.max(seq_lens)}\")"
   ]
  },
  {
   "cell_type": "code",
   "execution_count": 6,
   "id": "4fead0c7",
   "metadata": {},
   "outputs": [
    {
     "name": "stdout",
     "output_type": "stream",
     "text": [
      "5574\n",
      "[[11087, 3156, 16422, 647, 1486, 11, 14599, 497, 16528, 1193, 304, 10077, 285, 308, 2294, 1917, 1208, 384, 61886, 1131, 356, 483, 1070, 2751, 72375]]\n"
     ]
    }
   ],
   "source": [
    "def pad_sequences(sequences, max_length=25):\n",
    "    return [seq[:max_length] + [0] * (max_length - len(seq)) for seq in sequences]\n",
    "\n",
    "train_tokens_seq = pad_sequences(train_tokens)\n",
    "print(len(train_tokens_seq))\n",
    "print(train_tokens_seq[:1])"
   ]
  },
  {
   "cell_type": "code",
   "execution_count": 7,
   "id": "5a0346ef",
   "metadata": {},
   "outputs": [
    {
     "name": "stdout",
     "output_type": "stream",
     "text": [
      "tensor([[11087,  3156, 16422,   647,  1486,    11, 14599,   497, 16528,  1193,\n",
      "           304, 10077,   285,   308,  2294,  1917,  1208,   384, 61886,  1131,\n",
      "           356,   483,  1070,  2751, 72375],\n",
      "        [11839, 45555,  1131,   622, 10979,   289,   333,   577,   389,    72,\n",
      "          1131,     0,     0,     0,     0,     0,     0,     0,     0,     0,\n",
      "             0,     0,     0,     0,     0],\n",
      "        [11180,  4441,   304,   220,    17,   264, 74860,   398,  1391,   311,\n",
      "          3243, 15358, 11098,  1620, 17603,  2641,   220,  1691,   267,  3297,\n",
      "           220,  1049,    20,    13,  2991],\n",
      "        [   52, 50116,  2019,   779,  4216,  4917,  1131,   549,   272,  2736,\n",
      "          1243,  2019,  1131,     0,     0,     0,     0,     0,     0,     0,\n",
      "             0,     0,     0,     0,     0],\n",
      "        [   45,  1494,   358,  1541,   956,  1781,   568,  5900,   311,   603,\n",
      "            69,    11,   568,  6439,  2212,  1618,  3582,     0,     0,     0,\n",
      "             0,     0,     0,     0,     0]])\n"
     ]
    }
   ],
   "source": [
    "class IMDBDataset(Dataset):\n",
    "    def __init__(self, texts, labels):\n",
    "        self.texts = torch.tensor(texts, dtype=torch.long)\n",
    "        self.labels = torch.tensor(labels, dtype=torch.float32)\n",
    "    \n",
    "    def __len__(self):\n",
    "        return len(self.texts)\n",
    "    \n",
    "    def __getitem__(self, idx):\n",
    "        return self.texts[idx], self.labels[idx]\n",
    "    \n",
    "df_dataset = IMDBDataset(train_tokens_seq, labels)\n",
    "\n",
    "print(df_dataset.texts[:5])\n",
    "\n",
    "train_size = int(0.8 * len(df_dataset))\n",
    "val_size = len(df_dataset) - train_size\n",
    "train_dataset, val_dataset = random_split(df_dataset, [train_size, val_size])"
   ]
  },
  {
   "cell_type": "code",
   "execution_count": 8,
   "id": "9e34780d",
   "metadata": {},
   "outputs": [],
   "source": [
    "train_loader = DataLoader(train_dataset, batch_size=32, shuffle=True)\n",
    "val_loader = DataLoader(val_dataset, batch_size=32, shuffle=False)"
   ]
  },
  {
   "cell_type": "code",
   "execution_count": 9,
   "id": "5809a8a1",
   "metadata": {},
   "outputs": [],
   "source": [
    "# text, label = next(iter(train_loader))"
   ]
  },
  {
   "cell_type": "code",
   "execution_count": 10,
   "id": "00e959f6",
   "metadata": {},
   "outputs": [],
   "source": [
    "vocab_size = tokenizer.n_vocab\n",
    "sample_input = torch.tensor([[1, 2, 3]])\n",
    "\n",
    "# embedding_layer = nn.Embedding(num_embeddings=vocab_size,\n",
    "#                                embedding_dim=10, \n",
    "#                                padding_idx=0)\n",
    "# # We create a random list of three integers and use it as input for the embedding\n",
    "# # layer and take a look at the output.\n",
    "# embedded_output = embedding_layer(sample_input)\n",
    "# print(embedded_output.shape)  # Output: (3, 5)"
   ]
  },
  {
   "cell_type": "code",
   "execution_count": 11,
   "id": "76c31ed3",
   "metadata": {},
   "outputs": [],
   "source": [
    "# embedding_layer.weight.shape"
   ]
  },
  {
   "cell_type": "code",
   "execution_count": 12,
   "id": "67d29c59",
   "metadata": {},
   "outputs": [],
   "source": [
    "class TextClassifier(nn.Module):\n",
    "    def __init__(self, vocab_size, embed_dim,num_class):\n",
    "        super().__init__()\n",
    "        self.embedding = nn.Embedding(vocab_size, embed_dim, padding_idx=0)\n",
    "        self.pooling = nn.AdaptiveAvgPool1d(1)\n",
    "        self.fc = nn.Linear(embed_dim, num_class)\n",
    "\n",
    "    def forward(self, text):\n",
    "        embedded = self.embedding(text)\n",
    "        pooled = self.pooling(embedded.permute(0, 2, 1)).squeeze(2)\n",
    "\n",
    "        return torch.sigmoid(self.fc(pooled))\n",
    "\n",
    "model = TextClassifier(vocab_size=vocab_size,\n",
    "                      embed_dim=16, \n",
    "                      num_class=1)"
   ]
  },
  {
   "cell_type": "code",
   "execution_count": 13,
   "id": "8810b8b2",
   "metadata": {},
   "outputs": [
    {
     "name": "stdout",
     "output_type": "stream",
     "text": [
      "TextClassifier(\n",
      "  (embedding): Embedding(100277, 16, padding_idx=0)\n",
      "  (pooling): AdaptiveAvgPool1d(output_size=1)\n",
      "  (fc): Linear(in_features=16, out_features=1, bias=True)\n",
      ")\n"
     ]
    },
    {
     "data": {
      "text/plain": [
       "==========================================================================================\n",
       "Layer (type:depth-idx)                   Output Shape              Param #\n",
       "==========================================================================================\n",
       "TextClassifier                           [1, 1]                    --\n",
       "├─Embedding: 1-1                         [1, 3, 16]                1,604,432\n",
       "├─AdaptiveAvgPool1d: 1-2                 [1, 16, 1]                --\n",
       "├─Linear: 1-3                            [1, 1]                    17\n",
       "==========================================================================================\n",
       "Total params: 1,604,449\n",
       "Trainable params: 1,604,449\n",
       "Non-trainable params: 0\n",
       "Total mult-adds (Units.MEGABYTES): 1.60\n",
       "==========================================================================================\n",
       "Input size (MB): 0.00\n",
       "Forward/backward pass size (MB): 0.00\n",
       "Params size (MB): 6.42\n",
       "Estimated Total Size (MB): 6.42\n",
       "=========================================================================================="
      ]
     },
     "execution_count": 13,
     "metadata": {},
     "output_type": "execute_result"
    }
   ],
   "source": [
    "from torchinfo import summary\n",
    "print(model)\n",
    "\n",
    "# Print model summary\n",
    "summary(model, input_data=sample_input)  # (batch_size, input_features)"
   ]
  },
  {
   "cell_type": "code",
   "execution_count": null,
   "id": "00443352",
   "metadata": {},
   "outputs": [
    {
     "name": "stdout",
     "output_type": "stream",
     "text": [
      "Epoch [1/10], Loss: 0.5792, Acc: 0.8684, Val Loss: 0.5457, Val Acc: 0.8556\n",
      "Epoch [2/10], Loss: 0.4937, Acc: 0.8693, Val Loss: 0.4581, Val Acc: 0.8601\n",
      "Epoch [3/10], Loss: 0.4008, Acc: 0.8778, Val Loss: 0.3730, Val Acc: 0.8753\n",
      "Epoch [4/10], Loss: 0.3196, Acc: 0.8993, Val Loss: 0.3055, Val Acc: 0.9013\n",
      "Epoch [5/10], Loss: 0.2577, Acc: 0.9237, Val Loss: 0.2531, Val Acc: 0.9220\n",
      "Epoch [6/10], Loss: 0.2098, Acc: 0.9486, Val Loss: 0.2130, Val Acc: 0.9453\n",
      "Epoch [7/10], Loss: 0.1740, Acc: 0.9623, Val Loss: 0.1830, Val Acc: 0.9570\n",
      "Epoch [8/10], Loss: 0.1459, Acc: 0.9711, Val Loss: 0.1607, Val Acc: 0.9614\n",
      "Epoch [9/10], Loss: 0.1247, Acc: 0.9762, Val Loss: 0.1438, Val Acc: 0.9641\n",
      "Epoch [10/10], Loss: 0.1081, Acc: 0.9796, Val Loss: 0.1305, Val Acc: 0.9677\n"
     ]
    }
   ],
   "source": [
    "criterion = nn.BCELoss()\n",
    "optimizer = optim.Adam(model.parameters(), lr=0.001)\n",
    "\n",
    "def train(model, train_loader, val_loader, criterion, optimizer, epochs=10):\n",
    "\n",
    "    #From Jedha course\n",
    "    \"\"\"\n",
    "    Function to train a PyTorch model with training and validation datasets.\n",
    "    \n",
    "    Parameters:\n",
    "    model: The neural network model to train.\n",
    "    train_loader: DataLoader for the training dataset.\n",
    "    val_loader: DataLoader for the validation dataset.\n",
    "    criterion: Loss function (e.g., Binary Cross Entropy for classification).\n",
    "    optimizer: Optimization algorithm (e.g., Adam, SGD).\n",
    "    epochs: Number of training epochs (default=100).\n",
    "    \n",
    "    Returns:\n",
    "    history: Dictionary containing loss and accuracy for both training and validation.\n",
    "    \"\"\"\n",
    "    \n",
    "    # Dictionary to store training & validation loss and accuracy over epochs\n",
    "    history = {'loss': [], 'val_loss': [], 'accuracy': [], 'val_accuracy': []}\n",
    "    \n",
    "    for epoch in range(epochs):  # Loop over the number of epochs\n",
    "        model.train()  # Set model to training mode\n",
    "        total_loss, correct = 0, 0  # Initialize total loss and correct predictions\n",
    "        \n",
    "        # Training loop\n",
    "        for inputs, labels in train_loader:\n",
    "            optimizer.zero_grad()  # Reset gradients before each batch\n",
    "            outputs = model(inputs).squeeze()  # Forward pass\n",
    "            loss = criterion(outputs, labels)  # Compute loss\n",
    "            loss.backward()  # Backpropagation (compute gradients)\n",
    "            optimizer.step()  # Update model parameters\n",
    "            \n",
    "            total_loss += loss.item()  # Accumulate batch loss\n",
    "            correct += ((outputs > 0.5) == labels).sum().item()  # Count correct predictions\n",
    "        \n",
    "        # Compute average loss and accuracy for training\n",
    "        train_loss = total_loss / len(train_loader)\n",
    "        train_acc = correct / len(train_loader.dataset)\n",
    "        \n",
    "        # Validation phase (without gradient computation)\n",
    "        model.eval()  # Set model to evaluation mode\n",
    "        val_loss, val_correct = 0, 0\n",
    "        with torch.no_grad():  # No need to compute gradients during validation\n",
    "            for inputs, labels in val_loader:\n",
    "                outputs = model(inputs).squeeze()  # Forward pass\n",
    "                loss = criterion(outputs, labels)  # Compute loss\n",
    "                val_loss += loss.item()  # Accumulate validation loss\n",
    "                val_correct += ((outputs > 0.5) == labels).sum().item()  # Count correct predictions\n",
    "        \n",
    "        # Compute average loss and accuracy for validation\n",
    "        val_loss /= len(val_loader)\n",
    "        val_acc = val_correct / len(val_loader.dataset)\n",
    "        \n",
    "        # Store metrics in history dictionary\n",
    "        history['loss'].append(train_loss)\n",
    "        history['val_loss'].append(val_loss)\n",
    "        history['accuracy'].append(train_acc)\n",
    "        history['val_accuracy'].append(val_acc)\n",
    "        \n",
    "        # Print training progress\n",
    "        print(f\"Epoch [{epoch+1}/{epochs}], Loss: {train_loss:.4f}, Acc: {train_acc:.4f}, \"\n",
    "              f\"Val Loss: {val_loss:.4f}, Val Acc: {val_acc:.4f}\")\n",
    "    \n",
    "    return history  # Return training history\n",
    "\n",
    "history_after = train(model,\n",
    "                train_loader=train_loader,\n",
    "                val_loader=val_loader,\n",
    "                criterion=criterion,\n",
    "                optimizer=optimizer,\n",
    "                epochs=10)\n"
   ]
  },
  {
   "cell_type": "code",
   "execution_count": 15,
   "id": "6ae29116",
   "metadata": {},
   "outputs": [
    {
     "data": {
      "image/png": "[encoded data removed]",
      "text/plain": [
       "<Figure size 640x480 with 1 Axes>"
      ]
     },
     "metadata": {},
     "output_type": "display_data"
    }
   ],
   "source": [
    "import matplotlib.pyplot as plt\n",
    "plt.plot(history_after['loss'], label=\"train loss\")\n",
    "plt.plot(history_after['val_loss'], label=\"val loss\")\n",
    "plt.legend()\n",
    "plt.show()"
   ]
  },
  {
   "cell_type": "code",
   "execution_count": null,
   "id": "2bd8f7fe",
   "metadata": {},
   "outputs": [],
   "source": []
  }
 ],
 "metadata": {
  "kernelspec": {
   "display_name": "venv_here (3.13.2)",
   "language": "python",
   "name": "python3"
  },
  "language_info": {
   "codemirror_mode": {
    "name": "ipython",
    "version": 3
   },
   "file_extension": ".py",
   "mimetype": "text/x-python",
   "name": "python",
   "nbconvert_exporter": "python",
   "pygments_lexer": "ipython3",
   "version": "3.13.2"
  }
 },
 "nbformat": 4,
 "nbformat_minor": 5
}
