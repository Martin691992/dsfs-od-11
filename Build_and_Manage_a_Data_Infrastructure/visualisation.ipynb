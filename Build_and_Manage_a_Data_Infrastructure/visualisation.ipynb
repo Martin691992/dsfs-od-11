{
 "cells": [
  {
   "cell_type": "code",
   "execution_count": 5,
   "id": "1d9cf756",
   "metadata": {},
   "outputs": [
    {
     "data": {
      "text/html": [
       "<div>\n",
       "<style scoped>\n",
       "    .dataframe tbody tr th:only-of-type {\n",
       "        vertical-align: middle;\n",
       "    }\n",
       "\n",
       "    .dataframe tbody tr th {\n",
       "        vertical-align: top;\n",
       "    }\n",
       "\n",
       "    .dataframe thead th {\n",
       "        text-align: right;\n",
       "    }\n",
       "</style>\n",
       "<table border=\"1\" class=\"dataframe\">\n",
       "  <thead>\n",
       "    <tr style=\"text-align: right;\">\n",
       "      <th></th>\n",
       "      <th>id_ville</th>\n",
       "      <th>ville</th>\n",
       "      <th>url</th>\n",
       "      <th>nom_hotel</th>\n",
       "    </tr>\n",
       "    <tr>\n",
       "      <th>id</th>\n",
       "      <th></th>\n",
       "      <th></th>\n",
       "      <th></th>\n",
       "      <th></th>\n",
       "    </tr>\n",
       "  </thead>\n",
       "  <tbody>\n",
       "    <tr>\n",
       "      <th>1</th>\n",
       "      <td>2</td>\n",
       "      <td>Bayeux</td>\n",
       "      <td>https://www.booking.com/searchresults.fr.html?...</td>\n",
       "      <td>Hotel Le Lion D'Or et Restaurant La Table Du Lion</td>\n",
       "    </tr>\n",
       "    <tr>\n",
       "      <th>2</th>\n",
       "      <td>2</td>\n",
       "      <td>Bayeux</td>\n",
       "      <td>https://www.booking.com/searchresults.fr.html?...</td>\n",
       "      <td>Grand Hôtel du Luxembourg &amp; Spa</td>\n",
       "    </tr>\n",
       "    <tr>\n",
       "      <th>3</th>\n",
       "      <td>2</td>\n",
       "      <td>Bayeux</td>\n",
       "      <td>https://www.booking.com/searchresults.fr.html?...</td>\n",
       "      <td>Hôtel De Brunville &amp; Spa</td>\n",
       "    </tr>\n",
       "    <tr>\n",
       "      <th>4</th>\n",
       "      <td>2</td>\n",
       "      <td>Bayeux</td>\n",
       "      <td>https://www.booking.com/searchresults.fr.html?...</td>\n",
       "      <td>Hotel Reine Mathilde</td>\n",
       "    </tr>\n",
       "    <tr>\n",
       "      <th>5</th>\n",
       "      <td>2</td>\n",
       "      <td>Bayeux</td>\n",
       "      <td>https://www.booking.com/searchresults.fr.html?...</td>\n",
       "      <td>Domaine de Bayeux</td>\n",
       "    </tr>\n",
       "  </tbody>\n",
       "</table>\n",
       "</div>"
      ],
      "text/plain": [
       "    id_ville   ville                                                url  \\\n",
       "id                                                                        \n",
       "1          2  Bayeux  https://www.booking.com/searchresults.fr.html?...   \n",
       "2          2  Bayeux  https://www.booking.com/searchresults.fr.html?...   \n",
       "3          2  Bayeux  https://www.booking.com/searchresults.fr.html?...   \n",
       "4          2  Bayeux  https://www.booking.com/searchresults.fr.html?...   \n",
       "5          2  Bayeux  https://www.booking.com/searchresults.fr.html?...   \n",
       "\n",
       "                                            nom_hotel  \n",
       "id                                                     \n",
       "1   Hotel Le Lion D'Or et Restaurant La Table Du Lion  \n",
       "2                     Grand Hôtel du Luxembourg & Spa  \n",
       "3                            Hôtel De Brunville & Spa  \n",
       "4                                Hotel Reine Mathilde  \n",
       "5                                   Domaine de Bayeux  "
      ]
     },
     "execution_count": 5,
     "metadata": {},
     "output_type": "execute_result"
    }
   ],
   "source": [
    "import pandas as pd\n",
    "from etl_sql.sqlAlchemy.connect import AlchemyConn\n",
    "\n",
    "\n",
    "engine = AlchemyConn()\n",
    "\n",
    "df_hotels = pd.read_sql('SELECT * FROM hotels', con=engine.engine)\n",
    "df_hotels.set_index('id',inplace=True)\n",
    "df_hotels.head()"
   ]
  },
  {
   "cell_type": "code",
   "execution_count": null,
   "id": "01640677",
   "metadata": {},
   "outputs": [
    {
     "data": {
      "text/plain": [
       "(875, 4)"
      ]
     },
     "execution_count": 6,
     "metadata": {},
     "output_type": "execute_result"
    }
   ],
   "source": [
    "df_hotels.shape"
   ]
  },
  {
   "cell_type": "code",
   "execution_count": null,
   "id": "66cb1d00",
   "metadata": {},
   "outputs": [],
   "source": []
  }
 ],
 "metadata": {
  "kernelspec": {
   "display_name": "venv",
   "language": "python",
   "name": "python3"
  },
  "language_info": {
   "codemirror_mode": {
    "name": "ipython",
    "version": 3
   },
   "file_extension": ".py",
   "mimetype": "text/x-python",
   "name": "python",
   "nbconvert_exporter": "python",
   "pygments_lexer": "ipython3",
   "version": "3.13.1"
  }
 },
 "nbformat": 4,
 "nbformat_minor": 5
}
